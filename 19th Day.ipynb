{
 "cells": [
  {
   "cell_type": "code",
   "execution_count": 3,
   "id": "9bdbeaf3-e483-4261-b916-6d13412fa59b",
   "metadata": {},
   "outputs": [
    {
     "name": "stdin",
     "output_type": "stream",
     "text": [
      "Enter a sentence I am so so so happy.\n"
     ]
    },
    {
     "name": "stdout",
     "output_type": "stream",
     "text": [
      "Word frequency {'I': 1, 'am': 1, 'so': 3, 'happy.': 1}\n"
     ]
    }
   ],
   "source": [
    "#Count Word Frequency in a Sentence\n",
    "\n",
    "sentence = input(\"Enter a sentence\")\n",
    "words = sentence.split()\n",
    "word_count = {}\n",
    "for word in words:\n",
    "    word_count[word] = word_count.get(word, 0) + 1\n",
    "print(\"Word frequency\", word_count)"
   ]
  },
  {
   "cell_type": "code",
   "execution_count": 4,
   "id": "9836e518-9bac-4d29-93da-5bc65f213e62",
   "metadata": {},
   "outputs": [
    {
     "name": "stdout",
     "output_type": "stream",
     "text": [
      "Unique values [2, 4, 5, 6, 7, 9]\n"
     ]
    }
   ],
   "source": [
    "#Program to Remove Duplicates from List\n",
    "\n",
    "nums = [2, 4, 5, 7, 9, 9, 4, 5, 6, 2, 7]\n",
    "unique = list(set(nums))\n",
    "print(\"Unique values\", unique)"
   ]
  },
  {
   "cell_type": "code",
   "execution_count": 8,
   "id": "14c42e76-bddc-47bc-a892-05da856c61ac",
   "metadata": {},
   "outputs": [
    {
     "name": "stdin",
     "output_type": "stream",
     "text": [
      "Enter temperature in Celsius 23\n"
     ]
    },
    {
     "name": "stdout",
     "output_type": "stream",
     "text": [
      "Temperature in Fahrenheit 73.4\n"
     ]
    }
   ],
   "source": [
    "#Temperature Converter (Celsius to Fahrenheit)\n",
    "\n",
    "def celsius_to_fahrenheit(c):\n",
    "    return (c * 9/5) + 32\n",
    "\n",
    "temp_c = float(input(\"Enter temperature in Celsius\"))\n",
    "print(\"Temperature in Fahrenheit\", celsius_to_fahrenheit(temp_c))"
   ]
  },
  {
   "cell_type": "code",
   "execution_count": 10,
   "id": "cdb5dbb2-0e1e-4895-b4d6-7d7389ad9eea",
   "metadata": {},
   "outputs": [
    {
     "name": "stdin",
     "output_type": "stream",
     "text": [
      "Enter total minutes 156\n"
     ]
    },
    {
     "name": "stdout",
     "output_type": "stream",
     "text": [
      "2 hour(s) and 36 minute(s)\n"
     ]
    }
   ],
   "source": [
    "#Convert Minutes to Hours and Minutes\n",
    "\n",
    "mins = int(input(\"Enter total minutes\"))\n",
    "hours = mins // 60\n",
    "remaining = mins % 60\n",
    "print(f\"{hours} hour(s) and {remaining} minute(s)\")"
   ]
  },
  {
   "cell_type": "code",
   "execution_count": 13,
   "id": "6a1d6638-87d6-489d-a1f1-8656e77b9d53",
   "metadata": {},
   "outputs": [
    {
     "name": "stdout",
     "output_type": "stream",
     "text": [
      "After removing empty strings ['apple', 'banana', 'cherry']\n"
     ]
    }
   ],
   "source": [
    "#Remove Empty Strings from List\n",
    "\n",
    "words = [\"apple\", \"\", \"banana\", \"\", \"cherry\"]\n",
    "cleaned = [word for word in words if word]\n",
    "print(\"After removing empty strings\", cleaned)"
   ]
  },
  {
   "cell_type": "code",
   "execution_count": 16,
   "id": "0158e36e-f5cd-4c48-902e-6bc48655c7bd",
   "metadata": {},
   "outputs": [
    {
     "name": "stdout",
     "output_type": "stream",
     "text": [
      "{'name': 'Rutuja', 'age': 22, 'course': 'Data Analytics'}\n"
     ]
    }
   ],
   "source": [
    "#Create a Dictionary from Two Lists\n",
    "\n",
    "keys = [\"name\", \"age\", \"course\"]\n",
    "values = [\"Rutuja\", 22, \"Data Analytics\"]\n",
    "\n",
    "data = dict(zip(keys, values))\n",
    "print(data)"
   ]
  },
  {
   "cell_type": "code",
   "execution_count": 20,
   "id": "e98c8ae1-32d5-4ccd-87fc-01f260e6644d",
   "metadata": {},
   "outputs": [
    {
     "name": "stdout",
     "output_type": "stream",
     "text": [
      "Letters ['R', 'u', 't', 'u', 'j', 'a', 'K', 'h', 'o', 's', 'e']\n",
      "Digits ['2', '0', '0', '3', '2', '7', '8', '3']\n",
      "Symbols ['@', '#']\n"
     ]
    }
   ],
   "source": [
    "#Group Characters by Type (Alpha, Digit, Symbol)\n",
    "\n",
    "text = \"Rutuja2003@Khose#2783\"\n",
    "alpha, digit, symbol = [], [], []\n",
    "\n",
    "for ch in text:\n",
    "    if ch.isalpha():\n",
    "        alpha.append(ch)\n",
    "    elif ch.isdigit():\n",
    "        digit.append(ch)\n",
    "    else:\n",
    "        symbol.append(ch)\n",
    "\n",
    "print(\"Letters\", alpha)\n",
    "print(\"Digits\", digit)\n",
    "print(\"Symbols\", symbol)"
   ]
  },
  {
   "cell_type": "code",
   "execution_count": 23,
   "id": "3c1ac068-4a1a-49e4-9929-9b7b4a1f0f73",
   "metadata": {},
   "outputs": [
    {
     "name": "stdout",
     "output_type": "stream",
     "text": [
      "Sorted by age [('Shruti', 20), ('Rutuja', 22), ('Ajay', 41)]\n"
     ]
    }
   ],
   "source": [
    "#Sort List of Tuples by Second Value\n",
    "\n",
    "data = [(\"Rutuja\", 22), (\"Shruti\", 20), (\"Ajay\", 41)]\n",
    "\n",
    "sorted_data = sorted(data, key=lambda x: x[1])\n",
    "print(\"Sorted by age\", sorted_data)"
   ]
  },
  {
   "cell_type": "code",
   "execution_count": 24,
   "id": "a149867e-7821-4d63-8162-8e17cb565015",
   "metadata": {},
   "outputs": [
    {
     "name": "stdout",
     "output_type": "stream",
     "text": [
      "Timer started for 5 seconds...\n",
      "Time's up!\n"
     ]
    }
   ],
   "source": [
    "#Basic Time Tracker (Timer Simulation)\n",
    "\n",
    "import time\n",
    "print(\"Timer started for 5 seconds...\")\n",
    "time.sleep(5)\n",
    "print(\"Time's up!\")"
   ]
  },
  {
   "cell_type": "code",
   "execution_count": 27,
   "id": "2a84ceba-9e68-4986-80e8-957d99769124",
   "metadata": {},
   "outputs": [
    {
     "name": "stdin",
     "output_type": "stream",
     "text": [
      "Enter your password Rutuja&123456\n"
     ]
    },
    {
     "name": "stdout",
     "output_type": "stream",
     "text": [
      "Strong password 💪\n"
     ]
    }
   ],
   "source": [
    "#Program: Create a Simple Password Strength Checker\n",
    "\n",
    "password = input(\"Enter your password\")\n",
    "\n",
    "length = len(password) >= 8\n",
    "has_upper = any(char.isupper() for char in password)\n",
    "has_lower = any(char.islower() for char in password)\n",
    "has_digit = any(char.isdigit() for char in password)\n",
    "has_special = any(char in \"!@#$%^&*()-_=+{}[]|\\\\:;\\\"'<>,.?/\" for char in password)\n",
    "\n",
    "if all([length, has_upper, has_lower, has_digit, has_special]):\n",
    "    print(\"Strong password 💪\")\n",
    "else:\n",
    "    print(\"Weak password ⚠️\")"
   ]
  },
  {
   "cell_type": "code",
   "execution_count": null,
   "id": "be405436-57eb-4584-8be9-924fe0e09e22",
   "metadata": {},
   "outputs": [],
   "source": []
  }
 ],
 "metadata": {
  "kernelspec": {
   "display_name": "Python 3 (ipykernel)",
   "language": "python",
   "name": "python3"
  },
  "language_info": {
   "codemirror_mode": {
    "name": "ipython",
    "version": 3
   },
   "file_extension": ".py",
   "mimetype": "text/x-python",
   "name": "python",
   "nbconvert_exporter": "python",
   "pygments_lexer": "ipython3",
   "version": "3.13.5"
  }
 },
 "nbformat": 4,
 "nbformat_minor": 5
}
