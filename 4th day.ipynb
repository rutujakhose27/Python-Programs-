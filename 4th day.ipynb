{
 "cells": [
  {
   "cell_type": "code",
   "execution_count": 2,
   "id": "c35a8cdf-8505-4287-a1a4-275eab984dee",
   "metadata": {},
   "outputs": [
    {
     "name": "stdin",
     "output_type": "stream",
     "text": [
      "Type 'exit' to stop:  Hello\n"
     ]
    },
    {
     "name": "stdout",
     "output_type": "stream",
     "text": [
      "You typed: Hello\n"
     ]
    },
    {
     "name": "stdin",
     "output_type": "stream",
     "text": [
      "Type 'exit' to stop:  How are you\n"
     ]
    },
    {
     "name": "stdout",
     "output_type": "stream",
     "text": [
      "You typed: How are you\n"
     ]
    },
    {
     "name": "stdin",
     "output_type": "stream",
     "text": [
      "Type 'exit' to stop:  exit\n"
     ]
    }
   ],
   "source": [
    "#infinite loop with break\n",
    "while True:\n",
    "    command = input(\"Type 'exit' to stop: \")\n",
    "    if command.lower() == \"exit\":\n",
    "        break\n",
    "    print(\"You typed:\", command)"
   ]
  },
  {
   "cell_type": "code",
   "execution_count": 5,
   "id": "8eec5ced-1775-49c5-9b31-7e07a4f8091a",
   "metadata": {},
   "outputs": [
    {
     "name": "stdin",
     "output_type": "stream",
     "text": [
      "Enter a positive number:  -39\n",
      "Enter a positive number:  -98\n",
      "Enter a positive number:  48\n"
     ]
    },
    {
     "name": "stdout",
     "output_type": "stream",
     "text": [
      "You entered: 48\n"
     ]
    }
   ],
   "source": [
    "#take a number until it is a positive\n",
    "num = -1\n",
    "while num <= 0:\n",
    "    num = int(input(\"Enter a positive number: \"))\n",
    "print(\"You entered:\", num)"
   ]
  },
  {
   "cell_type": "code",
   "execution_count": 2,
   "id": "91960636-af90-40db-82cc-c036c56946d6",
   "metadata": {},
   "outputs": [
    {
     "name": "stdout",
     "output_type": "stream",
     "text": [
      "10\n",
      "9\n",
      "8\n",
      "7\n",
      "6\n",
      "5\n",
      "4\n",
      "3\n",
      "2\n",
      "1\n",
      "Welcome\n"
     ]
    }
   ],
   "source": [
    "#countdwon timer\n",
    "# Countdown from 10 to 1\n",
    "count = 10\n",
    "while count > 0:\n",
    "    print(count)\n",
    "    count -= 1\n",
    "print(\"Welcome\")\n"
   ]
  },
  {
   "cell_type": "code",
   "execution_count": 5,
   "id": "d7665aeb-8eb2-4fb4-b56f-be6df21c9c71",
   "metadata": {},
   "outputs": [
    {
     "name": "stdout",
     "output_type": "stream",
     "text": [
      "Enter numbers to add. Enter 0 to stop\n"
     ]
    },
    {
     "name": "stdin",
     "output_type": "stream",
     "text": [
      "Enter a number 3\n",
      "Enter a number 7\n",
      "Enter a number 9\n",
      "Enter a number 67\n",
      "Enter a number 76\n",
      "Enter a number 56\n",
      "Enter a number 0\n"
     ]
    },
    {
     "name": "stdout",
     "output_type": "stream",
     "text": [
      "Total sum: 218\n"
     ]
    }
   ],
   "source": [
    "#sum of positive number until enter 0\n",
    "# Adds numbers entered by the user until 0 is entered\n",
    "total = 0\n",
    "a= None\n",
    "print(\"Enter numbers to add. Enter 0 to stop\")\n",
    "while a!= 0:\n",
    "    a = int(input(\"Enter a number\"))\n",
    "    total += a\n",
    "print(\"Total sum:\", total)"
   ]
  },
  {
   "cell_type": "code",
   "execution_count": 7,
   "id": "868d45e7-b8a4-4d01-96d2-5d22c39ce6b3",
   "metadata": {},
   "outputs": [
    {
     "name": "stdin",
     "output_type": "stream",
     "text": [
      "Enter the password 123456\n",
      "Enter the password rutuja\n",
      "Enter the password Rutuja\n",
      "Enter the password Madhu@2783\n"
     ]
    },
    {
     "name": "stdout",
     "output_type": "stream",
     "text": [
      "Access granted!\n"
     ]
    }
   ],
   "source": [
    "# Repeats asking for the password until it's correct\n",
    "correct_password = \"Madhu@2783\"\n",
    "user_input = \"\"\n",
    "while(user_input != correct_password):\n",
    "    user_input = input(\"Enter the password\")\n",
    "print(\"Access granted!\")"
   ]
  },
  {
   "cell_type": "code",
   "execution_count": 16,
   "id": "6a0da2f7-7bee-49dc-894f-f496af51f209",
   "metadata": {},
   "outputs": [
    {
     "name": "stdin",
     "output_type": "stream",
     "text": [
      "Enter your score (0–100) 78\n"
     ]
    },
    {
     "name": "stdout",
     "output_type": "stream",
     "text": [
      "Grade: III\n"
     ]
    }
   ],
   "source": [
    "#garding system\n",
    "score = int(input(\"Enter your score (0–100)\"))\n",
    "if(score >= 90):\n",
    "    print(\"Grade: I\")\n",
    "elif(score >= 80):\n",
    "    print(\"Grade: II\")\n",
    "elif(score >= 70):\n",
    "    print(\"Grade: III\")\n",
    "elif(score >= 60):\n",
    "    print(\"Grade: IV\")\n",
    "else:\n",
    "    print(\"Grade: V\")"
   ]
  },
  {
   "cell_type": "code",
   "execution_count": 15,
   "id": "3a39c9ac-a8ff-473b-b556-aac9b5b567e9",
   "metadata": {},
   "outputs": [
    {
     "name": "stdin",
     "output_type": "stream",
     "text": [
      "Enter username Admin\n",
      "Enter password 56789\n"
     ]
    },
    {
     "name": "stdout",
     "output_type": "stream",
     "text": [
      "Login successful!\n"
     ]
    }
   ],
   "source": [
    "#login example\n",
    "username = input(\"Enter username\")\n",
    "password = input(\"Enter password\")\n",
    "if(username == \"Admin\" and password == \"56789\"):\n",
    "    print(\"Login successful!\")\n",
    "else:\n",
    "    print(\"Invalid username or password\")"
   ]
  },
  {
   "cell_type": "code",
   "execution_count": 17,
   "id": "561bde6b-01bf-42e9-934e-a65974b5b81d",
   "metadata": {},
   "outputs": [
    {
     "name": "stdin",
     "output_type": "stream",
     "text": [
      "Enter amount to withdraw 4567\n"
     ]
    },
    {
     "name": "stdout",
     "output_type": "stream",
     "text": [
      "Transaction successful. Remaining balance: 15433\n"
     ]
    }
   ],
   "source": [
    "#ATM stimulation\n",
    "balance = 20000\n",
    "withdraw = int(input(\"Enter amount to withdraw\"))\n",
    "if(withdraw <= balance):\n",
    "    balance -= withdraw\n",
    "    print(\"Transaction successful. Remaining balance:\", balance)\n",
    "else:\n",
    "    print(\"Insufficient balance!\")"
   ]
  },
  {
   "cell_type": "code",
   "execution_count": 18,
   "id": "d7340c95-af89-4844-a8af-f50654ec2fda",
   "metadata": {},
   "outputs": [
    {
     "name": "stdin",
     "output_type": "stream",
     "text": [
      "Side a:  5\n",
      "Side b:  8\n",
      "Side c:  9\n"
     ]
    },
    {
     "name": "stdout",
     "output_type": "stream",
     "text": [
      "Scalene triangle\n"
     ]
    }
   ],
   "source": [
    "#triangle type\n",
    "a = float(input(\"Side a: \"))\n",
    "b = float(input(\"Side b: \"))\n",
    "c = float(input(\"Side c: \"))\n",
    "if(a + b > c and a + c > b and b + c > a):\n",
    "    if(a == b == c):\n",
    "        print(\"Equilateral triangle\")\n",
    "    elif a == b or b == c or a == c:\n",
    "        print(\"Isosceles triangle\")\n",
    "    else:\n",
    "        print(\"Scalene triangle\")\n",
    "else:\n",
    "    print(\"Not a valid triangle\")"
   ]
  },
  {
   "cell_type": "code",
   "execution_count": 20,
   "id": "7fb2f32e-b3dd-4387-b8ad-ded618f630b3",
   "metadata": {},
   "outputs": [
    {
     "name": "stdin",
     "output_type": "stream",
     "text": [
      "Age 4\n"
     ]
    },
    {
     "name": "stdout",
     "output_type": "stream",
     "text": [
      "Child\n"
     ]
    }
   ],
   "source": [
    "#Age Caegory\n",
    "age = int(input(\"Age\"))\n",
    "if(age < 0):\n",
    "    print(\"Invalid age\")\n",
    "elif(age <= 12):\n",
    "    print(\"Child\")\n",
    "elif(age <= 17):\n",
    "    print(\"Teen\")\n",
    "elif(age <= 64):\n",
    "    print(\"Adult\")\n",
    "else:\n",
    "    print(\"Senior\")"
   ]
  },
  {
   "cell_type": "code",
   "execution_count": null,
   "id": "00f78bcd-4fed-4ab1-859b-a5f07471df5e",
   "metadata": {},
   "outputs": [],
   "source": []
  }
 ],
 "metadata": {
  "kernelspec": {
   "display_name": "Python 3 (ipykernel)",
   "language": "python",
   "name": "python3"
  },
  "language_info": {
   "codemirror_mode": {
    "name": "ipython",
    "version": 3
   },
   "file_extension": ".py",
   "mimetype": "text/x-python",
   "name": "python",
   "nbconvert_exporter": "python",
   "pygments_lexer": "ipython3",
   "version": "3.13.5"
  }
 },
 "nbformat": 4,
 "nbformat_minor": 5
}
