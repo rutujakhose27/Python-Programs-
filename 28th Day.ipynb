{
 "cells": [
  {
   "cell_type": "code",
   "execution_count": 2,
   "id": "27990c23-cc6f-4bc3-bdd5-ed781ee50da0",
   "metadata": {},
   "outputs": [
    {
     "name": "stdin",
     "output_type": "stream",
     "text": [
      "Enter amount in INR:  688\n"
     ]
    },
    {
     "name": "stdout",
     "output_type": "stream",
     "text": [
      "688.0 INR = 7.542205656654242 USD\n"
     ]
    }
   ],
   "source": [
    "# Currency Converter (INR ↔ USD)\n",
    "\n",
    "inr = float(input(\"Enter amount in INR: \"))\n",
    "usd_rate = 91.22  \n",
    "usd = inr / usd_rate\n",
    "print(f\"{inr} INR = {usd} USD\")"
   ]
  },
  {
   "cell_type": "code",
   "execution_count": 5,
   "id": "f2cca7fb-0f18-45d0-a69b-b7b768a70881",
   "metadata": {},
   "outputs": [
    {
     "name": "stdin",
     "output_type": "stream",
     "text": [
      "Enter deposit amount:  12000\n",
      "Enter number of years:  2\n"
     ]
    },
    {
     "name": "stdout",
     "output_type": "stream",
     "text": [
      "Maturity amount: 13610.7\n"
     ]
    }
   ],
   "source": [
    "#Bank Interest for Fixed Deposit\n",
    "\n",
    "deposit = float(input(\"Enter deposit amount: \"))\n",
    "years = int(input(\"Enter number of years: \"))\n",
    "rate = 6.5\n",
    "total = deposit * (1 + rate/100)**years\n",
    "print(\"Maturity amount:\", round(total, 2))"
   ]
  },
  {
   "cell_type": "code",
   "execution_count": 8,
   "id": "7130a19f-85f4-43b4-aaa9-63405267ae3b",
   "metadata": {},
   "outputs": [
    {
     "name": "stdin",
     "output_type": "stream",
     "text": [
      "Enter your account balance:  1200\n"
     ]
    },
    {
     "name": "stdout",
     "output_type": "stream",
     "text": [
      "Your account is in good standing.\n"
     ]
    }
   ],
   "source": [
    "#Minimum Balance Alert\n",
    "\n",
    "balance = float(input(\"Enter your account balance: \"))\n",
    "min_balance = 1000\n",
    "if balance < min_balance:\n",
    "    print(\"Alert: Your balance is below the minimum requirement!\")\n",
    "else:\n",
    "    print(\"Your account is in good standing.\")"
   ]
  },
  {
   "cell_type": "code",
   "execution_count": 11,
   "id": "3baa2bc6-9230-408f-8b14-3927919d20c2",
   "metadata": {},
   "outputs": [
    {
     "name": "stdin",
     "output_type": "stream",
     "text": [
      "Enter your account balance:  2000\n"
     ]
    },
    {
     "name": "stdout",
     "output_type": "stream",
     "text": [
      "Balance after service charge deduction: 1850.0\n"
     ]
    }
   ],
   "source": [
    "# Bank Service Charge Deduction\n",
    "\n",
    "balance = float(input(\"Enter your account balance: \"))\n",
    "service_charge = 150\n",
    "balance -= service_charge\n",
    "print(\"Balance after service charge deduction:\", balance)"
   ]
  },
  {
   "cell_type": "code",
   "execution_count": 14,
   "id": "e4797e2b-cf1a-466f-b71c-c9101a107072",
   "metadata": {},
   "outputs": [
    {
     "name": "stdin",
     "output_type": "stream",
     "text": [
      "Enter savings balance:  8000\n"
     ]
    },
    {
     "name": "stdout",
     "output_type": "stream",
     "text": [
      "Daily Interest: ₹0.7671232876712328\n"
     ]
    }
   ],
   "source": [
    "#Daily Interest Calculator for Savings Account\n",
    "\n",
    "balance = float(input(\"Enter savings balance: \"))\n",
    "rate = 3.5  # Annual interest rate in %\n",
    "daily_interest = (balance * rate) / (100 * 365)\n",
    "print(f\"Daily Interest: ₹{daily_interest}\")"
   ]
  },
  {
   "cell_type": "code",
   "execution_count": 17,
   "id": "f1437332-021f-4e4a-b753-9119a70f6b46",
   "metadata": {},
   "outputs": [
    {
     "name": "stdin",
     "output_type": "stream",
     "text": [
      "Enter old PIN:  1234\n",
      "Enter new PIN:  56789\n"
     ]
    },
    {
     "name": "stdout",
     "output_type": "stream",
     "text": [
      "PIN changed successfully!\n"
     ]
    }
   ],
   "source": [
    "#ATM PIN Change System\n",
    "\n",
    "pin = \"1234\"\n",
    "old = input(\"Enter old PIN: \")\n",
    "if old == pin:\n",
    "    new_pin = input(\"Enter new PIN: \")\n",
    "    pin = new_pin\n",
    "    print(\"PIN changed successfully!\")\n",
    "else:\n",
    "    print(\"Incorrect old PIN\")"
   ]
  },
  {
   "cell_type": "code",
   "execution_count": 22,
   "id": "495ee8c0-cea5-4d6a-a6d6-b8b7e038a3c4",
   "metadata": {},
   "outputs": [
    {
     "name": "stdin",
     "output_type": "stream",
     "text": [
      "Enter locker size (Small/Medium/Large):  large\n"
     ]
    },
    {
     "name": "stdout",
     "output_type": "stream",
     "text": [
      "Annual locker fee: ₹5000\n"
     ]
    }
   ],
   "source": [
    "#Bank Locker Fee Calculator\n",
    "\n",
    "locker_size = input(\"Enter locker size (Small/Medium/Large): \").lower()\n",
    "if locker_size == \"small\":\n",
    "    fee = 1500\n",
    "elif locker_size == \"medium\":\n",
    "    fee = 3000\n",
    "elif locker_size == \"large\":\n",
    "    fee = 5000\n",
    "else:\n",
    "    fee = 0\n",
    "    print(\"Invalid size\")\n",
    "if fee:\n",
    "    print(f\"Annual locker fee: ₹{fee}\")"
   ]
  },
  {
   "cell_type": "code",
   "execution_count": 25,
   "id": "14d0e36e-8ed9-4cb1-a92d-21cd06798cbc",
   "metadata": {},
   "outputs": [
    {
     "name": "stdin",
     "output_type": "stream",
     "text": [
      "Enter interest earned on FD:  24000\n"
     ]
    },
    {
     "name": "stdout",
     "output_type": "stream",
     "text": [
      "TDS Deducted: ₹ 2400.0\n",
      "Net Interest Earned: ₹ 21600.0\n"
     ]
    }
   ],
   "source": [
    "#Tax Deducted at Source (TDS) Calculator\n",
    "\n",
    "income = float(input(\"Enter interest earned on FD: \"))\n",
    "tds_rate = 10\n",
    "tds = (income * tds_rate) / 100\n",
    "print(\"TDS Deducted: ₹\", tds)\n",
    "print(\"Net Interest Earned: ₹\", income - tds)"
   ]
  },
  {
   "cell_type": "code",
   "execution_count": 28,
   "id": "5f5383a0-72a8-4f6b-b60d-eb244c5c6906",
   "metadata": {},
   "outputs": [
    {
     "name": "stdout",
     "output_type": "stream",
     "text": [
      "Deposit ₹5000 → Balance: ₹5000\n",
      "Withdraw ₹2000 → Balance: ₹3000\n",
      "Deposit ₹1500 → Balance: ₹4500\n",
      "Withdraw ₹1000 → Balance: ₹3500\n"
     ]
    }
   ],
   "source": [
    "#Bank Statement Mini Generator\n",
    "\n",
    "transactions = [(\"Deposit\", 5000),(\"Withdraw\", 2000),(\"Deposit\", 1500),(\"Withdraw\", 1000)]\n",
    "\n",
    "balance = 0\n",
    "for t in transactions:\n",
    "    if t[0] == \"Deposit\":\n",
    "        balance += t[1]\n",
    "    else:\n",
    "        balance -= t[1]\n",
    "    print(f\"{t[0]} ₹{t[1]} → Balance: ₹{balance}\")"
   ]
  },
  {
   "cell_type": "code",
   "execution_count": 31,
   "id": "c9c9e035-9961-4616-9b24-61515f41ca28",
   "metadata": {},
   "outputs": [
    {
     "name": "stdin",
     "output_type": "stream",
     "text": [
      "Enter deposit amount:  12000\n",
      "Enter number of years:  2\n"
     ]
    },
    {
     "name": "stdout",
     "output_type": "stream",
     "text": [
      "Year 1: Balance = ₹12780.0\n",
      "Year 2: Balance = ₹13610.7\n"
     ]
    }
   ],
   "source": [
    "#Fixed Deposit Interest Schedule\n",
    "\n",
    "principal = float(input(\"Enter deposit amount: \"))\n",
    "rate = 6.5\n",
    "years = int(input(\"Enter number of years: \"))\n",
    "\n",
    "for year in range(1, years + 1):\n",
    "    interest = (principal * rate) / 100\n",
    "    principal += interest\n",
    "    print(f\"Year {year}: Balance = ₹{principal}\")"
   ]
  },
  {
   "cell_type": "code",
   "execution_count": null,
   "id": "ce9eeb51-9184-450d-947f-42db319771dd",
   "metadata": {},
   "outputs": [],
   "source": []
  }
 ],
 "metadata": {
  "kernelspec": {
   "display_name": "Python 3 (ipykernel)",
   "language": "python",
   "name": "python3"
  },
  "language_info": {
   "codemirror_mode": {
    "name": "ipython",
    "version": 3
   },
   "file_extension": ".py",
   "mimetype": "text/x-python",
   "name": "python",
   "nbconvert_exporter": "python",
   "pygments_lexer": "ipython3",
   "version": "3.13.5"
  }
 },
 "nbformat": 4,
 "nbformat_minor": 5
}
