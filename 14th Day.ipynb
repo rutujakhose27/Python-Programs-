{
 "cells": [
  {
   "cell_type": "code",
   "execution_count": 4,
   "id": "42d0152d-5b21-48e6-a273-c58b328e12db",
   "metadata": {},
   "outputs": [
    {
     "name": "stdout",
     "output_type": "stream",
     "text": [
      "Number of days between 2014-07-02 and 2014-11-02 is: 123\n"
     ]
    }
   ],
   "source": [
    "#Write a Python program to calculate number of days between two dates.\n",
    "\n",
    "from datetime import date\n",
    "\n",
    "date1 = date(2014, 7, 2)\n",
    "date2 = date(2014, 11, 2)\n",
    "delta = date2 - date1\n",
    "\n",
    "print(\"Number of days between\", date1, \"and\", date2, \"is:\", delta.days)"
   ]
  },
  {
   "cell_type": "code",
   "execution_count": 8,
   "id": "139333e5-0ae4-45ae-8c15-6edecab052c7",
   "metadata": {},
   "outputs": [
    {
     "name": "stdin",
     "output_type": "stream",
     "text": [
      "Enter a number:  66\n"
     ]
    },
    {
     "name": "stdout",
     "output_type": "stream",
     "text": [
      "Result: 98\n"
     ]
    }
   ],
   "source": [
    "#Write a Python program to get the difference between a given number and 17,\n",
    "#if the number is greater than 17 return double the absolute difference\n",
    "\n",
    "def difference_with_17(n):\n",
    "    if n > 17:\n",
    "        return 2 * abs(n - 17)\n",
    "    else:\n",
    "        return abs(n - 17)\n",
    "num = int(input(\"Enter a number: \"))\n",
    "result = difference_with_17(num)\n",
    "print(\"Result:\", result)\n"
   ]
  },
  {
   "cell_type": "code",
   "execution_count": 9,
   "id": "fdbf2db1-8379-4a3a-b7ac-1562a965ac88",
   "metadata": {},
   "outputs": [
    {
     "name": "stdout",
     "output_type": "stream",
     "text": [
      "9 is present in the list.\n",
      "12 is NOT present in the list.\n"
     ]
    }
   ],
   "source": [
    "#To check whather given element exists in list or not??\n",
    "#list=[1,2,3,4,5,6,7,8,9,10]\n",
    "#check if 9 and 12 are present in given list or not\n",
    "\n",
    "my_list = [1, 2, 3, 4, 5, 6, 7, 8, 9, 10]\n",
    "if 9 in my_list:\n",
    "    print(\"9 is present in the list.\")\n",
    "else:\n",
    "    print(\"9 is NOT present in the list.\")\n",
    "if 12 in my_list:\n",
    "    print(\"12 is present in the list.\")\n",
    "else:\n",
    "    print(\"12 is NOT present in the list.\")"
   ]
  },
  {
   "cell_type": "code",
   "execution_count": 10,
   "id": "28f058f5-7b2a-4ba6-b9f2-962a3c7b86e2",
   "metadata": {},
   "outputs": [
    {
     "name": "stdout",
     "output_type": "stream",
     "text": [
      "Addition: 25\n",
      "Subtraction: 15\n"
     ]
    }
   ],
   "source": [
    "#Write a function calculation() such that it can accept two variables and calculate the addition and subtraction of it.\n",
    "#And also it must return both addition and subtraction in a single return call\n",
    "\n",
    "def calculation(a, b):\n",
    "    addition = a + b\n",
    "    subtraction = a - b\n",
    "    return addition, subtraction  # Returns a tuple\n",
    "\n",
    "x = 20\n",
    "y = 5\n",
    "result = calculation(x, y)\n",
    "\n",
    "print(\"Addition:\", result[0])\n",
    "print(\"Subtraction:\", result[1])"
   ]
  },
  {
   "cell_type": "code",
   "execution_count": 12,
   "id": "0b3921e8-92e9-4044-89f1-5ba055bf3552",
   "metadata": {},
   "outputs": [
    {
     "name": "stdout",
     "output_type": "stream",
     "text": [
      "Employee Name: Rutuja\n",
      "Salary: 120000\n",
      "Employee Name: Shruti\n",
      "Salary: 90000\n"
     ]
    }
   ],
   "source": [
    "#Create a function showEmployee() in such a way that it should accept employee name, and it’s salary and display both,\n",
    "#and if the salary is missing in function call it should show it as 9000\n",
    "\n",
    "def showEmployee(name, salary=90000):\n",
    "    print(\"Employee Name:\", name)\n",
    "    print(\"Salary:\", salary)\n",
    "\n",
    "showEmployee(\"Rutuja\", 120000)  \n",
    "showEmployee(\"Shruti\")        "
   ]
  },
  {
   "cell_type": "code",
   "execution_count": 14,
   "id": "c5332f86-6dfd-450d-b4e0-e8ce4d051c1e",
   "metadata": {},
   "outputs": [
    {
     "name": "stdout",
     "output_type": "stream",
     "text": [
      "Even numbers from 4 to 91: [4, 6, 8, 10, 12, 14, 16, 18, 20, 22, 24, 26, 28, 30, 32, 34, 36, 38, 40, 42, 44, 46, 48, 50, 52, 54, 56, 58, 60, 62, 64, 66, 68, 70, 72, 74, 76, 78, 80, 82, 84, 86, 88, 90]\n"
     ]
    }
   ],
   "source": [
    "#Generate a Python list of all the even numbers between 4 to 90\n",
    "\n",
    "even_numbers = list(range(4, 91, 2))\n",
    "print(\"Even numbers from 4 to 91:\", even_numbers)"
   ]
  },
  {
   "cell_type": "code",
   "execution_count": 16,
   "id": "fcbe4682-da1f-4fdc-ab55-df6b17cf43b4",
   "metadata": {},
   "outputs": [
    {
     "name": "stdout",
     "output_type": "stream",
     "text": [
      "The largest item in the list is: 459\n"
     ]
    }
   ],
   "source": [
    "#Return the largest item from the given list\n",
    "\n",
    "def find_largest(my_list):\n",
    "    return max(my_list)\n",
    "\n",
    "numbers = [10, 25, 87, 42, 120, 459, 99, 3]\n",
    "\n",
    "largest = find_largest(numbers)\n",
    "print(\"The largest item in the list is:\", largest)"
   ]
  },
  {
   "cell_type": "code",
   "execution_count": 18,
   "id": "097c5ec9-83fa-4f5c-bb6f-71c97c6a81ef",
   "metadata": {},
   "outputs": [
    {
     "name": "stdout",
     "output_type": "stream",
     "text": [
      "Arguments passed: (10, 20, 30, 40, 50, 60, 70)\n",
      "Sum: 280\n"
     ]
    }
   ],
   "source": [
    "#Passing an arbitrary number of arguments to a Python function\n",
    "\n",
    "def my_function(*args):\n",
    "    print(\"Arguments passed:\", args)\n",
    "    total = sum(args)\n",
    "    print(\"Sum:\", total)\n",
    "\n",
    "my_function(10, 20, 30, 40, 50, 60, 70)"
   ]
  },
  {
   "cell_type": "code",
   "execution_count": 19,
   "id": "3746d8f2-577b-4a70-aeb9-eb622b2201b4",
   "metadata": {},
   "outputs": [
    {
     "name": "stdout",
     "output_type": "stream",
     "text": [
      "name: Rutuja\n",
      "age: 22\n",
      "city: Mumbai\n"
     ]
    }
   ],
   "source": [
    "#Passing an arbitrary number of arguments to a Python function\n",
    "\n",
    "def show_details(**kwargs):\n",
    "    for key, value in kwargs.items():\n",
    "        print(f\"{key}: {value}\")\n",
    "\n",
    "show_details(name=\"Rutuja\", age=22, city=\"Mumbai\")"
   ]
  },
  {
   "cell_type": "code",
   "execution_count": 21,
   "id": "5a003edb-3d0b-4335-92dc-372d1221dd65",
   "metadata": {},
   "outputs": [
    {
     "name": "stdout",
     "output_type": "stream",
     "text": [
      "Product of all numbers: -24192\n"
     ]
    }
   ],
   "source": [
    "#Write a Python function to multiply all the numbers in a list. Sample List : (8, 2, 3, -1, 7) \n",
    "\n",
    "def multiply_list(numbers):\n",
    "    result = 1\n",
    "    for num in numbers:\n",
    "        result *= num\n",
    "    return result\n",
    "sample_list = [8, 2, 3, -1, 7, 8, 9]\n",
    "product = multiply_list(sample_list)\n",
    "print(\"Product of all numbers:\", product)"
   ]
  },
  {
   "cell_type": "code",
   "execution_count": null,
   "id": "cba4aaab-10fe-4c8f-8547-bbfc5042c136",
   "metadata": {},
   "outputs": [],
   "source": []
  }
 ],
 "metadata": {
  "kernelspec": {
   "display_name": "Python 3 (ipykernel)",
   "language": "python",
   "name": "python3"
  },
  "language_info": {
   "codemirror_mode": {
    "name": "ipython",
    "version": 3
   },
   "file_extension": ".py",
   "mimetype": "text/x-python",
   "name": "python",
   "nbconvert_exporter": "python",
   "pygments_lexer": "ipython3",
   "version": "3.13.5"
  }
 },
 "nbformat": 4,
 "nbformat_minor": 5
}
