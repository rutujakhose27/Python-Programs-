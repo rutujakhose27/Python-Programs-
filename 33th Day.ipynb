{
 "cells": [
  {
   "cell_type": "code",
   "execution_count": 3,
   "id": "dc5ab51d-8496-40a7-a827-45576156051f",
   "metadata": {},
   "outputs": [
    {
     "name": "stdout",
     "output_type": "stream",
     "text": [
      "Molecular mass of H2O = 57 u\n"
     ]
    }
   ],
   "source": [
    "#Find the Molecular Mass of Water (H₂O)\n",
    "\n",
    "H_mass = 12\n",
    "O_mass = 33\n",
    "molecular_mass = 2*H_mass + O_mass\n",
    "print(\"Molecular mass of H2O =\", molecular_mass, \"u\")"
   ]
  },
  {
   "cell_type": "code",
   "execution_count": 5,
   "id": "183a98ca-0b41-42cc-8f73-c8638ddc26b8",
   "metadata": {},
   "outputs": [
    {
     "name": "stdin",
     "output_type": "stream",
     "text": [
      "Enter Force (N):  21\n",
      "Enter Displacement (m):  2\n"
     ]
    },
    {
     "name": "stdout",
     "output_type": "stream",
     "text": [
      "Work done = 42.0 Joules\n"
     ]
    }
   ],
   "source": [
    "#Calculate Work Done\n",
    "\n",
    "f = float(input(\"Enter Force (N): \"))\n",
    "d = float(input(\"Enter Displacement (m): \"))\n",
    "work = f * d\n",
    "print(\"Work done =\", work, \"Joules\")"
   ]
  },
  {
   "cell_type": "code",
   "execution_count": 6,
   "id": "fd5fe8dc-889a-4633-9d8d-be110611c1a2",
   "metadata": {},
   "outputs": [
    {
     "name": "stdin",
     "output_type": "stream",
     "text": [
      "Enter a number:  4\n"
     ]
    },
    {
     "name": "stdout",
     "output_type": "stream",
     "text": [
      "Factorial of 4 = 24\n"
     ]
    }
   ],
   "source": [
    "#Factorial using Recursion\n",
    "\n",
    "def fact(n):\n",
    "    return 1 if n == 0 else n * fact(n-1)\n",
    "\n",
    "num = int(input(\"Enter a number: \"))\n",
    "print(\"Factorial of\", num, \"=\", fact(num))"
   ]
  },
  {
   "cell_type": "code",
   "execution_count": 8,
   "id": "f345791c-03b4-4a2e-bd38-4235631b4bc7",
   "metadata": {},
   "outputs": [
    {
     "name": "stdin",
     "output_type": "stream",
     "text": [
      "Enter electricity used (kWh):  56\n"
     ]
    },
    {
     "name": "stdout",
     "output_type": "stream",
     "text": [
      "Estimated CO2 emission = 45.919999999999995 kg\n"
     ]
    }
   ],
   "source": [
    "#Environmental – Calculate Carbon Footprint of Electricity Usage\n",
    "\n",
    "units = float(input(\"Enter electricity used (kWh): \"))\n",
    "emission_factor = 0.82  # kg CO2 per kWh (average India)\n",
    "co2 = units * emission_factor\n",
    "print(\"Estimated CO2 emission =\", co2, \"kg\")"
   ]
  },
  {
   "cell_type": "code",
   "execution_count": 10,
   "id": "b7c6a8f8-5620-482c-b741-94fadcc1a6a6",
   "metadata": {},
   "outputs": [
    {
     "name": "stdin",
     "output_type": "stream",
     "text": [
      "Enter mass (kg):  45\n",
      "Enter velocity (m/s):  99\n"
     ]
    },
    {
     "name": "stdout",
     "output_type": "stream",
     "text": [
      "Momentum = 4455.0 kg·m/s\n"
     ]
    }
   ],
   "source": [
    "#Calculate Momentum\n",
    "\n",
    "m = float(input(\"Enter mass (kg): \"))\n",
    "v = float(input(\"Enter velocity (m/s): \"))\n",
    "momentum = m * v\n",
    "print(\"Momentum =\", momentum, \"kg·m/s\")"
   ]
  },
  {
   "cell_type": "code",
   "execution_count": null,
   "id": "a5a1ecbe-3edb-4f75-af09-8312fcf096f6",
   "metadata": {},
   "outputs": [],
   "source": []
  }
 ],
 "metadata": {
  "kernelspec": {
   "display_name": "Python 3 (ipykernel)",
   "language": "python",
   "name": "python3"
  },
  "language_info": {
   "codemirror_mode": {
    "name": "ipython",
    "version": 3
   },
   "file_extension": ".py",
   "mimetype": "text/x-python",
   "name": "python",
   "nbconvert_exporter": "python",
   "pygments_lexer": "ipython3",
   "version": "3.13.5"
  }
 },
 "nbformat": 4,
 "nbformat_minor": 5
}
