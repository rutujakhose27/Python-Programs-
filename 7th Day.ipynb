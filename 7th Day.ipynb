{
 "cells": [
  {
   "cell_type": "code",
   "execution_count": 2,
   "id": "f1201b0d-ea75-4c73-b06b-9c1b67a96dd7",
   "metadata": {},
   "outputs": [
    {
     "name": "stdout",
     "output_type": "stream",
     "text": [
      "130°F in Celsius: 54.44444444444444\n"
     ]
    }
   ],
   "source": [
    "#function to conver fahrenheit to celsius\n",
    "def fahrenheit_to_celsius(f):\n",
    "    return (f - 32) * 5 / 9\n",
    "print(\"130°F in Celsius:\", fahrenheit_to_celsius(130))"
   ]
  },
  {
   "cell_type": "code",
   "execution_count": 4,
   "id": "da7c869e-4741-4eb5-b783-35c83a1db0b9",
   "metadata": {},
   "outputs": [
    {
     "name": "stdout",
     "output_type": "stream",
     "text": [
      "Uppercase: 3 Lowercase: 12\n"
     ]
    }
   ],
   "source": [
    "# Function to Count Upper and Lower Case Letters\n",
    "def count_case(text):\n",
    "    upper = sum(1 for c in text if c.isupper())\n",
    "    lower = sum(1 for c in text if c.islower())\n",
    "    return upper, lower\n",
    "up, low = count_case(\"Rutuja Ajay Khose\")\n",
    "print(\"Uppercase:\", up, \"Lowercase:\", low)"
   ]
  },
  {
   "cell_type": "code",
   "execution_count": 10,
   "id": "8abf516a-af6b-4994-95e6-98894c9098bf",
   "metadata": {},
   "outputs": [
    {
     "name": "stdout",
     "output_type": "stream",
     "text": [
      "Average: 55.0\n"
     ]
    }
   ],
   "source": [
    "# Function to Calculate the Average of a List\n",
    "def average(numbers):\n",
    "    return sum(numbers) / len(numbers)\n",
    "print(\"Average:\", average([10, 20, 30, 40, 50, 60, 70, 80, 90, 100]))"
   ]
  },
  {
   "cell_type": "code",
   "execution_count": 19,
   "id": "8e1a0152-bca3-4078-9378-8ac7d2e614c6",
   "metadata": {},
   "outputs": [
    {
     "name": "stdout",
     "output_type": "stream",
     "text": [
      "Deposited ₹550. New balance: ₹10550\n",
      "Withdrew ₹350. Remaining balance: ₹10200\n",
      "Account balance: ₹10200\n"
     ]
    }
   ],
   "source": [
    "#Simple Banking Account\n",
    "class BankAccount:\n",
    "    def __init__(self, name, balance=0):\n",
    "        self.name = name\n",
    "        self.balance = balance\n",
    "\n",
    "    def deposit(self, amount):\n",
    "        self.balance += amount\n",
    "        print(f\"Deposited ₹{amount}. New balance: ₹{self.balance}\")\n",
    "\n",
    "    def withdraw(self, amount):\n",
    "        if amount <= self.balance:\n",
    "            self.balance -= amount\n",
    "            print(f\"Withdrew ₹{amount}. Remaining balance: ₹{self.balance}\")\n",
    "        else:\n",
    "            print(\"Insufficient funds!\")\n",
    "\n",
    "    def check_balance(self):\n",
    "        print(f\"Account balance: ₹{self.balance}\")\n",
    "\n",
    "account = BankAccount(\"Rutuja\", 10000)\n",
    "account.deposit(550)\n",
    "account.withdraw(350)\n",
    "account.check_balance()"
   ]
  },
  {
   "cell_type": "code",
   "execution_count": 20,
   "id": "7875f39a-6d4e-4c47-8715-1d1b68afa7f6",
   "metadata": {},
   "outputs": [
    {
     "name": "stdin",
     "output_type": "stream",
     "text": [
      "Enter principal amount: ₹ 20000\n",
      "Enter interest rate: %  3\n",
      "Enter time (in years):  1\n"
     ]
    },
    {
     "name": "stdout",
     "output_type": "stream",
     "text": [
      "Simple Interest: ₹600.0\n"
     ]
    }
   ],
   "source": [
    "#intrest Calculator\n",
    "# Simple Interest Formula: SI = (P × R × T) / 100\n",
    "principal = float(input(\"Enter principal amount: ₹\"))\n",
    "rate = float(input(\"Enter interest rate: % \"))\n",
    "time = float(input(\"Enter time (in years): \"))\n",
    "\n",
    "interest = (principal * rate * time) / 100\n",
    "print(f\"Simple Interest: ₹{interest}\")"
   ]
  },
  {
   "cell_type": "code",
   "execution_count": 24,
   "id": "65e4ea4a-d7db-4045-89a4-0fa39f11c747",
   "metadata": {},
   "outputs": [
    {
     "name": "stdin",
     "output_type": "stream",
     "text": [
      "Enter your monthly income: ₹ 35000\n",
      "Enter your monthly expenses: ₹ 20000\n"
     ]
    },
    {
     "name": "stdout",
     "output_type": "stream",
     "text": [
      "You are eligible for a loan.\n"
     ]
    }
   ],
   "source": [
    "#Check Loan Eligibility\n",
    "income = float(input(\"Enter your monthly income: ₹\"))\n",
    "expenses = float(input(\"Enter your monthly expenses: ₹\"))\n",
    "\n",
    "savings = income - expenses\n",
    "\n",
    "if savings >= 10000:\n",
    "    print(\"You are eligible for a loan.\")\n",
    "else:\n",
    "    print(\"You are not eligible for a loan.\")"
   ]
  },
  {
   "cell_type": "code",
   "execution_count": 25,
   "id": "5ec44252-e118-48b7-a1ae-6d19add79b44",
   "metadata": {},
   "outputs": [
    {
     "name": "stdin",
     "output_type": "stream",
     "text": [
      "Enter Principal Amount: ₹ 70000\n",
      "Enter Annual Interest Rate (%):  4\n",
      "Enter Time (years):  2\n",
      "Compounded times per year:  2\n"
     ]
    },
    {
     "name": "stdout",
     "output_type": "stream",
     "text": [
      "Compound Interest: ₹5770.25\n",
      "Total Amount after 2.0 years: ₹75770.25\n"
     ]
    }
   ],
   "source": [
    "#Compound Interest Calculator\n",
    "# Compound Interest = P(1 + R/100)^T - P\n",
    "P = float(input(\"Enter Principal Amount: ₹\"))\n",
    "R = float(input(\"Enter Annual Interest Rate (%): \"))\n",
    "T = float(input(\"Enter Time (years): \"))\n",
    "N = int(input(\"Compounded times per year: \"))\n",
    "\n",
    "amount = P * (1 + R/(100*N))**(N*T)\n",
    "ci = amount - P\n",
    "\n",
    "print(f\"Compound Interest: ₹{round(ci, 2)}\")\n",
    "print(f\"Total Amount after {T} years: ₹{round(amount, 2)}\")"
   ]
  },
  {
   "cell_type": "code",
   "execution_count": 33,
   "id": "27cf855c-0a29-4fd3-a8a1-546749d21bde",
   "metadata": {},
   "outputs": [
    {
     "name": "stdin",
     "output_type": "stream",
     "text": [
      "Enter amount to deposit: ₹ 23456\n"
     ]
    },
    {
     "name": "stdout",
     "output_type": "stream",
     "text": [
      "New balance: ₹ 24456\n"
     ]
    }
   ],
   "source": [
    "#deposit Money\n",
    "balance = 1000\n",
    "deposit = int(input(\"Enter amount to deposit: ₹\"))\n",
    "balance += deposit\n",
    "print(\"New balance: ₹\", balance)"
   ]
  },
  {
   "cell_type": "code",
   "execution_count": 37,
   "id": "b6317377-2233-4a70-b233-ce67f3cc6d24",
   "metadata": {},
   "outputs": [
    {
     "name": "stdin",
     "output_type": "stream",
     "text": [
      "Enter amount to withdraw: ₹ 786\n"
     ]
    },
    {
     "name": "stdout",
     "output_type": "stream",
     "text": [
      "Withdrawal successful. Balance: ₹ 214\n"
     ]
    }
   ],
   "source": [
    "#Withdraw Money\n",
    "balance = 1000\n",
    "withdraw = int(input(\"Enter amount to withdraw: ₹\"))\n",
    "\n",
    "if withdraw <= balance:\n",
    "    balance -= withdraw\n",
    "    print(\"Withdrawal successful. Balance: ₹\", balance)\n",
    "else:\n",
    "    print(\"Insufficient balance!\")"
   ]
  },
  {
   "cell_type": "code",
   "execution_count": 42,
   "id": "faa02a5b-7c1c-44c8-8079-bdc0c824e6cd",
   "metadata": {},
   "outputs": [
    {
     "name": "stdin",
     "output_type": "stream",
     "text": [
      "Enter your PIN:  1234\n"
     ]
    },
    {
     "name": "stdout",
     "output_type": "stream",
     "text": [
      "Access granted\n"
     ]
    }
   ],
   "source": [
    "#PIN Checking\n",
    "pin = \"1234\"\n",
    "user_pin = input(\"Enter your PIN\")\n",
    "\n",
    "if user_pin == pin:\n",
    "    print(\"Access granted\")\n",
    "else:\n",
    "    print(\"Incorrect PIN\")"
   ]
  },
  {
   "cell_type": "code",
   "execution_count": null,
   "id": "fae114c5-0d4e-4aeb-828b-1962d0236204",
   "metadata": {},
   "outputs": [],
   "source": []
  }
 ],
 "metadata": {
  "kernelspec": {
   "display_name": "Python 3 (ipykernel)",
   "language": "python",
   "name": "python3"
  },
  "language_info": {
   "codemirror_mode": {
    "name": "ipython",
    "version": 3
   },
   "file_extension": ".py",
   "mimetype": "text/x-python",
   "name": "python",
   "nbconvert_exporter": "python",
   "pygments_lexer": "ipython3",
   "version": "3.13.5"
  }
 },
 "nbformat": 4,
 "nbformat_minor": 5
}
