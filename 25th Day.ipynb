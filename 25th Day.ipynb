{
 "cells": [
  {
   "cell_type": "code",
   "execution_count": 2,
   "id": "374bfb3f-7972-4cf8-b66f-a39d9ad74760",
   "metadata": {},
   "outputs": [
    {
     "name": "stdin",
     "output_type": "stream",
     "text": [
      "Enter mass in kg:  89\n",
      "Enter acceleration in m/s²:  2\n"
     ]
    },
    {
     "name": "stdout",
     "output_type": "stream",
     "text": [
      "Force is 178.0 N\n"
     ]
    }
   ],
   "source": [
    "#Calculate Force (F = m × a)\n",
    "\n",
    "mass = float(input(\"Enter mass in kg: \"))\n",
    "acceleration = float(input(\"Enter acceleration in m/s²: \"))\n",
    "force = mass * acceleration\n",
    "print(\"Force is\", force, \"N\")"
   ]
  },
  {
   "cell_type": "code",
   "execution_count": 6,
   "id": "6649730c-1389-4cb2-975d-929296d70a4a",
   "metadata": {},
   "outputs": [
    {
     "name": "stdin",
     "output_type": "stream",
     "text": [
      "Enter speed in m/s:  45\n"
     ]
    },
    {
     "name": "stdout",
     "output_type": "stream",
     "text": [
      "Speed in km/h: 162.0\n"
     ]
    }
   ],
   "source": [
    "#Convert Speed (m/s to km/h)\n",
    "\n",
    "speed_mps = float(input(\"Enter speed in m/s: \"))\n",
    "speed_kph = speed_mps * 3.6\n",
    "print(\"Speed in km/h:\", speed_kph)"
   ]
  },
  {
   "cell_type": "code",
   "execution_count": 12,
   "id": "88af1676-a946-461e-b3e5-7f3493e70824",
   "metadata": {},
   "outputs": [
    {
     "name": "stdin",
     "output_type": "stream",
     "text": [
      "Enter a decimal number:  22\n"
     ]
    },
    {
     "name": "stdout",
     "output_type": "stream",
     "text": [
      "Binary representation: 10110\n"
     ]
    }
   ],
   "source": [
    "#Convert Decimal to Binary\n",
    "\n",
    "num = int(input(\"Enter a decimal number: \"))\n",
    "binary = bin(num)[2:]\n",
    "print(\"Binary representation:\", binary)"
   ]
  },
  {
   "cell_type": "code",
   "execution_count": 15,
   "id": "f69d406b-cd30-467b-b642-cb2722ee968a",
   "metadata": {},
   "outputs": [
    {
     "name": "stdin",
     "output_type": "stream",
     "text": [
      "Enter a number:  89\n"
     ]
    },
    {
     "name": "stdout",
     "output_type": "stream",
     "text": [
      "89 x 1 = 89\n",
      "89 x 2 = 178\n",
      "89 x 3 = 267\n",
      "89 x 4 = 356\n",
      "89 x 5 = 445\n",
      "89 x 6 = 534\n",
      "89 x 7 = 623\n",
      "89 x 8 = 712\n",
      "89 x 9 = 801\n",
      "89 x 10 = 890\n"
     ]
    }
   ],
   "source": [
    "#Print the Table of a Number (1 to 10)\n",
    "\n",
    "num = int(input(\"Enter a number: \"))\n",
    "for i in range(1, 11):\n",
    "    print(f\"{num} x {i} = {num * i}\")"
   ]
  },
  {
   "cell_type": "code",
   "execution_count": 18,
   "id": "7f05770e-12b4-451b-99b2-195bc21956fe",
   "metadata": {},
   "outputs": [
    {
     "name": "stdin",
     "output_type": "stream",
     "text": [
      "Enter radius:  12\n",
      "Enter height:  3\n"
     ]
    },
    {
     "name": "stdout",
     "output_type": "stream",
     "text": [
      "Volume of cylinder: 1357.1680263507906\n"
     ]
    }
   ],
   "source": [
    "#Find Volume of a Cylinder\n",
    "\n",
    "import math\n",
    "radius = float(input(\"Enter radius: \"))\n",
    "height = float(input(\"Enter height: \"))\n",
    "volume = math.pi * radius ** 2 * height\n",
    "print(\"Volume of cylinder:\", volume)"
   ]
  },
  {
   "cell_type": "code",
   "execution_count": 34,
   "id": "8a9aadfc-72e0-4464-84de-87a9d762334d",
   "metadata": {},
   "outputs": [
    {
     "name": "stdin",
     "output_type": "stream",
     "text": [
      "Enter first number:  12\n",
      "Enter second number:  15\n"
     ]
    },
    {
     "name": "stdout",
     "output_type": "stream",
     "text": [
      "Not Co-Prime numbers\n"
     ]
    }
   ],
   "source": [
    "#Check Whether Two Numbers Are Co-Prime\n",
    "\n",
    "import math\n",
    "a = int(input(\"Enter first number: \"))\n",
    "b = int(input(\"Enter second number: \"))\n",
    "if math.gcd(a, b) == 1:\n",
    "    print(\"Co-Prime numbers\")\n",
    "else:\n",
    "    print(\"Not Co-Prime numbers\")"
   ]
  },
  {
   "cell_type": "code",
   "execution_count": 25,
   "id": "d0449260-088d-4186-88b9-ed39facee38a",
   "metadata": {},
   "outputs": [
    {
     "name": "stdin",
     "output_type": "stream",
     "text": [
      "Enter first diagonal:  4\n",
      "Enter second diagonal:  7\n"
     ]
    },
    {
     "name": "stdout",
     "output_type": "stream",
     "text": [
      "Area of rhombus: 14.0\n"
     ]
    }
   ],
   "source": [
    "#Calculate Area of a Rhombus\n",
    "\n",
    "d1 = float(input(\"Enter first diagonal: \"))\n",
    "d2 = float(input(\"Enter second diagonal: \"))\n",
    "area = (d1 * d2) / 2\n",
    "print(\"Area of rhombus:\", area)"
   ]
  },
  {
   "cell_type": "code",
   "execution_count": 27,
   "id": "5e27846e-1180-4742-a58e-a8abf71ef75d",
   "metadata": {},
   "outputs": [
    {
     "name": "stdin",
     "output_type": "stream",
     "text": [
      "Enter base length:  4\n",
      "Enter height:  9\n"
     ]
    },
    {
     "name": "stdout",
     "output_type": "stream",
     "text": [
      "Area of parallelogram: 36.0\n"
     ]
    }
   ],
   "source": [
    "#Calculate Area of a Parallelogram\n",
    "\n",
    "base = float(input(\"Enter base length: \"))\n",
    "height = float(input(\"Enter height: \"))\n",
    "area = base * height\n",
    "print(\"Area of parallelogram:\", area)"
   ]
  },
  {
   "cell_type": "code",
   "execution_count": 30,
   "id": "d5d2bedc-e9bc-4665-b04b-e37a1adb5aa9",
   "metadata": {},
   "outputs": [
    {
     "name": "stdin",
     "output_type": "stream",
     "text": [
      "Enter quantity in liters:  24\n"
     ]
    },
    {
     "name": "stdout",
     "output_type": "stream",
     "text": [
      "Milliliters: 24000.0 ml\n"
     ]
    }
   ],
   "source": [
    "#Convert Liters to Milliliters\n",
    "\n",
    "liters = float(input(\"Enter quantity in liters: \"))\n",
    "ml = liters * 1000\n",
    "print(\"Milliliters:\", ml, \"ml\")"
   ]
  },
  {
   "cell_type": "code",
   "execution_count": 32,
   "id": "702830de-4de9-4364-aeaf-51a859677939",
   "metadata": {},
   "outputs": [
    {
     "name": "stdin",
     "output_type": "stream",
     "text": [
      "Enter mass (in kg):  77\n",
      "Enter velocity (in m/s):  13\n"
     ]
    },
    {
     "name": "stdout",
     "output_type": "stream",
     "text": [
      "Kinetic Energy: 6506.5 Joules\n"
     ]
    }
   ],
   "source": [
    "#Calculate Kinetic Energy (KE = 0.5 × m × v²)\n",
    "\n",
    "mass = float(input(\"Enter mass (in kg): \"))\n",
    "velocity = float(input(\"Enter velocity (in m/s): \"))\n",
    "ke = 0.5 * mass * velocity ** 2\n",
    "print(\"Kinetic Energy:\", ke, \"Joules\")"
   ]
  },
  {
   "cell_type": "code",
   "execution_count": null,
   "id": "a1d33028-5a4d-4340-891b-7dcfbc065a63",
   "metadata": {},
   "outputs": [],
   "source": []
  }
 ],
 "metadata": {
  "kernelspec": {
   "display_name": "Python 3 (ipykernel)",
   "language": "python",
   "name": "python3"
  },
  "language_info": {
   "codemirror_mode": {
    "name": "ipython",
    "version": 3
   },
   "file_extension": ".py",
   "mimetype": "text/x-python",
   "name": "python",
   "nbconvert_exporter": "python",
   "pygments_lexer": "ipython3",
   "version": "3.13.5"
  }
 },
 "nbformat": 4,
 "nbformat_minor": 5
}
