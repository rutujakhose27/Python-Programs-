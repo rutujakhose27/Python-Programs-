{
 "cells": [
  {
   "cell_type": "code",
   "execution_count": 4,
   "id": "b6cb66df-14a7-4e64-8b9e-c84eef01fecf",
   "metadata": {},
   "outputs": [
    {
     "name": "stdin",
     "output_type": "stream",
     "text": [
      "Enter first side 22\n",
      "Enter second side 22\n",
      "Enter third side 22\n"
     ]
    },
    {
     "name": "stdout",
     "output_type": "stream",
     "text": [
      "Equilateral triangle\n"
     ]
    }
   ],
   "source": [
    "#Determine whether a triangle is equilateral, isosceles, or scalene\n",
    "\n",
    "a = int(input(\"Enter first side\"))\n",
    "b = int(input(\"Enter second side\"))\n",
    "c = int(input(\"Enter third side\"))\n",
    "if a == b == c:\n",
    "    print(\"Equilateral triangle\")\n",
    "elif a == b or b == c or c == a:\n",
    "    print(\"Isosceles triangle\")\n",
    "else:\n",
    "    print(\"Scalene triangle\")"
   ]
  },
  {
   "cell_type": "code",
   "execution_count": 7,
   "id": "224eec96-89f7-400e-bfb2-a40e4aaa5357",
   "metadata": {},
   "outputs": [
    {
     "name": "stdin",
     "output_type": "stream",
     "text": [
      "Enter water tank level in % 66\n"
     ]
    },
    {
     "name": "stdout",
     "output_type": "stream",
     "text": [
      "Water level is normal.\n"
     ]
    }
   ],
   "source": [
    "#Simulate water level alarm system\n",
    "\n",
    "level = int(input(\"Enter water tank level in %\"))\n",
    "if level <= 20:\n",
    "    print(\"Low water level! Please refill.\")\n",
    "elif level <= 80:\n",
    "    print(\"Water level is normal.\")\n",
    "else:\n",
    "    print(\"Water is about to overflow! Stop the supply.\")"
   ]
  },
  {
   "cell_type": "code",
   "execution_count": 11,
   "id": "c1a8ebed-cdf0-44eb-a119-22884c26f5c3",
   "metadata": {},
   "outputs": [
    {
     "name": "stdin",
     "output_type": "stream",
     "text": [
      "Enter body temperature in °C 34\n"
     ]
    },
    {
     "name": "stdout",
     "output_type": "stream",
     "text": [
      "Low body temperature\n"
     ]
    }
   ],
   "source": [
    "#Simulate a simple health check\n",
    "\n",
    "temp = float(input(\"Enter body temperature in °C\"))\n",
    "if temp < 36:\n",
    "    print(\"Low body temperature\")\n",
    "elif temp <= 37.5:\n",
    "    print(\"Normal body temperature\")\n",
    "    \n",
    "else:\n",
    "    print(\"Fever! Please rest and drink fluids.\")"
   ]
  },
  {
   "cell_type": "code",
   "execution_count": 14,
   "id": "fb7760bc-3217-4656-866a-0b23f144710b",
   "metadata": {},
   "outputs": [
    {
     "name": "stdin",
     "output_type": "stream",
     "text": [
      "Enter mass in kg 33\n",
      "Enter velocity in m/s 6\n"
     ]
    },
    {
     "name": "stdout",
     "output_type": "stream",
     "text": [
      "Kinetic Energy is: 594.0 Joules\n"
     ]
    }
   ],
   "source": [
    "# Calculate kinetic energy\n",
    "\n",
    "m = float(input(\"Enter mass in kg\"))\n",
    "v = float(input(\"Enter velocity in m/s\"))\n",
    "ke = 0.5 * m * v * v\n",
    "print(\"Kinetic Energy is:\", ke, \"Joules\")"
   ]
  },
  {
   "cell_type": "code",
   "execution_count": 16,
   "id": "b01beb46-c3cf-4b80-9588-5d9c403fbc12",
   "metadata": {},
   "outputs": [
    {
     "name": "stdin",
     "output_type": "stream",
     "text": [
      "Enter temperature in Celsius 234\n"
     ]
    },
    {
     "name": "stdout",
     "output_type": "stream",
     "text": [
      "Water will boil.\n"
     ]
    }
   ],
   "source": [
    "#Simulate boiling point checker\n",
    "\n",
    "temp = float(input(\"Enter temperature in Celsius\"))\n",
    "if temp >= 100:\n",
    "    print(\"Water will boil.\")\n",
    "else:\n",
    "    print(\"Water will not boil.\")"
   ]
  },
  {
   "cell_type": "code",
   "execution_count": 22,
   "id": "0b953ae3-e609-45a3-8be1-44c9d66ec2b4",
   "metadata": {},
   "outputs": [
    {
     "name": "stdin",
     "output_type": "stream",
     "text": [
      "Enter traffic light color (Red/Yellow/Green):  yellow\n"
     ]
    },
    {
     "name": "stdout",
     "output_type": "stream",
     "text": [
      "Ready to go\n"
     ]
    }
   ],
   "source": [
    "#Simulate traffic light rules\n",
    "\n",
    "color = input(\"Enter traffic light color (Red/Yellow/Green): \").lower()\n",
    "if color == \"red\":\n",
    "    print(\"Stop\")\n",
    "elif color == \"yellow\":\n",
    "    print(\"Ready to go\")\n",
    "elif color == \"green\":\n",
    "    print(\"Go\")\n",
    "else:\n",
    "    print(\"Invalid color\")"
   ]
  },
  {
   "cell_type": "code",
   "execution_count": 25,
   "id": "2d9b8d7c-968f-4ed9-b051-945ed5a566b9",
   "metadata": {},
   "outputs": [
    {
     "name": "stdin",
     "output_type": "stream",
     "text": [
      "Enter month number (1-12):  11\n"
     ]
    },
    {
     "name": "stdout",
     "output_type": "stream",
     "text": [
      "Autumn season\n"
     ]
    }
   ],
   "source": [
    "#Simulate seasons based on month\n",
    "\n",
    "month = int(input(\"Enter month number (1-12): \"))\n",
    "if month in [12, 1, 2]:\n",
    "    print(\"Winter season\")\n",
    "elif month in [3, 4, 5]:\n",
    "    print(\"Spring season\")\n",
    "elif month in [6, 7, 8]:\n",
    "    print(\"Summer season\")\n",
    "elif month in [9, 10, 11]:\n",
    "    print(\"Autumn season\")\n",
    "else:\n",
    "    print(\"Invalid month\")"
   ]
  },
  {
   "cell_type": "code",
   "execution_count": 28,
   "id": "b43acad5-540f-447b-b3bd-ccd49f1dc1d7",
   "metadata": {},
   "outputs": [
    {
     "name": "stdin",
     "output_type": "stream",
     "text": [
      "Enter radius of circle:  6\n"
     ]
    },
    {
     "name": "stdout",
     "output_type": "stream",
     "text": [
      "Circumference: 37.7\n",
      "Area: 113.1\n"
     ]
    }
   ],
   "source": [
    "#Calculate circumference and area of a circle\n",
    "\n",
    "import math\n",
    "r = float(input(\"Enter radius of circle: \"))\n",
    "circ = 2 * math.pi * r\n",
    "area = math.pi * r ** 2\n",
    "print(\"Circumference:\", round(circ, 2))\n",
    "print(\"Area:\", round(area, 2))"
   ]
  },
  {
   "cell_type": "code",
   "execution_count": 31,
   "id": "5d03907e-1570-428c-9f35-8d43a2d2a64f",
   "metadata": {},
   "outputs": [
    {
     "name": "stdin",
     "output_type": "stream",
     "text": [
      "Enter side length of cube:  9\n"
     ]
    },
    {
     "name": "stdout",
     "output_type": "stream",
     "text": [
      "Total Surface Area: 486.0\n"
     ]
    }
   ],
   "source": [
    "#Calculate total surface area of a cube\n",
    "\n",
    "side = float(input(\"Enter side length of cube: \"))\n",
    "area = 6 * side * side\n",
    "print(\"Total Surface Area:\", area)"
   ]
  },
  {
   "cell_type": "code",
   "execution_count": 33,
   "id": "1357b22c-654c-45ec-8e50-9ba397f8f1c4",
   "metadata": {},
   "outputs": [
    {
     "name": "stdin",
     "output_type": "stream",
     "text": [
      "Enter base 1:  7\n",
      "Enter base 2:  3\n",
      "Enter height:  9\n"
     ]
    },
    {
     "name": "stdout",
     "output_type": "stream",
     "text": [
      "Area of trapezium: 45.0\n"
     ]
    }
   ],
   "source": [
    "#Calculate the area of trapezium\n",
    "\n",
    "a = float(input(\"Enter base 1: \"))\n",
    "b = float(input(\"Enter base 2: \"))\n",
    "h = float(input(\"Enter height: \"))\n",
    "area = 0.5 * (a + b) * h\n",
    "print(\"Area of trapezium:\", area)"
   ]
  },
  {
   "cell_type": "code",
   "execution_count": null,
   "id": "0582fabe-ed1f-46c0-a401-d8b626e2cb3e",
   "metadata": {},
   "outputs": [],
   "source": []
  }
 ],
 "metadata": {
  "kernelspec": {
   "display_name": "Python 3 (ipykernel)",
   "language": "python",
   "name": "python3"
  },
  "language_info": {
   "codemirror_mode": {
    "name": "ipython",
    "version": 3
   },
   "file_extension": ".py",
   "mimetype": "text/x-python",
   "name": "python",
   "nbconvert_exporter": "python",
   "pygments_lexer": "ipython3",
   "version": "3.13.5"
  }
 },
 "nbformat": 4,
 "nbformat_minor": 5
}
