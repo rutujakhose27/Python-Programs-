{
 "cells": [
  {
   "cell_type": "code",
   "execution_count": 3,
   "id": "0c785518-d616-494b-b127-aab6208e944a",
   "metadata": {},
   "outputs": [
    {
     "name": "stdin",
     "output_type": "stream",
     "text": [
      "Principal amount 500000\n",
      "Rate of interest (%) 2\n",
      "Time in years 5\n"
     ]
    },
    {
     "name": "stdout",
     "output_type": "stream",
     "text": [
      "Compound Interest Amount: 552040.4016\n"
     ]
    }
   ],
   "source": [
    "#Calculate Compound Interest\n",
    "\n",
    "def compound_interest(p, r, t):\n",
    "    amount = p * (1 + r/100) ** t\n",
    "    return amount\n",
    "\n",
    "p = float(input(\"Principal amount\"))\n",
    "r = float(input(\"Rate of interest (%)\"))\n",
    "t = float(input(\"Time in years\"))\n",
    "print(\"Compound Interest Amount:\", compound_interest(p, r, t))"
   ]
  },
  {
   "cell_type": "code",
   "execution_count": 6,
   "id": "d5933267-60db-46d1-ad96-ea8f108fd339",
   "metadata": {},
   "outputs": [
    {
     "name": "stdin",
     "output_type": "stream",
     "text": [
      "Enter base1 (a) 89\n",
      "Enter base2 (b) 98\n",
      "Enter height (h) 6\n"
     ]
    },
    {
     "name": "stdout",
     "output_type": "stream",
     "text": [
      "Area of trapezium: 561.0\n"
     ]
    }
   ],
   "source": [
    "#. Evaluate Trapezium Area\n",
    "\n",
    "def area_of_trapezium(a, b, h):\n",
    "    return 0.5 * (a + b) * h\n",
    "\n",
    "a = float(input(\"Enter base1 (a)\"))\n",
    "b = float(input(\"Enter base2 (b)\"))\n",
    "h = float(input(\"Enter height (h)\"))\n",
    "print(\"Area of trapezium:\", area_of_trapezium(a, b, h))"
   ]
  },
  {
   "cell_type": "code",
   "execution_count": 9,
   "id": "4aa1cef7-7755-4770-83c9-dfe8ef2b9432",
   "metadata": {},
   "outputs": [
    {
     "name": "stdin",
     "output_type": "stream",
     "text": [
      "Enter weight in kg 78\n",
      "Enter height in meters 5.4\n"
     ]
    },
    {
     "name": "stdout",
     "output_type": "stream",
     "text": [
      "BMI: 2.67\n"
     ]
    }
   ],
   "source": [
    "#Calculate BMI (Body Mass Index)\n",
    "\n",
    "def bmi(weight, height):\n",
    "    return weight / (height**2)\n",
    "\n",
    "weight = float(input(\"Enter weight in kg\"))\n",
    "height = float(input(\"Enter height in meters\"))\n",
    "print(\"BMI:\", round(bmi(weight, height), 2))"
   ]
  },
  {
   "cell_type": "code",
   "execution_count": 12,
   "id": "c9dea710-248a-4d78-a2c6-3724ca53c1c2",
   "metadata": {},
   "outputs": [
    {
     "name": "stdin",
     "output_type": "stream",
     "text": [
      "Enter number 33\n"
     ]
    },
    {
     "name": "stdout",
     "output_type": "stream",
     "text": [
      "Cube Root: 3.208\n"
     ]
    }
   ],
   "source": [
    "#Evaluate Cube Root of a Number\n",
    "\n",
    "def cube_root(n):\n",
    "    return round(n ** (1/3), 3)\n",
    "\n",
    "n = float(input(\"Enter number\"))\n",
    "print(\"Cube Root:\", cube_root(n))"
   ]
  },
  {
   "cell_type": "code",
   "execution_count": 15,
   "id": "f1499df6-29e1-4190-8eba-77a3c99c0874",
   "metadata": {},
   "outputs": [
    {
     "name": "stdin",
     "output_type": "stream",
     "text": [
      "Enter radius 4\n"
     ]
    },
    {
     "name": "stdout",
     "output_type": "stream",
     "text": [
      "Volume: 268.08\n"
     ]
    }
   ],
   "source": [
    "# Calculate Volume of a Sphere\n",
    "\n",
    "import math\n",
    "\n",
    "def volume_of_sphere(r):\n",
    "    return (4/3) * math.pi * r**3\n",
    "\n",
    "r = float(input(\"Enter radius\"))\n",
    "print(\"Volume:\", round(volume_of_sphere(r), 2))"
   ]
  },
  {
   "cell_type": "code",
   "execution_count": 18,
   "id": "0ed342e2-56f5-4905-8500-208e73cf9a37",
   "metadata": {},
   "outputs": [
    {
     "name": "stdin",
     "output_type": "stream",
     "text": [
      "Enter a 5\n",
      "Enter b 3\n"
     ]
    },
    {
     "name": "stdout",
     "output_type": "stream",
     "text": [
      "a³ + b³ = 152\n"
     ]
    }
   ],
   "source": [
    "#Evaluate Expression: a³ + b³\n",
    "\n",
    "def sum_of_cubes(a, b):\n",
    "    return a**3 + b**3\n",
    "\n",
    "a = int(input(\"Enter a\"))\n",
    "b = int(input(\"Enter b\"))\n",
    "print(\"a³ + b³ =\", sum_of_cubes(a, b))"
   ]
  },
  {
   "cell_type": "code",
   "execution_count": 22,
   "id": "dc82f6fc-19bd-43d7-9f1f-93f83faec553",
   "metadata": {},
   "outputs": [
    {
     "name": "stdin",
     "output_type": "stream",
     "text": [
      "Enter x 3\n",
      "Enter y 4\n",
      "Enter z 5\n"
     ]
    },
    {
     "name": "stdout",
     "output_type": "stream",
     "text": [
      "(x + y + z)^2 = 144\n"
     ]
    }
   ],
   "source": [
    "#Evaluate (x + y + z)²\n",
    "\n",
    "def square_sum(x, y, z):\n",
    "    return (x + y + z)**2\n",
    "\n",
    "x = int(input(\"Enter x\"))\n",
    "y = int(input(\"Enter y\"))\n",
    "z = int(input(\"Enter z\"))\n",
    "print(\"(x + y + z)^2 =\", square_sum(x, y, z))"
   ]
  },
  {
   "cell_type": "code",
   "execution_count": 25,
   "id": "034b6a8e-5c6f-42cc-b73e-4f4452c3fa27",
   "metadata": {},
   "outputs": [
    {
     "name": "stdin",
     "output_type": "stream",
     "text": [
      "Enter base 8\n",
      "Enter exponent 3\n"
     ]
    },
    {
     "name": "stdout",
     "output_type": "stream",
     "text": [
      "8^3 = 512\n"
     ]
    }
   ],
   "source": [
    "#Evaluate Power of a Number without using **\n",
    "\n",
    "def power(base, exp):\n",
    "    result = 1\n",
    "    for _ in range(exp):\n",
    "        result *= base\n",
    "    return result\n",
    "\n",
    "base = int(input(\"Enter base\"))\n",
    "exp = int(input(\"Enter exponent\"))\n",
    "print(f\"{base}^{exp} =\", power(base, exp))"
   ]
  },
  {
   "cell_type": "code",
   "execution_count": 29,
   "id": "9883f6b5-975e-41da-9746-c295e5e52540",
   "metadata": {},
   "outputs": [
    {
     "name": "stdin",
     "output_type": "stream",
     "text": [
      "Enter side a 4\n",
      "Enter side b 5\n",
      "Enter side c 6\n"
     ]
    },
    {
     "name": "stdout",
     "output_type": "stream",
     "text": [
      "Area of triangle: 9.92\n"
     ]
    }
   ],
   "source": [
    "#Calculate Area of Triangle using Heron’s Formula\n",
    "\n",
    "import math\n",
    "\n",
    "def heron_area(a, b, c):\n",
    "    s = (a + b + c) / 2\n",
    "    area = math.sqrt(s * (s - a) * (s - b) * (s - c))\n",
    "    return round(area, 2)\n",
    "\n",
    "a = float(input(\"Enter side a\"))\n",
    "b = float(input(\"Enter side b\"))\n",
    "c = float(input(\"Enter side c\"))\n",
    "print(\"Area of triangle:\", heron_area(a, b, c))"
   ]
  },
  {
   "cell_type": "code",
   "execution_count": 34,
   "id": "422294eb-89bf-44c1-82e1-b39aa6dee704",
   "metadata": {},
   "outputs": [
    {
     "name": "stdin",
     "output_type": "stream",
     "text": [
      "Enter a 4\n",
      "Enter b 6\n"
     ]
    },
    {
     "name": "stdout",
     "output_type": "stream",
     "text": [
      "Result of (a + b)^2 - (a - b)^2 = 96\n"
     ]
    }
   ],
   "source": [
    "#Evaluate Expression: (a + b)² - (a - b)² = ?\n",
    "\n",
    "def expression(a, b):\n",
    "    result = (a + b)**2 - (a - b)**2\n",
    "    return result\n",
    "\n",
    "a = int(input(\"Enter a\"))\n",
    "b = int(input(\"Enter b\"))\n",
    "print(\"Result of (a + b)^2 - (a - b)^2 =\", expression(a, b))"
   ]
  },
  {
   "cell_type": "code",
   "execution_count": null,
   "id": "788a4fa6-e070-4979-854a-e410c9830e0a",
   "metadata": {},
   "outputs": [],
   "source": []
  }
 ],
 "metadata": {
  "kernelspec": {
   "display_name": "Python 3 (ipykernel)",
   "language": "python",
   "name": "python3"
  },
  "language_info": {
   "codemirror_mode": {
    "name": "ipython",
    "version": 3
   },
   "file_extension": ".py",
   "mimetype": "text/x-python",
   "name": "python",
   "nbconvert_exporter": "python",
   "pygments_lexer": "ipython3",
   "version": "3.13.5"
  }
 },
 "nbformat": 4,
 "nbformat_minor": 5
}
