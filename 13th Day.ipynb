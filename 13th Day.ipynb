{
 "cells": [
  {
   "cell_type": "code",
   "execution_count": 1,
   "id": "c0445eed-1fbf-4fc2-a4f1-4192ad9f1ad1",
   "metadata": {},
   "outputs": [
    {
     "name": "stdin",
     "output_type": "stream",
     "text": [
      "Enter the radius of the circle:  4\n"
     ]
    },
    {
     "name": "stdout",
     "output_type": "stream",
     "text": [
      "The area of the circle is: 50.26548245743669\n"
     ]
    }
   ],
   "source": [
    "# Program to calculate the area of a circle\n",
    "\n",
    "import math\n",
    "\n",
    "radius = float(input(\"Enter the radius of the circle: \"))\n",
    "\n",
    "area = math.pi * radius ** 2\n",
    "\n",
    "print(\"The area of the circle is:\", area)\n"
   ]
  },
  {
   "cell_type": "code",
   "execution_count": 2,
   "id": "45d28e08-8896-44e2-bb74-52cee3b46b20",
   "metadata": {},
   "outputs": [
    {
     "data": {
      "text/plain": [
       "17.2"
      ]
     },
     "execution_count": 2,
     "metadata": {},
     "output_type": "execute_result"
    }
   ],
   "source": [
    "#Solve the expression. 5.2 + True + bool(-5) - 4 + 42//5 +bool(0) + False + int(5.9) + float('1')\n",
    "\n",
    "5.2 + True + bool(-5) - 4 + 42//5 + bool(0) + False + int(5.9) + float('1')"
   ]
  },
  {
   "cell_type": "code",
   "execution_count": 5,
   "id": "343662a4-2d5d-4300-8d1f-59d6fad19819",
   "metadata": {},
   "outputs": [
    {
     "name": "stdin",
     "output_type": "stream",
     "text": [
      "Enter a number:  6\n"
     ]
    },
    {
     "name": "stdout",
     "output_type": "stream",
     "text": [
      "The number lies between 1 and 10.\n"
     ]
    }
   ],
   "source": [
    "#Write code to test whether the given number lies between 1 and 10\n",
    "\n",
    "num = float(input(\"Enter a number: \"))\n",
    "\n",
    "if 1 < num < 10:\n",
    "    print(\"The number lies between 1 and 10.\")\n",
    "else:\n",
    "    print(\"The number does NOT lie between 1 and 10.\")"
   ]
  },
  {
   "cell_type": "code",
   "execution_count": 7,
   "id": "6b970cb5-8792-45ec-a8a3-f39f8b8fe55a",
   "metadata": {},
   "outputs": [
    {
     "name": "stdout",
     "output_type": "stream",
     "text": [
      "The sum of numbers from 1 to 100 is: 5050\n"
     ]
    }
   ],
   "source": [
    "#sum the numbers from 1 to 20 using for loop\n",
    "\n",
    "total = 0\n",
    "for i in range(1, 101):\n",
    "    total += i\n",
    "\n",
    "print(\"The sum of numbers from 1 to 100 is:\", total)"
   ]
  },
  {
   "cell_type": "code",
   "execution_count": 8,
   "id": "584a5938-4d4e-4e0d-a844-e9567bcab5d0",
   "metadata": {},
   "outputs": [
    {
     "name": "stdout",
     "output_type": "stream",
     "text": [
      "100\n",
      "99\n",
      "98\n",
      "97\n",
      "96\n",
      "95\n",
      "94\n",
      "93\n",
      "92\n",
      "91\n",
      "90\n",
      "89\n",
      "88\n",
      "87\n",
      "86\n",
      "85\n",
      "84\n",
      "83\n",
      "82\n",
      "81\n",
      "80\n",
      "79\n",
      "78\n",
      "77\n",
      "76\n",
      "75\n",
      "74\n",
      "73\n",
      "72\n",
      "71\n",
      "70\n",
      "69\n",
      "68\n",
      "67\n",
      "66\n",
      "65\n",
      "64\n",
      "63\n",
      "62\n",
      "61\n",
      "60\n",
      "59\n",
      "58\n",
      "57\n",
      "56\n",
      "55\n",
      "54\n",
      "53\n",
      "52\n",
      "51\n",
      "50\n",
      "49\n",
      "48\n",
      "47\n",
      "46\n",
      "45\n",
      "44\n",
      "43\n",
      "42\n",
      "41\n",
      "40\n",
      "39\n",
      "38\n",
      "37\n",
      "36\n",
      "35\n",
      "34\n",
      "33\n",
      "32\n",
      "31\n",
      "30\n",
      "29\n",
      "28\n",
      "27\n",
      "26\n",
      "25\n",
      "24\n",
      "23\n",
      "22\n",
      "21\n",
      "20\n",
      "19\n",
      "18\n",
      "17\n",
      "16\n",
      "15\n",
      "14\n",
      "13\n",
      "12\n",
      "11\n",
      "10\n",
      "9\n",
      "8\n",
      "7\n",
      "6\n",
      "5\n",
      "4\n",
      "3\n",
      "2\n",
      "1\n"
     ]
    }
   ],
   "source": [
    "#Display the numbers in reverse from 100 to 1\n",
    "\n",
    "for i in range(100, 0, -1):\n",
    "    print(i)"
   ]
  },
  {
   "cell_type": "code",
   "execution_count": 9,
   "id": "7df1b613-b878-4973-a450-5b98dab8c7ff",
   "metadata": {},
   "outputs": [
    {
     "name": "stdout",
     "output_type": "stream",
     "text": [
      "10\n",
      "12\n",
      "14\n",
      "16\n",
      "18\n",
      "20\n",
      "22\n",
      "24\n",
      "26\n",
      "28\n",
      "30\n",
      "32\n",
      "34\n",
      "36\n",
      "38\n",
      "40\n",
      "42\n",
      "44\n",
      "46\n",
      "48\n",
      "50\n"
     ]
    }
   ],
   "source": [
    "#Display multiples of 2 from 10 to 50 using range\n",
    "\n",
    "for i in range(10, 51, 2):\n",
    "    print(i)"
   ]
  },
  {
   "cell_type": "code",
   "execution_count": 13,
   "id": "a9c17c98-a348-420f-8f77-5e4a74cb2a76",
   "metadata": {},
   "outputs": [
    {
     "name": "stdout",
     "output_type": "stream",
     "text": [
      "Extracted word: Pune\n"
     ]
    }
   ],
   "source": [
    "#From the below nested dictionary, pick the word \"Bangalore\". \n",
    "d = {'1':'Three','2':[1,{'Five':['Om','Sh','Rutuja',{'Place':[5,6,7,'Pune']}]}]}\n",
    "Pune = d['2'][1]['Five'][3]['Place'][3]\n",
    "print(\"Extracted word:\", Pune)"
   ]
  },
  {
   "cell_type": "code",
   "execution_count": 15,
   "id": "45967c97-883a-4521-aa0c-0ab1f3c0eced",
   "metadata": {},
   "outputs": [
    {
     "name": "stdout",
     "output_type": "stream",
     "text": [
      "Square of 2 is 4\n",
      "Square of 3 is 9\n",
      "Square of 4 is 16\n",
      "Square of 5 is 25\n",
      "Square of 6 is 36\n",
      "Square of 7 is 49\n",
      "Square of 8 is 64\n",
      "Square of 9 is 81\n",
      "Square of 10 is 100\n",
      "Square of 11 is 121\n"
     ]
    }
   ],
   "source": [
    "#Use functions to return square of numbers from 2 to 5\n",
    "\n",
    "def square(num):\n",
    "    return num ** 2\n",
    "\n",
    "for i in range(2, 12):\n",
    "    print(f\"Square of {i} is {square(i)}\")"
   ]
  },
  {
   "cell_type": "code",
   "execution_count": 16,
   "id": "2bf26676-07a8-4cac-b36a-19bde611e3f8",
   "metadata": {},
   "outputs": [
    {
     "name": "stdin",
     "output_type": "stream",
     "text": [
      "Enter comma-separated numbers:  10,20,30,40,50,60,70,80,90\n"
     ]
    },
    {
     "name": "stdout",
     "output_type": "stream",
     "text": [
      "List: ['10', '20', '30', '40', '50', '60', '70', '80', '90']\n",
      "Tuple: ('10', '20', '30', '40', '50', '60', '70', '80', '90')\n"
     ]
    }
   ],
   "source": [
    "## Accept comma-separated numbers from the user\n",
    "input_str = input(\"Enter comma-separated numbers: \")\n",
    "\n",
    "number_list = input_str.split(',')\n",
    "\n",
    "number_tuple = tuple(number_list)\n",
    "\n",
    "print(\"List:\", number_list)\n",
    "print(\"Tuple:\", number_tuple)"
   ]
  },
  {
   "cell_type": "code",
   "execution_count": 17,
   "id": "aa9a9417-aa3d-402c-abf0-b2c6436e279d",
   "metadata": {},
   "outputs": [
    {
     "name": "stdout",
     "output_type": "stream",
     "text": [
      "First color: Red\n",
      "Last color: Black\n"
     ]
    }
   ],
   "source": [
    "#Write a Python program to display the first and last colors from the following list.\n",
    "color_list = [\"Red\",\"Green\",\"White\" ,\"Black\"]\n",
    "print(\"First color:\", color_list[0])\n",
    "print(\"Last color:\", color_list[-1])"
   ]
  },
  {
   "cell_type": "code",
   "execution_count": null,
   "id": "bb495058-8264-44f0-bc4a-7e73fcdea0cc",
   "metadata": {},
   "outputs": [],
   "source": []
  }
 ],
 "metadata": {
  "kernelspec": {
   "display_name": "Python 3 (ipykernel)",
   "language": "python",
   "name": "python3"
  },
  "language_info": {
   "codemirror_mode": {
    "name": "ipython",
    "version": 3
   },
   "file_extension": ".py",
   "mimetype": "text/x-python",
   "name": "python",
   "nbconvert_exporter": "python",
   "pygments_lexer": "ipython3",
   "version": "3.13.5"
  }
 },
 "nbformat": 4,
 "nbformat_minor": 5
}
