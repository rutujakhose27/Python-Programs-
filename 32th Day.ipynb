{
 "cells": [
  {
   "cell_type": "code",
   "execution_count": 25,
   "id": "479a90db-96de-4b9f-9ad3-a9cff31ea86c",
   "metadata": {},
   "outputs": [
    {
     "name": "stdin",
     "output_type": "stream",
     "text": [
      "Enter a number:  25\n"
     ]
    },
    {
     "name": "stdout",
     "output_type": "stream",
     "text": [
      "Automorphic number\n"
     ]
    }
   ],
   "source": [
    "#Check if a Number is Automorphic\n",
    "\n",
    "num = int(input(\"Enter a number: \"))\n",
    "if str(num*num).endswith(str(num)):\n",
    "    print(\"Automorphic number\")\n",
    "else:\n",
    "    print(\"Not automorphic\")"
   ]
  },
  {
   "cell_type": "code",
   "execution_count": 27,
   "id": "06af58ea-367e-4a94-9f21-ef172d788223",
   "metadata": {},
   "outputs": [
    {
     "name": "stdin",
     "output_type": "stream",
     "text": [
      "Enter a number:  5678\n"
     ]
    },
    {
     "name": "stdout",
     "output_type": "stream",
     "text": [
      "Single digit sum: 8\n"
     ]
    }
   ],
   "source": [
    "#Sum of Digits Until Single Digit\n",
    "\n",
    "num = int(input(\"Enter a number: \"))\n",
    "while num >= 10:\n",
    "    num = sum(int(d) for d in str(num))\n",
    "print(\"Single digit sum:\", num)"
   ]
  },
  {
   "cell_type": "code",
   "execution_count": 30,
   "id": "b0ebab17-ef74-49f7-a60a-a62b439eeb35",
   "metadata": {},
   "outputs": [
    {
     "name": "stdin",
     "output_type": "stream",
     "text": [
      "Enter start range:  1\n",
      "Enter end range:  100000\n"
     ]
    },
    {
     "name": "stdout",
     "output_type": "stream",
     "text": [
      "1 5 6 25 76 376 625 9376 90625 "
     ]
    }
   ],
   "source": [
    "#Find All Automorphic Numbers in a Range\n",
    "\n",
    "start = int(input(\"Enter start range: \"))\n",
    "end = int(input(\"Enter end range: \"))\n",
    "for num in range(start, end+1):\n",
    "    if str(num*num).endswith(str(num)):\n",
    "        print(num, end=\" \")"
   ]
  },
  {
   "cell_type": "code",
   "execution_count": 35,
   "id": "47f2826d-d016-4959-9a28-56e738862dc4",
   "metadata": {},
   "outputs": [
    {
     "name": "stdin",
     "output_type": "stream",
     "text": [
      "Enter a number:  9\n"
     ]
    },
    {
     "name": "stdout",
     "output_type": "stream",
     "text": [
      "Neon number\n"
     ]
    }
   ],
   "source": [
    "#Check if a Number is a Neon Number\n",
    "\n",
    "num = int(input(\"Enter a number: \"))\n",
    "if sum(int(d) for d in str(num*num)) == num:\n",
    "    print(\"Neon number\")\n",
    "else:\n",
    "    print(\"Not a neon number\")"
   ]
  },
  {
   "cell_type": "code",
   "execution_count": 41,
   "id": "aa0f1a37-7128-4a06-9a58-65374c14b51a",
   "metadata": {},
   "outputs": [
    {
     "name": "stdin",
     "output_type": "stream",
     "text": [
      "enter start range: 1\n",
      "enter end range: 100\n"
     ]
    },
    {
     "name": "stdout",
     "output_type": "stream",
     "text": [
      "1 9 "
     ]
    }
   ],
   "source": [
    "#find all Neon Numbers\n",
    "\n",
    "start=int(input(\"enter start range:\"))\n",
    "end=int(input(\"enter end range:\"))\n",
    "for num in range(start, end+1):\n",
    "    if sum(int(d) for d in str(num*num)) == num:\n",
    "        print(num, end=\" \")"
   ]
  },
  {
   "cell_type": "code",
   "execution_count": 46,
   "id": "88e8245f-f3f0-41c4-8a24-98b7ddc639c5",
   "metadata": {},
   "outputs": [
    {
     "name": "stdin",
     "output_type": "stream",
     "text": [
      "Enter a number:  8\n"
     ]
    },
    {
     "name": "stdout",
     "output_type": "stream",
     "text": [
      "Spy number\n"
     ]
    }
   ],
   "source": [
    "#Check if a Number is a Spy Number\n",
    "\n",
    "num = input(\"Enter a number: \")\n",
    "sum_digits = sum(int(d) for d in num)\n",
    "product_digits = 1\n",
    "for d in num:\n",
    "    product_digits *= int(d)\n",
    "if sum_digits == product_digits:\n",
    "    print(\"Spy number\")\n",
    "else:\n",
    "    print(\"Not a spy number\")"
   ]
  },
  {
   "cell_type": "code",
   "execution_count": 48,
   "id": "8f044328-450d-454b-9ae0-e823eb275c94",
   "metadata": {},
   "outputs": [
    {
     "name": "stdin",
     "output_type": "stream",
     "text": [
      "Enter a number:  900\n"
     ]
    },
    {
     "name": "stdout",
     "output_type": "stream",
     "text": [
      "Duck number\n"
     ]
    }
   ],
   "source": [
    "#Check if a Number is a Duck Number\n",
    "\n",
    "num = input(\"Enter a number: \")\n",
    "if \"0\" in num[1:]:\n",
    "    print(\"Duck number\")\n",
    "else:\n",
    "    print(\"Not a duck number\")"
   ]
  },
  {
   "cell_type": "code",
   "execution_count": 50,
   "id": "5269974f-d24c-4de7-8e32-fb9c1ede3d8a",
   "metadata": {},
   "outputs": [
    {
     "name": "stdin",
     "output_type": "stream",
     "text": [
      "Enter text:  Shruti\n"
     ]
    },
    {
     "name": "stdout",
     "output_type": "stream",
     "text": [
      "Isogram\n"
     ]
    }
   ],
   "source": [
    "#Check if a String is an Isogram\n",
    "\n",
    "text = input(\"Enter text: \").lower()\n",
    "if len(set(text)) == len(text):\n",
    "    print(\"Isogram\")\n",
    "else:\n",
    "    print(\"Not an isogram\")"
   ]
  },
  {
   "cell_type": "code",
   "execution_count": 55,
   "id": "209e8b6c-50f8-4e94-9e49-3e3e967d015d",
   "metadata": {},
   "outputs": [
    {
     "name": "stdin",
     "output_type": "stream",
     "text": [
      "Enter N:  20\n"
     ]
    },
    {
     "name": "stdout",
     "output_type": "stream",
     "text": [
      "Squares: [1, 4, 9, 16, 25, 36, 49, 64, 81, 100, 121, 144, 169, 196, 225, 256, 289, 324, 361, 400]\n"
     ]
    }
   ],
   "source": [
    "#Generate a List of Squares\n",
    "\n",
    "n = int(input(\"Enter N: \"))\n",
    "squares = [i**2 for i in range(1, n+1)]\n",
    "print(\"Squares:\", squares)"
   ]
  },
  {
   "cell_type": "code",
   "execution_count": 62,
   "id": "b8753870-184b-4765-bb21-bcd43f8ef821",
   "metadata": {},
   "outputs": [
    {
     "name": "stdin",
     "output_type": "stream",
     "text": [
      "Enter a number:  3\n"
     ]
    },
    {
     "name": "stdout",
     "output_type": "stream",
     "text": [
      "Evil number\n"
     ]
    }
   ],
   "source": [
    "#Check if a Number is an Evil Number\n",
    "\n",
    "num = int(input(\"Enter a number: \"))\n",
    "if bin(num).count(\"1\") % 2 == 0:\n",
    "    print(\"Evil number\")\n",
    "else:\n",
    "    print(\"Not an evil number\")"
   ]
  },
  {
   "cell_type": "code",
   "execution_count": null,
   "id": "6a624871-09a1-4f56-857a-2f75b0bb0d9e",
   "metadata": {},
   "outputs": [],
   "source": []
  }
 ],
 "metadata": {
  "kernelspec": {
   "display_name": "Python 3 (ipykernel)",
   "language": "python",
   "name": "python3"
  },
  "language_info": {
   "codemirror_mode": {
    "name": "ipython",
    "version": 3
   },
   "file_extension": ".py",
   "mimetype": "text/x-python",
   "name": "python",
   "nbconvert_exporter": "python",
   "pygments_lexer": "ipython3",
   "version": "3.13.5"
  }
 },
 "nbformat": 4,
 "nbformat_minor": 5
}
