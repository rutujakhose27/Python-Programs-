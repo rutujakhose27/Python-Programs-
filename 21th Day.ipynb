{
 "cells": [
  {
   "cell_type": "code",
   "execution_count": 3,
   "id": "3cc09452-dd4e-471c-a36a-b68b6053e9e8",
   "metadata": {},
   "outputs": [
    {
     "name": "stdout",
     "output_type": "stream",
     "text": [
      "Each friend gets 12 chocolates\n"
     ]
    }
   ],
   "source": [
    "#Divide Chocolates Equally Among Friends\n",
    "\n",
    "chocolates = 99\n",
    "friends = 8\n",
    "each_get = chocolates // friends\n",
    "print(\"Each friend gets\", each_get, \"chocolates\")"
   ]
  },
  {
   "cell_type": "code",
   "execution_count": 7,
   "id": "b07b2e67-5482-44a7-a950-d82d003c89f8",
   "metadata": {},
   "outputs": [
    {
     "name": "stdout",
     "output_type": "stream",
     "text": [
      "Second Largest 70\n"
     ]
    }
   ],
   "source": [
    "#Find second largest number in a list\n",
    "\n",
    "numbers = [10, 20, 40, 60, 6, 70, 44, 99, 30, 50]\n",
    "numbers = list(set(numbers))\n",
    "numbers.sort()\n",
    "print(\"Second Largest\", numbers[-2])"
   ]
  },
  {
   "cell_type": "code",
   "execution_count": 10,
   "id": "97f93cbe-2f57-42b7-a514-724a42d1c32e",
   "metadata": {},
   "outputs": [
    {
     "name": "stdout",
     "output_type": "stream",
     "text": [
      "Cubes [1, 8, 27, 64, 125, 216, 343, 512, 729, 1000]\n"
     ]
    }
   ],
   "source": [
    "# Create a list of cubes from 1 to N\n",
    "\n",
    "n = 10\n",
    "cubes = [x**3 for x in range(1, n+1)]\n",
    "print(\"Cubes\", cubes)"
   ]
  },
  {
   "cell_type": "code",
   "execution_count": 14,
   "id": "cb6879ee-05ea-42d7-b5f8-a56c1b57c739",
   "metadata": {},
   "outputs": [
    {
     "name": "stdin",
     "output_type": "stream",
     "text": [
      "Enter withdrawal amount:- ₹ 450\n"
     ]
    },
    {
     "name": "stdout",
     "output_type": "stream",
     "text": [
      "200 x 2\n",
      "50 x 1\n"
     ]
    }
   ],
   "source": [
    "#Currency Note Counter\n",
    "\n",
    "amount = int(input(\"Enter withdrawal amount:- ₹\"))\n",
    "notes = [2000, 500, 200, 100, 50, 20, 10]\n",
    "for note in notes:\n",
    "    count = amount // note\n",
    "    if count:\n",
    "        print(f\"{note} x {count}\")\n",
    "    amount %= note"
   ]
  },
  {
   "cell_type": "code",
   "execution_count": 18,
   "id": "b64ee21c-c1ec-4331-a3a0-bdb67a126b64",
   "metadata": {},
   "outputs": [
    {
     "name": "stdout",
     "output_type": "stream",
     "text": [
      "Perimeter of square 48\n"
     ]
    }
   ],
   "source": [
    "#Find Perimeter of a Square\n",
    "\n",
    "side = 12\n",
    "perimeter = 4 * side\n",
    "print(\"Perimeter of square\", perimeter)"
   ]
  },
  {
   "cell_type": "code",
   "execution_count": 24,
   "id": "59dfbd3b-f8df-4be7-8c39-008266ec9a13",
   "metadata": {},
   "outputs": [
    {
     "name": "stdout",
     "output_type": "stream",
     "text": [
      " $ \n",
      " $  $ \n",
      " $  $  $ \n",
      " $  $  $  $ \n",
      " $  $  $  $  $ \n"
     ]
    }
   ],
   "source": [
    "#Pattern (Triangle)\n",
    "\n",
    "rows = 5\n",
    "for i in range(1, rows + 1):\n",
    "    print(\" $ \" * i)"
   ]
  },
  {
   "cell_type": "code",
   "execution_count": 27,
   "id": "6e527271-c3ac-4288-b82c-9c00801a2312",
   "metadata": {},
   "outputs": [
    {
     "name": "stdout",
     "output_type": "stream",
     "text": [
      "75000 cm is equal to 750.0 meters\n"
     ]
    }
   ],
   "source": [
    "#Convert Centimeters to Meters\n",
    "\n",
    "cm = 75000\n",
    "meters = cm / 100\n",
    "print(f\"{cm} cm is equal to {meters} meters\")"
   ]
  },
  {
   "cell_type": "code",
   "execution_count": 30,
   "id": "afb9d4bb-e781-4f86-b985-48d3966177e8",
   "metadata": {},
   "outputs": [
    {
     "name": "stdout",
     "output_type": "stream",
     "text": [
      "Average = 73.6\n"
     ]
    }
   ],
   "source": [
    "#Find the Average of 3 Numbers\n",
    "\n",
    "a, b, c, d, e = 75, 85, 90, 88 , 30\n",
    "average = (a + b + c + d + e) / 5\n",
    "print(\"Average =\", average)"
   ]
  },
  {
   "cell_type": "code",
   "execution_count": 33,
   "id": "03f0a569-f300-48d5-9f23-696f62ab0604",
   "metadata": {},
   "outputs": [
    {
     "name": "stdout",
     "output_type": "stream",
     "text": [
      "Volume of cuboid:- 504 cubic units\n"
     ]
    }
   ],
   "source": [
    "#Volume of a Cuboid\n",
    "\n",
    "length = 7\n",
    "width = 8\n",
    "height = 9\n",
    "volume = length * width * height\n",
    "print(\"Volume of cuboid:-\", volume, \"cubic units\")"
   ]
  },
  {
   "cell_type": "code",
   "execution_count": 37,
   "id": "1c9053cf-0b6e-40aa-889d-5798246e684f",
   "metadata": {},
   "outputs": [
    {
     "name": "stdout",
     "output_type": "stream",
     "text": [
      "Speed = 58.333333333333336 km/hr\n"
     ]
    }
   ],
   "source": [
    "#Calculate Speed (Distance / Time)\n",
    "\n",
    "distance = 350 # km\n",
    "time = 6     # hours\n",
    "speed = distance / time\n",
    "print(\"Speed =\", speed, \"km/hr\")"
   ]
  },
  {
   "cell_type": "code",
   "execution_count": null,
   "id": "47a3e158-baec-48ae-90a8-27bc4f570f78",
   "metadata": {},
   "outputs": [],
   "source": []
  }
 ],
 "metadata": {
  "kernelspec": {
   "display_name": "Python 3 (ipykernel)",
   "language": "python",
   "name": "python3"
  },
  "language_info": {
   "codemirror_mode": {
    "name": "ipython",
    "version": 3
   },
   "file_extension": ".py",
   "mimetype": "text/x-python",
   "name": "python",
   "nbconvert_exporter": "python",
   "pygments_lexer": "ipython3",
   "version": "3.13.5"
  }
 },
 "nbformat": 4,
 "nbformat_minor": 5
}
