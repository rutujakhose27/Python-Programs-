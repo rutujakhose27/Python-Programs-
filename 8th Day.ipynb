{
 "cells": [
  {
   "cell_type": "code",
   "execution_count": 1,
   "id": "ab603186-251f-4d3b-94a4-0f9af20aae47",
   "metadata": {},
   "outputs": [
    {
     "name": "stdout",
     "output_type": "stream",
     "text": [
      "('Tomato', 'Bottle Gourd', 'Potato', 'Pea', 'Green Chili', 'Cucumber', 'Onion', 'Cauliflower', 'Bitter Gourd')\n"
     ]
    }
   ],
   "source": [
    "#create a tuple of vegetables\n",
    "vagetables=(\"Tomato\", \"Bottle Gourd\", \"Potato\", \"Pea\", \"Green Chili\", \"Cucumber\", \"Onion\", \"Cauliflower\", \"Bitter Gourd\")\n",
    "print(vagetables)"
   ]
  },
  {
   "cell_type": "code",
   "execution_count": 3,
   "id": "0b36e995-cd25-43dc-be20-54871974487b",
   "metadata": {},
   "outputs": [
    {
     "name": "stdout",
     "output_type": "stream",
     "text": [
      "First fruit: apple\n",
      "Last fruit: watermelon\n",
      "mango\n"
     ]
    }
   ],
   "source": [
    "#Accessing Tuple Elements\n",
    "fruits=(\"apple\", \"banana\", \"orange\", \"grapes\", \"mango\", \"strawberry\", \"pineapple\", \"watermelon\")\n",
    "print(\"First fruit:\", fruits[0])\n",
    "print(\"Last fruit:\", fruits[-1])\n",
    "print(fruits[4])"
   ]
  },
  {
   "cell_type": "code",
   "execution_count": 4,
   "id": "ce3e90ce-f77d-4b51-90a5-a4d96a58faa9",
   "metadata": {},
   "outputs": [
    {
     "name": "stdout",
     "output_type": "stream",
     "text": [
      "Concatenated: (1, 2, 3, 4, 5, 6, 7, 8, 9, 10)\n",
      "Repeated: (1, 2, 3, 4, 5, 6, 1, 2, 3, 4, 5, 6)\n"
     ]
    }
   ],
   "source": [
    "# Concatenate and Repeat Tuples\n",
    "tuple1 = (1, 2, 3, 4, 5, 6)\n",
    "tuple2 = (7, 8, 9, 10)\n",
    "result = tuple1 + tuple2\n",
    "repeat = tuple1 * 2\n",
    "print(\"Concatenated:\", result)\n",
    "print(\"Repeated:\", repeat)"
   ]
  },
  {
   "cell_type": "code",
   "execution_count": 10,
   "id": "dbc4d060-737e-46f8-a319-17eaebbd79ec",
   "metadata": {},
   "outputs": [
    {
     "name": "stdout",
     "output_type": "stream",
     "text": [
      "3\n",
      "2\n"
     ]
    }
   ],
   "source": [
    "#Count and Index Methods\n",
    "data=(1, 2, 3, 2, 4, 2, 5)\n",
    "print(data.count(2))\n",
    "print(data.index(3))"
   ]
  },
  {
   "cell_type": "code",
   "execution_count": 11,
   "id": "563ca3c0-96f4-4556-a02b-0821bde68be5",
   "metadata": {},
   "outputs": [
    {
     "name": "stdout",
     "output_type": "stream",
     "text": [
      "Modified tuple: (10, 20, 30, 40, 50, 60, 70, 40)\n"
     ]
    }
   ],
   "source": [
    "#Convert Tuple to List and Back\n",
    "tuple1 = (10, 20, 30, 40, 50, 60, 70)\n",
    "list1 = list(tuple1)\n",
    "list1.append(40)\n",
    "tuple2 = tuple(list1)\n",
    "print(\"Modified tuple:\", tuple2)"
   ]
  },
  {
   "cell_type": "code",
   "execution_count": 12,
   "id": "270a066e-9d0c-4b1e-a518-09f0db753faf",
   "metadata": {},
   "outputs": [
    {
     "name": "stdout",
     "output_type": "stream",
     "text": [
      "Name: Rutuja\n",
      "Age: 22\n",
      "Country: India\n"
     ]
    }
   ],
   "source": [
    "# Unpack a Tuple\n",
    "person = (\"Rutuja\", 22, \"India\")\n",
    "name, age, country = person\n",
    "print(\"Name:\", name)\n",
    "print(\"Age:\", age)\n",
    "print(\"Country:\", country)"
   ]
  },
  {
   "cell_type": "code",
   "execution_count": 13,
   "id": "063e4162-a240-4e73-ae4a-37a4c29096d8",
   "metadata": {},
   "outputs": [
    {
     "name": "stdout",
     "output_type": "stream",
     "text": [
      "Rutuja - <class 'str'>\n",
      "22 - <class 'int'>\n",
      "True - <class 'bool'>\n",
      "75.5 - <class 'float'>\n"
     ]
    }
   ],
   "source": [
    "#Tuple with Mixed Data Types\n",
    "info = (\"Rutuja\", 22, True, 75.5)\n",
    "for item in info:\n",
    "    print(f\"{item} - {type(item)}\")"
   ]
  },
  {
   "cell_type": "code",
   "execution_count": 14,
   "id": "8391fe8b-a5da-45e2-8f59-d6552c508800",
   "metadata": {},
   "outputs": [
    {
     "name": "stdout",
     "output_type": "stream",
     "text": [
      "Student Name: Rutuja\n",
      "Subjects: ('Math', 'Science', 'English')\n",
      "First Subject: Math\n"
     ]
    }
   ],
   "source": [
    "# Nesting Tuples\n",
    "student = (\"Rutuja\", (\"Math\", \"Science\", \"English\"))\n",
    "print(\"Student Name:\", student[0])\n",
    "print(\"Subjects:\", student[1])\n",
    "print(\"First Subject:\", student[1][0])"
   ]
  },
  {
   "cell_type": "code",
   "execution_count": 15,
   "id": "6d8ca488-9a03-4c63-bca0-96ed69be4235",
   "metadata": {},
   "outputs": [
    {
     "name": "stdout",
     "output_type": "stream",
     "text": [
      "City at (19.07, 72.87): Mumbai\n"
     ]
    }
   ],
   "source": [
    "# Tuple as Dictionary Keys\n",
    "# Tuples can be keys because they are immutable\n",
    "locations={(19.07, 72.87): \"Mumbai\",(28.61, 77.20): \"Delhi\"}\n",
    "print(\"City at (19.07, 72.87):\", locations[(19.07, 72.87)])"
   ]
  },
  {
   "cell_type": "code",
   "execution_count": 20,
   "id": "b3699355-a2ab-4fdb-8b6a-3676841ec882",
   "metadata": {},
   "outputs": [
    {
     "name": "stdin",
     "output_type": "stream",
     "text": [
      "Enter start of range:  2\n",
      "Enter end of range:  99\n"
     ]
    },
    {
     "name": "stdout",
     "output_type": "stream",
     "text": [
      "Prime numbers in tuple form: (2, 3, 5, 7, 11, 13, 17, 19, 23, 29, 31, 37, 41, 43, 47, 53, 59, 61, 67, 71, 73, 79, 83, 89, 97)\n"
     ]
    }
   ],
   "source": [
    "# Function to check if a number is prime\n",
    "def is_prime(n):\n",
    "    if n <= 1:\n",
    "        return False\n",
    "    for i in range(2, int(n**0.5) + 1):\n",
    "        if n % i == 0:\n",
    "            return False\n",
    "    return True\n",
    "\n",
    "start = int(input(\"Enter start of range: \"))\n",
    "end = int(input(\"Enter end of range: \"))\n",
    "\n",
    "# Find all prime numbers in the range\n",
    "prime_list = []\n",
    "for num in range(start, end + 1):\n",
    "    if is_prime(num):\n",
    "        prime_list.append(num)\n",
    "prime_tuple = tuple(prime_list)\n",
    "print(\"Prime numbers in tuple form:\", prime_tuple)"
   ]
  },
  {
   "cell_type": "code",
   "execution_count": null,
   "id": "b7115465-4225-41e1-bc45-9115ab15d753",
   "metadata": {},
   "outputs": [],
   "source": []
  }
 ],
 "metadata": {
  "kernelspec": {
   "display_name": "Python 3 (ipykernel)",
   "language": "python",
   "name": "python3"
  },
  "language_info": {
   "codemirror_mode": {
    "name": "ipython",
    "version": 3
   },
   "file_extension": ".py",
   "mimetype": "text/x-python",
   "name": "python",
   "nbconvert_exporter": "python",
   "pygments_lexer": "ipython3",
   "version": "3.13.5"
  }
 },
 "nbformat": 4,
 "nbformat_minor": 5
}
