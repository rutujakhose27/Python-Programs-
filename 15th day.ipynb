{
 "cells": [
  {
   "cell_type": "code",
   "execution_count": 5,
   "id": "dde536fe-4b6e-430a-a150-2d024f3ec69d",
   "metadata": {},
   "outputs": [
    {
     "name": "stdout",
     "output_type": "stream",
     "text": [
      "No. of Upper case characters: 3\n",
      "No. of Lower case Characters: 12\n"
     ]
    }
   ],
   "source": [
    "#Write a Python function that accepts a string and counts the number of upper and lower case letters. Sample String :\n",
    "#'The quick Brow Fox' Expected Output : No. of Upper case characters : 3 No. of Lower case Characters : 12\n",
    "\n",
    "def count_case_letters(s):\n",
    "    upper_count = 0\n",
    "    lower_count = 0\n",
    "\n",
    "    for char in s:\n",
    "        if char.isupper():\n",
    "            upper_count += 1\n",
    "        elif char.islower():\n",
    "            lower_count += 1\n",
    "\n",
    "    print(\"No. of Upper case characters:\", upper_count)\n",
    "    print(\"No. of Lower case Characters:\", lower_count)\n",
    "count_case_letters('The quick Brow Fox')"
   ]
  },
  {
   "cell_type": "code",
   "execution_count": 11,
   "id": "c4b209bb-52fb-4e9d-bbd4-c1edfac48b3d",
   "metadata": {},
   "outputs": [
    {
     "name": "stdout",
     "output_type": "stream",
     "text": [
      "Even numbers: [2, 4, 6, 8, 10, 12, 14, 16, 20]\n"
     ]
    }
   ],
   "source": [
    "#Write a Python program to print the even numbers from a given list.\n",
    "\n",
    "def get_even_numbers(input_list):\n",
    "    even_numbers = []\n",
    "    for num in input_list:\n",
    "        if num % 2 == 0:\n",
    "            even_numbers.append(num)\n",
    "    return even_numbers\n",
    "\n",
    "sample_list = [1, 2, 3, 4, 5, 6, 7, 8, 9, 10, 11, 12, 13, 14, 15, 16, 17, 19, 20]\n",
    "result = get_even_numbers(sample_list)\n",
    "print(\"Even numbers:\", result)"
   ]
  },
  {
   "cell_type": "code",
   "execution_count": 16,
   "id": "e9f73285-4b75-4762-9a11-f7f76d135845",
   "metadata": {},
   "outputs": [
    {
     "name": "stdout",
     "output_type": "stream",
     "text": [
      "False\n",
      "False\n",
      "True\n"
     ]
    }
   ],
   "source": [
    "#Write a Python function to check whether a number is \"Perfect\" or not. \n",
    "\n",
    "def is_perfect(number):\n",
    "    if number <= 0:\n",
    "        return False  \n",
    "\n",
    "    sum_of_divisors = 0\n",
    "    for i in range(1, number):\n",
    "        if number % i == 0:\n",
    "            sum_of_divisors += i\n",
    "\n",
    "    return sum_of_divisors == number\n",
    "\n",
    "print(is_perfect(7))    \n",
    "print(is_perfect(30))    \n",
    "print(is_perfect(6))    "
   ]
  },
  {
   "cell_type": "code",
   "execution_count": 17,
   "id": "0d7e3a62-342a-41a9-abaa-2d70704371b8",
   "metadata": {},
   "outputs": [
    {
     "name": "stdout",
     "output_type": "stream",
     "text": [
      "True\n",
      "True\n",
      "False\n"
     ]
    }
   ],
   "source": [
    "#Write a Python function that checks whether a passed string is a palindrome or not. Note: A palindrome is a word, phrase, or sequence that reads the \n",
    "#same backward as forward\n",
    "\n",
    "import string\n",
    "\n",
    "def is_palindrome(s):\n",
    "    cleaned = ''.join(char.lower() for char in s if char.isalnum())\n",
    "    return cleaned == cleaned[::-1]\n",
    "\n",
    "print(is_palindrome(\"A man, a plan, a canal: Panama\"))  \n",
    "print(is_palindrome(\"Was it a car or a cat I saw?\"))    \n",
    "print(is_palindrome(\"Hello, world!\"))                   "
   ]
  },
  {
   "cell_type": "code",
   "execution_count": 25,
   "id": "35b2b476-3725-4a8d-a41e-97b3e506160f",
   "metadata": {},
   "outputs": [
    {
     "name": "stdout",
     "output_type": "stream",
     "text": [
      "                   1                    \n",
      "                  1 1                   \n",
      "                 1 2 1                  \n",
      "                1 3 3 1                 \n",
      "               1 4 6 4 1                \n",
      "             1 5 10 10 5 1              \n",
      "            1 6 15 20 15 6 1            \n",
      "          1 7 21 35 35 21 7 1           \n",
      "         1 8 28 56 70 56 28 8 1         \n",
      "      1 9 36 84 126 126 84 36 9 1       \n"
     ]
    }
   ],
   "source": [
    "#Write a Python function that prints out the first n rows of Pascal's triangle. Note : Pascal's triangle is an arithmetic and geometric\n",
    "#figure first imagined by Blaise Pascal.\n",
    "#       1       \n",
    "#     1 1      \n",
    "#    1 2 1     \n",
    "#   1 3 3 1    \n",
    "#  1 4 6 4 1\n",
    "\n",
    "def print_pascals_triangle(n):\n",
    "    triangle = [] \n",
    "    for i in range(n):\n",
    "        row = [1]  \n",
    "        if triangle:  \n",
    "            last_row = triangle[-1]\n",
    "            for j in range(1, len(last_row)):\n",
    "                row.append(last_row[j - 1] + last_row[j])\n",
    "            row.append(1)  \n",
    "        triangle.append(row)\n",
    "    for row in triangle:\n",
    "        print(' '.join(str(num) for num in row).center(n * 4))\n",
    "\n",
    "print_pascals_triangle(10)"
   ]
  },
  {
   "cell_type": "code",
   "execution_count": 30,
   "id": "5c63b981-d120-415b-a207-9da01757eb78",
   "metadata": {},
   "outputs": [
    {
     "name": "stdout",
     "output_type": "stream",
     "text": [
      "True\n",
      "False\n"
     ]
    }
   ],
   "source": [
    "#Write a Python function to check whether a string is a pangram or not. Note : Pangrams are words or sentences containing every letter of the \n",
    "#alphabet at least once. For example : \"The quick brown fox jumps over the lazy dog\"\n",
    "\n",
    "import string\n",
    "\n",
    "def is_pangram(sentence):\n",
    "    alphabet = set(string.ascii_lowercase)  \n",
    "    cleaned = set(sentence.lower())        \n",
    "    return alphabet.issubset(cleaned)       \n",
    "\n",
    "print(is_pangram(\"The quick brown fox jumps over the lazy dog\"))  \n",
    "print(is_pangram(\"Hello Rutuja\"))                                   "
   ]
  },
  {
   "cell_type": "code",
   "execution_count": 38,
   "id": "571865b0-5029-4cfc-8dad-e065dc797a68",
   "metadata": {},
   "outputs": [
    {
     "name": "stdout",
     "output_type": "stream",
     "text": [
      "✅ The sentence is a pangram.\n",
      "❌ Not a pangram. Missing letters: b, c, d, f, g, i, k, m, n, p, q, s, v, w, x, y, z\n"
     ]
    }
   ],
   "source": [
    "#Write a Python function to check whether a string is a pangram or not. Note : Pangrams are words or sentences containing every letter of the \n",
    "#alphabet at least once.\n",
    "\n",
    "import string\n",
    "\n",
    "def is_pangram_with_missing(sentence):\n",
    "    alphabet = set(string.ascii_lowercase)\n",
    "    cleaned = set(sentence.lower())\n",
    "    missing = alphabet - cleaned \n",
    "    if not missing:\n",
    "        return True, []  \n",
    "    else:\n",
    "        return False, sorted(missing)  \n",
    "\n",
    "result, missing_letters = is_pangram_with_missing(\"The quick brown fox jumps over the lazy dog\")\n",
    "if result:\n",
    "    print(\"✅ The sentence is a pangram.\")\n",
    "else:\n",
    "    print(\"❌ Not a pangram. Missing letters:\", ', '.join(missing_letters))\n",
    "\n",
    "result, missing_letters = is_pangram_with_missing(\"Hello Rutuja\")\n",
    "if result:\n",
    "    print(\"✅ The sentence is a pangram.\")\n",
    "else:\n",
    "    print(\"❌ Not a pangram. Missing letters:\", ', '.join(missing_letters))"
   ]
  },
  {
   "cell_type": "code",
   "execution_count": 41,
   "id": "a6e1ea54-b5e2-4f26-a8f6-c304d296bcc9",
   "metadata": {},
   "outputs": [
    {
     "name": "stdin",
     "output_type": "stream",
     "text": [
      "Enter hyphen-separated words:  green-red-yellow-black-white-grey-pink\n"
     ]
    },
    {
     "name": "stdout",
     "output_type": "stream",
     "text": [
      "Sorted Result: black-green-grey-pink-red-white-yellow\n"
     ]
    }
   ],
   "source": [
    "# Write a Python program that accepts a hyphen-separated sequence of words as input and prints the words in a hyphen-separated sequence \n",
    "#after sorting them alphabetically. Sample Items : green-red-yellow-black-white\n",
    "\n",
    "def sort_hyphen_words():\n",
    "    input_str = input(\"Enter hyphen-separated words: \")\n",
    "    words = input_str.split('-')            \n",
    "    words.sort()                           \n",
    "    sorted_str = '-'.join(words)           \n",
    "    print(\"Sorted Result:\", sorted_str)\n",
    "sort_hyphen_words()"
   ]
  },
  {
   "cell_type": "code",
   "execution_count": 47,
   "id": "9b8fca1b-4bbd-4b14-9e97-94e21a53da46",
   "metadata": {},
   "outputs": [
    {
     "name": "stdout",
     "output_type": "stream",
     "text": [
      "Squares from 1 to 25: [1, 4, 9, 16, 25, 36, 49, 64, 81, 100, 121, 144, 169, 196, 225, 256, 289, 324, 361, 400, 441, 484, 529, 576, 625]\n"
     ]
    }
   ],
   "source": [
    "# Write a Python function to create and print a list where the values are the squares of numbers between 1 and 25 (both included).\n",
    "\n",
    "def print_squares_1_to_25():\n",
    "    squares = []\n",
    "    for i in range(1, 26):\n",
    "        squares.append(i ** 2)\n",
    "    print(\"Squares from 1 to 25:\", squares)\n",
    "print_squares_1_to_25()"
   ]
  },
  {
   "cell_type": "code",
   "execution_count": 49,
   "id": "f357927e-f16b-4f46-93cb-f589f2a9d9a4",
   "metadata": {},
   "outputs": [
    {
     "name": "stdin",
     "output_type": "stream",
     "text": [
      "Enter first number:  34\n",
      "Enter second number:  67\n",
      "Enter third number:  3\n"
     ]
    },
    {
     "name": "stdout",
     "output_type": "stream",
     "text": [
      "Result: 67\n"
     ]
    }
   ],
   "source": [
    "#Find highest number\n",
    "\n",
    "def highest(n1, n2, n3):\n",
    "    if n1 > n2 and n1 > n3:\n",
    "        return n1\n",
    "    elif n2 > n1 and n2 > n3:\n",
    "        return n2\n",
    "    elif n3 > n1 and n3 > n2:\n",
    "        return n3\n",
    "    elif n1 == n2 and n2 == n3:\n",
    "        return 'equal'\n",
    "num1 = int(input(\"Enter first number: \"))\n",
    "num2 = int(input(\"Enter second number: \"))\n",
    "num3 = int(input(\"Enter third number: \"))\n",
    "\n",
    "result = highest(num1, num2, num3)\n",
    "print(\"Result:\", result)"
   ]
  },
  {
   "cell_type": "code",
   "execution_count": null,
   "id": "02eb56da-57d5-4f9c-961f-e579a6eb4df2",
   "metadata": {},
   "outputs": [],
   "source": []
  }
 ],
 "metadata": {
  "kernelspec": {
   "display_name": "Python 3 (ipykernel)",
   "language": "python",
   "name": "python3"
  },
  "language_info": {
   "codemirror_mode": {
    "name": "ipython",
    "version": 3
   },
   "file_extension": ".py",
   "mimetype": "text/x-python",
   "name": "python",
   "nbconvert_exporter": "python",
   "pygments_lexer": "ipython3",
   "version": "3.13.5"
  }
 },
 "nbformat": 4,
 "nbformat_minor": 5
}
