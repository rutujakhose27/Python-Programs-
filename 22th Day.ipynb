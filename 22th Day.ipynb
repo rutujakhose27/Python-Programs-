{
 "cells": [
  {
   "cell_type": "code",
   "execution_count": 3,
   "id": "2cf3c786-fdf2-4d5e-a68e-71e62e38a7d7",
   "metadata": {},
   "outputs": [
    {
     "name": "stdin",
     "output_type": "stream",
     "text": [
      "Enter amount in INR 30000\n"
     ]
    },
    {
     "name": "stdout",
     "output_type": "stream",
     "text": [
      "Amount in USD: 360.58\n"
     ]
    }
   ],
   "source": [
    "#Currency converter (INR to USD)\n",
    "\n",
    "inr = float(input(\"Enter amount in INR\"))\n",
    "usd = inr / 83.2  \n",
    "print(\"Amount in USD:\", round(usd, 2))"
   ]
  },
  {
   "cell_type": "code",
   "execution_count": 5,
   "id": "0810a1be-8581-4171-a817-79fa542b4a1f",
   "metadata": {},
   "outputs": [
    {
     "name": "stdin",
     "output_type": "stream",
     "text": [
      "Enter number of days 99\n"
     ]
    },
    {
     "name": "stdout",
     "output_type": "stream",
     "text": [
      "99 days = 14 week(s) and 1 day(s)\n"
     ]
    }
   ],
   "source": [
    "#Convert days to weeks and days\n",
    "\n",
    "days = int(input(\"Enter number of days\"))\n",
    "weeks = days // 7\n",
    "extra_days = days % 7\n",
    "print(f\"{days} days = {weeks} week(s) and {extra_days} day(s)\")"
   ]
  },
  {
   "cell_type": "code",
   "execution_count": 7,
   "id": "45c2ae88-a33e-4719-86ec-dca8be70bd1e",
   "metadata": {},
   "outputs": [
    {
     "name": "stdin",
     "output_type": "stream",
     "text": [
      "Enter your name Shruti\n"
     ]
    },
    {
     "name": "stdout",
     "output_type": "stream",
     "text": [
      "Welcome to Rutuja National Bank, Shruti!\n"
     ]
    }
   ],
   "source": [
    "#Bank welcome message using user's name\n",
    "\n",
    "name = input(\"Enter your name\")\n",
    "print(f\"Welcome to Rutuja National Bank, {name}!\")"
   ]
  },
  {
   "cell_type": "code",
   "execution_count": 10,
   "id": "f69e98bc-dab3-424b-a4e1-2176d57b03cf",
   "metadata": {},
   "outputs": [
    {
     "name": "stdin",
     "output_type": "stream",
     "text": [
      "Enter planet name:  earth\n"
     ]
    },
    {
     "name": "stdout",
     "output_type": "stream",
     "text": [
      "Inner planet\n"
     ]
    }
   ],
   "source": [
    "#Categorize planets as Inner or Outer\n",
    "\n",
    "planet = input(\"Enter planet name: \").lower()\n",
    "outer = [\"jupiter\", \"saturn\", \"uranus\", \"neptune\"]\n",
    "inner = [\"mercury\", \"venus\", \"earth\", \"mars\"]\n",
    "if planet in inner:\n",
    "    print(\"Inner planet\")\n",
    "elif planet in outer:\n",
    "    print(\"Outer planet\")\n",
    "else:\n",
    "    print(\"Not a known planet\")"
   ]
  },
  {
   "cell_type": "code",
   "execution_count": 13,
   "id": "461bb3f9-ad9d-4e7e-b95f-44525891ee26",
   "metadata": {},
   "outputs": [
    {
     "name": "stdin",
     "output_type": "stream",
     "text": [
      "Enter electricity units used 60\n"
     ]
    },
    {
     "name": "stdout",
     "output_type": "stream",
     "text": [
      "Electricity bill: ₹ 720\n"
     ]
    }
   ],
   "source": [
    "#Simple electric bill calculator\n",
    "\n",
    "units = int(input(\"Enter electricity units used\"))\n",
    "rate = 12  \n",
    "bill = units * rate\n",
    "print(\"Electricity bill: ₹\", bill)"
   ]
  },
  {
   "cell_type": "code",
   "execution_count": 15,
   "id": "ec4396db-e34e-40df-bf38-358a8233a789",
   "metadata": {},
   "outputs": [
    {
     "name": "stdin",
     "output_type": "stream",
     "text": [
      "Enter amount in rupees:  34\n"
     ]
    },
    {
     "name": "stdout",
     "output_type": "stream",
     "text": [
      "Amount in paise: 3400.0\n"
     ]
    }
   ],
   "source": [
    "#Convert rupees to paise\n",
    "\n",
    "rupees = float(input(\"Enter amount in rupees: \"))\n",
    "paise = rupees * 100\n",
    "print(\"Amount in paise:\", paise)"
   ]
  },
  {
   "cell_type": "code",
   "execution_count": 19,
   "id": "caa88aba-c1ee-456c-81d0-8ffa13fd7a77",
   "metadata": {},
   "outputs": [
    {
     "name": "stdout",
     "output_type": "stream",
     "text": [
      "Stage: Evaporation\n",
      "Stage: Condensation\n",
      "Stage: Precipitation\n",
      "Stage: Collection\n"
     ]
    }
   ],
   "source": [
    "#Basic water cycle stages printer\n",
    "\n",
    "stages = [\"Evaporation\", \"Condensation\", \"Precipitation\", \"Collection\"]\n",
    "for stage in stages:\n",
    "    print(\"Stage:\", stage)"
   ]
  },
  {
   "cell_type": "code",
   "execution_count": 23,
   "id": "15f49707-f823-4ede-9a3c-ad14306a4e1a",
   "metadata": {},
   "outputs": [
    {
     "name": "stdin",
     "output_type": "stream",
     "text": [
      "Enter a number 76\n"
     ]
    },
    {
     "name": "stdout",
     "output_type": "stream",
     "text": [
      "Not a palindrome\n"
     ]
    }
   ],
   "source": [
    "#Check if a number is a palindrome\n",
    "\n",
    "num = input(\"Enter a number\")\n",
    "if num == num[::-1]:\n",
    "    print(\"Palindrome number\")\n",
    "else:\n",
    "    print(\"Not a palindrome\")"
   ]
  },
  {
   "cell_type": "code",
   "execution_count": 26,
   "id": "92202ac1-2271-41a4-9cc1-a99663d7de01",
   "metadata": {},
   "outputs": [
    {
     "name": "stdin",
     "output_type": "stream",
     "text": [
      "Enter a number 99\n"
     ]
    },
    {
     "name": "stdout",
     "output_type": "stream",
     "text": [
      "Factors of 99 are: 1 3 9 11 33 99 "
     ]
    }
   ],
   "source": [
    "#Display all factors of a number\n",
    "\n",
    "num = int(input(\"Enter a number\"))\n",
    "print(\"Factors of\", num, \"are:\", end=\" \")\n",
    "for i in range(1, num + 1):\n",
    "    if num % i == 0:\n",
    "        print(i, end=\" \")"
   ]
  },
  {
   "cell_type": "code",
   "execution_count": 29,
   "id": "b470dabb-348a-4d63-8d77-29df33818aa8",
   "metadata": {},
   "outputs": [
    {
     "name": "stdin",
     "output_type": "stream",
     "text": [
      "Enter number of days 2345\n"
     ]
    },
    {
     "name": "stdout",
     "output_type": "stream",
     "text": [
      "2345 days = 6 year(s) and 155 day(s)\n"
     ]
    }
   ],
   "source": [
    "#Convert days to years and remaining days\n",
    "\n",
    "days = int(input(\"Enter number of days\"))\n",
    "years = days // 365\n",
    "remaining_days = days % 365\n",
    "print(f\"{days} days = {years} year(s) and {remaining_days} day(s)\")"
   ]
  },
  {
   "cell_type": "code",
   "execution_count": null,
   "id": "0a521587-4095-4904-a64c-ad1856cb8a5c",
   "metadata": {},
   "outputs": [],
   "source": []
  }
 ],
 "metadata": {
  "kernelspec": {
   "display_name": "Python 3 (ipykernel)",
   "language": "python",
   "name": "python3"
  },
  "language_info": {
   "codemirror_mode": {
    "name": "ipython",
    "version": 3
   },
   "file_extension": ".py",
   "mimetype": "text/x-python",
   "name": "python",
   "nbconvert_exporter": "python",
   "pygments_lexer": "ipython3",
   "version": "3.13.5"
  }
 },
 "nbformat": 4,
 "nbformat_minor": 5
}
