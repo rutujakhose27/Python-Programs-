{
 "cells": [
  {
   "cell_type": "code",
   "execution_count": 3,
   "id": "41be6deb-7418-45bd-8caa-5847738ee16b",
   "metadata": {},
   "outputs": [
    {
     "name": "stdin",
     "output_type": "stream",
     "text": [
      "Enter a number 12\n"
     ]
    },
    {
     "name": "stdout",
     "output_type": "stream",
     "text": [
      "The last digit of the number is: 2\n"
     ]
    }
   ],
   "source": [
    "#Write a program to display the last digit of a number. (hint : any number % 10 will return the last digit)\n",
    "\n",
    "number = int(input(\"Enter a number\"))\n",
    "\n",
    "last_digit = number % 10\n",
    "\n",
    "print(\"The last digit of the number is:\", last_digit)"
   ]
  },
  {
   "cell_type": "code",
   "execution_count": 5,
   "id": "03a5b72b-6283-49b1-a90d-7d7540a67af7",
   "metadata": {},
   "outputs": [
    {
     "name": "stdin",
     "output_type": "stream",
     "text": [
      "Enter a number (1 to 7):  4\n"
     ]
    },
    {
     "name": "stdout",
     "output_type": "stream",
     "text": [
      "Wednesday\n"
     ]
    }
   ],
   "source": [
    "#Write a program to accept a number from 1 to 7 and display the name of the day like 1 for Sunday , 2 for Monday and so on\n",
    "\n",
    "day_number = int(input(\"Enter a number (1 to 7): \"))\n",
    "if day_number == 1:\n",
    "    print(\"Sunday\")\n",
    "elif day_number == 2:\n",
    "    print(\"Monday\")\n",
    "elif day_number == 3:\n",
    "    print(\"Tuesday\")\n",
    "elif day_number == 4:\n",
    "    print(\"Wednesday\")\n",
    "elif day_number == 5:\n",
    "    print(\"Thursday\")\n",
    "elif day_number == 6:\n",
    "    print(\"Friday\")\n",
    "elif day_number == 7:\n",
    "    print(\"Saturday\")\n",
    "else:\n",
    "    print(\"Invalid input! Please enter a number between 1 and 7\")"
   ]
  },
  {
   "cell_type": "code",
   "execution_count": 7,
   "id": "cbaafcb0-fdd6-4df9-813b-1c1cd9452100",
   "metadata": {},
   "outputs": [
    {
     "name": "stdin",
     "output_type": "stream",
     "text": [
      "Enter a number:  123\n"
     ]
    },
    {
     "name": "stdout",
     "output_type": "stream",
     "text": [
      "The number is a three-digit number.\n"
     ]
    }
   ],
   "source": [
    "#Write a program to check whether a number entered is three digit number or not.\n",
    "\n",
    "number = int(input(\"Enter a number: \"))\n",
    "\n",
    "if 100 <= abs(number) <= 999:\n",
    "    print(\"The number is a three-digit number.\")\n",
    "else:\n",
    "    print(\"The number is NOT a three-digit number.\")"
   ]
  },
  {
   "cell_type": "code",
   "execution_count": 11,
   "id": "66baab99-67fc-4977-9df8-3397910ffe19",
   "metadata": {},
   "outputs": [
    {
     "name": "stdin",
     "output_type": "stream",
     "text": [
      "Enter a number:  30\n"
     ]
    },
    {
     "name": "stdout",
     "output_type": "stream",
     "text": [
      "The number is divisible by both 2 and 3.\n"
     ]
    }
   ],
   "source": [
    "#Write a program to whether a number (accepted from user) is divisible by 2 and 3 both.\n",
    "\n",
    "num = int(input(\"Enter a number: \"))\n",
    "\n",
    "if num % 2 == 0 and num % 3 == 0:\n",
    "    print(\"The number is divisible by both 2 and 3.\")\n",
    "else:\n",
    "    print(\"The number is not divisible by both 2 and 3.\")"
   ]
  },
  {
   "cell_type": "code",
   "execution_count": 14,
   "id": "e41cea43-7e90-4aa1-8e78-58bb050ac7e8",
   "metadata": {},
   "outputs": [
    {
     "name": "stdin",
     "output_type": "stream",
     "text": [
      "Enter your password:  rtyuiop\n"
     ]
    },
    {
     "name": "stdout",
     "output_type": "stream",
     "text": [
      "Password must be at least 8 characters long.\n",
      "Password must contain at least one uppercase letter.\n",
      "Password must contain at least one digit.\n",
      "Password must contain at least one special character (@, #, $, %, &, *, !).\n",
      "Password is not valid.\n"
     ]
    }
   ],
   "source": [
    "#Write a Python program to check the validity of a password (input from users).\n",
    "\n",
    "import re\n",
    "\n",
    "password = input(\"Enter your password: \")\n",
    "\n",
    "is_valid = True\n",
    "\n",
    "if len(password) < 8:\n",
    "    print(\"Password must be at least 8 characters long.\")\n",
    "    is_valid = False\n",
    "\n",
    "if not re.search(r\"[A-Z]\", password):\n",
    "    print(\"Password must contain at least one uppercase letter.\")\n",
    "    is_valid = False\n",
    "\n",
    "if not re.search(r\"[a-z]\", password):\n",
    "    print(\"Password must contain at least one lowercase letter.\")\n",
    "    is_valid = False\n",
    "\n",
    "if not re.search(r\"[0-9]\", password):\n",
    "    print(\"Password must contain at least one digit.\")\n",
    "    is_valid = False\n",
    "\n",
    "if not re.search(r\"[@#$%&*!]\", password):\n",
    "    print(\"Password must contain at least one special character (@, #, $, %, &, *, !).\")\n",
    "    is_valid = False\n",
    "\n",
    "if is_valid:\n",
    "    print(\"Password is valid!\")\n",
    "else:\n",
    "    print(\"Password is not valid.\")"
   ]
  },
  {
   "cell_type": "code",
   "execution_count": 20,
   "id": "ff863e46-15ba-4879-ac7c-41cf9db00b52",
   "metadata": {},
   "outputs": [
    {
     "name": "stdout",
     "output_type": "stream",
     "text": [
      "  * * * *   \n",
      "*         * \n",
      "*         * \n",
      "*         * \n",
      "*         * \n",
      "* * * * * * \n",
      "*         * \n",
      "*         * \n",
      "*         * \n",
      "*         * \n"
     ]
    }
   ],
   "source": [
    "#Write a Python program to print alphabet pattern 'A'.\n",
    "\n",
    "rows = 10\n",
    "\n",
    "for i in range(rows):\n",
    "    for j in range((rows // 2) + 1):\n",
    "        # Print '*' on the boundaries and middle row\n",
    "        if ((j == 0 or j == rows // 2) and i != 0) or (i == 0 and j != 0 and j != rows // 2) or (i == rows // 2):\n",
    "            print(\"*\", end=\" \")\n",
    "        else:\n",
    "            print(\" \", end=\" \")\n",
    "    print()"
   ]
  },
  {
   "cell_type": "code",
   "execution_count": 21,
   "id": "1dd558f7-415d-4973-bf6c-6803786d8b54",
   "metadata": {},
   "outputs": [
    {
     "name": "stdout",
     "output_type": "stream",
     "text": [
      "* * * *   \n",
      "*       * \n",
      "*       * \n",
      "*       * \n",
      "*       * \n",
      "* * * *   \n",
      "* *       \n",
      "*   *     \n",
      "*     *   \n",
      "*       * \n"
     ]
    }
   ],
   "source": [
    "#Write a Python program to print alphabet pattern 'R'.\n",
    "\n",
    "rows = 10\n",
    "cols = 5\n",
    "\n",
    "for i in range(rows):\n",
    "    for j in range(cols):\n",
    "        if j == 0:\n",
    "            print(\"*\", end=\" \")\n",
    "        elif (i == 0 or i == rows // 2) and j < cols - 1:\n",
    "            print(\"*\", end=\" \")\n",
    "        elif j == cols - 1 and i > 0 and i < rows // 2:\n",
    "            print(\"*\", end=\" \")\n",
    "        elif i - j == rows // 2:\n",
    "            print(\"*\", end=\" \")\n",
    "        else:\n",
    "            print(\" \", end=\" \")\n",
    "            \n",
    "    print()"
   ]
  },
  {
   "cell_type": "code",
   "execution_count": 31,
   "id": "fea325a4-0c47-4f78-9533-300833a7e772",
   "metadata": {},
   "outputs": [
    {
     "name": "stdin",
     "output_type": "stream",
     "text": [
      "Input a dog's age in human years:  9\n"
     ]
    },
    {
     "name": "stdout",
     "output_type": "stream",
     "text": [
      "The dog's age in dog's years is 49\n"
     ]
    }
   ],
   "source": [
    "#Write a Python program to calculate a dog's age in dog's years. Go to the editor Note: For the first two years, a dog year is equal to 10.5 \n",
    "#human years. After that, each dog year equals 4 human years. Expected Output:\n",
    "#Input a dog's age in human years: 15\n",
    "#The dog's age in dog's years is 73\n",
    "\n",
    "human_years = float(input(\"Input a dog's age in human years: \"))\n",
    "\n",
    "if human_years <= 2:\n",
    "    dog_years = human_years * 10.5\n",
    "else:\n",
    "    dog_years = 2 * 10.5 + (human_years - 2) * 4\n",
    "print(f\"The dog's age in dog's years is {int(dog_years)}\")"
   ]
  },
  {
   "cell_type": "code",
   "execution_count": 32,
   "id": "0119935c-5ebf-441b-9430-eadad7ac3f36",
   "metadata": {},
   "outputs": [
    {
     "name": "stdout",
     "output_type": "stream",
     "text": [
      "Python version:\n",
      "3.13.5 | packaged by Anaconda, Inc. | (main, Jun 12 2025, 16:37:03) [MSC v.1929 64 bit (AMD64)]\n",
      "Version info:\n",
      "sys.version_info(major=3, minor=13, micro=5, releaselevel='final', serial=0)\n"
     ]
    }
   ],
   "source": [
    "#Write a Python program to get the Python version you are using\n",
    "\n",
    "import sys\n",
    "\n",
    "print(\"Python version:\")\n",
    "print(sys.version)\n",
    "\n",
    "print(\"Version info:\")\n",
    "print(sys.version_info)"
   ]
  },
  {
   "cell_type": "code",
   "execution_count": 33,
   "id": "d2b1c596-f41b-4350-a41f-b235fca31937",
   "metadata": {},
   "outputs": [
    {
     "name": "stdout",
     "output_type": "stream",
     "text": [
      "Current date and time:\n",
      "2025-07-25 23:33:20\n"
     ]
    }
   ],
   "source": [
    "#Write a Python program to display the current date and time\n",
    "\n",
    "import datetime\n",
    "\n",
    "now = datetime.datetime.now()\n",
    "\n",
    "print(\"Current date and time:\")\n",
    "print(now.strftime(\"%Y-%m-%d %H:%M:%S\"))"
   ]
  },
  {
   "cell_type": "code",
   "execution_count": null,
   "id": "9718c67e-8892-4e9d-9f6e-394d5087f46c",
   "metadata": {},
   "outputs": [],
   "source": []
  }
 ],
 "metadata": {
  "kernelspec": {
   "display_name": "Python 3 (ipykernel)",
   "language": "python",
   "name": "python3"
  },
  "language_info": {
   "codemirror_mode": {
    "name": "ipython",
    "version": 3
   },
   "file_extension": ".py",
   "mimetype": "text/x-python",
   "name": "python",
   "nbconvert_exporter": "python",
   "pygments_lexer": "ipython3",
   "version": "3.13.5"
  }
 },
 "nbformat": 4,
 "nbformat_minor": 5
}
