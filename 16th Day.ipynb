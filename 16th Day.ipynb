{
 "cells": [
  {
   "cell_type": "code",
   "execution_count": 4,
   "id": "0111d548-704b-4d4e-b018-c4122113cd3a",
   "metadata": {},
   "outputs": [
    {
     "name": "stdout",
     "output_type": "stream",
     "text": [
      "Expanded form: x**2 + 2*x*y + y**2\n"
     ]
    }
   ],
   "source": [
    "# Expand Binomial Expression\n",
    "\n",
    "from sympy import symbols, expand\n",
    "\n",
    "x, y = symbols('x y')\n",
    "expr = (x + y)**2\n",
    "\n",
    "expanded = expand(expr)\n",
    "print(\"Expanded form:\", expanded)"
   ]
  },
  {
   "cell_type": "code",
   "execution_count": 8,
   "id": "a9028e55-78f1-4ba5-9438-b88d7bcce5f9",
   "metadata": {},
   "outputs": [
    {
     "name": "stdout",
     "output_type": "stream",
     "text": [
      "Solution: {x: 19/5, y: 9/5}\n"
     ]
    }
   ],
   "source": [
    "#Solve System of Equations\n",
    "\n",
    "\n",
    "from sympy import symbols, Eq, solve\n",
    "\n",
    "x, y = symbols('x y')\n",
    "eq1 = Eq(3*x + 2*y, 15)\n",
    "eq2 = Eq(x - y, 2)\n",
    "\n",
    "solution = solve((eq1, eq2), (x, y))\n",
    "print(\"Solution:\", solution)"
   ]
  },
  {
   "cell_type": "code",
   "execution_count": 12,
   "id": "964a67bf-848f-45f3-83b3-c625b8ca3b14",
   "metadata": {},
   "outputs": [
    {
     "name": "stdout",
     "output_type": "stream",
     "text": [
      "Result after substitution: 30\n"
     ]
    }
   ],
   "source": [
    "#Substitute in Expression\n",
    "\n",
    "from sympy import symbols\n",
    "\n",
    "x, y = symbols('x y')\n",
    "expr = x**2 + 2*y\n",
    "result = expr.subs({x: 4, y: 7})\n",
    "\n",
    "print(\"Result after substitution:\", result)"
   ]
  },
  {
   "cell_type": "code",
   "execution_count": 15,
   "id": "7509570d-f863-4644-9a1e-1bd8eba33e62",
   "metadata": {},
   "outputs": [
    {
     "name": "stdout",
     "output_type": "stream",
     "text": [
      "Derivative: 8*x**7 + 6*x**2 + 1\n"
     ]
    }
   ],
   "source": [
    "# Derivative of Algebraic Expression\n",
    "\n",
    "from sympy import symbols, diff\n",
    "\n",
    "x = symbols('x')\n",
    "expr = x**8 + 2*x**3 + x\n",
    "derivative = diff(expr, x)\n",
    "\n",
    "print(\"Derivative:\", derivative)"
   ]
  },
  {
   "cell_type": "code",
   "execution_count": 19,
   "id": "ce667918-10fa-4368-98a2-315fe28c7c2d",
   "metadata": {},
   "outputs": [
    {
     "name": "stdout",
     "output_type": "stream",
     "text": [
      "Value of a² + b² + 2ab: 225\n"
     ]
    }
   ],
   "source": [
    "# Evaluate Expression a² + b² + 2ab\n",
    "\n",
    "def algebraic_expansion(a, b):\n",
    "    return a**2 + b**2 + 2*a*b\n",
    "\n",
    "a = 6\n",
    "b = 9\n",
    "print(\"Value of a² + b² + 2ab:\", algebraic_expansion(a, b))"
   ]
  },
  {
   "cell_type": "code",
   "execution_count": 30,
   "id": "eee18b80-8bff-453e-abf2-b86b2445e6cc",
   "metadata": {},
   "outputs": [
    {
     "name": "stdout",
     "output_type": "stream",
     "text": [
      "Roots of the cubic equation: [1, 2, 3]\n"
     ]
    }
   ],
   "source": [
    "#Solve Cubic Equation: x³ - 6x² + 11x - 6 = 0\n",
    "\n",
    "from sympy import symbols, solve\n",
    "\n",
    "x = symbols('x')\n",
    "expr = x**3- 6*x**2 + 11*x - 6\n",
    "\n",
    "roots = solve(expr, x)\n",
    "print(\"Roots of the cubic equation:\", roots)"
   ]
  },
  {
   "cell_type": "code",
   "execution_count": 36,
   "id": "b41d71a4-0fdd-411b-931e-516f2e417dea",
   "metadata": {},
   "outputs": [
    {
     "name": "stdout",
     "output_type": "stream",
     "text": [
      "Simplified form: x + 1\n"
     ]
    }
   ],
   "source": [
    "#Simplify Rational Algebraic Expression\n",
    "\n",
    "from sympy import symbols, simplify\n",
    "\n",
    "x = symbols('x')\n",
    "expr = (x**2 - 1) / (x - 1)\n",
    "simplified = simplify(expr)\n",
    "\n",
    "print(\"Simplified form:\", simplified)"
   ]
  },
  {
   "cell_type": "code",
   "execution_count": 40,
   "id": "e9d84e52-9c7f-48b8-9a79-ef00c74c1cbc",
   "metadata": {},
   "outputs": [
    {
     "name": "stdout",
     "output_type": "stream",
     "text": [
      "Integral of the expression: x**10/10 + 9*x**2/2 + x\n"
     ]
    }
   ],
   "source": [
    "#Integrate an Algebraic Expression\n",
    "\n",
    "from sympy import symbols, integrate\n",
    "\n",
    "x = symbols('x')\n",
    "expr = x**9 + 9*x + 1\n",
    "\n",
    "integral = integrate(expr, x)\n",
    "print(\"Integral of the expression:\", integral)"
   ]
  },
  {
   "cell_type": "code",
   "execution_count": 45,
   "id": "18894837-91ff-443b-bfed-33bea455014e",
   "metadata": {},
   "outputs": [
    {
     "name": "stdout",
     "output_type": "stream",
     "text": [
      "Expanded form: a**3 - 3*a**2*b + 3*a*b**2 - b**3\n"
     ]
    }
   ],
   "source": [
    "# Expand (a - b)³\n",
    "\n",
    "from sympy import symbols, expand\n",
    "\n",
    "a, b = symbols('a b')\n",
    "expr = (a - b)**3\n",
    "\n",
    "expanded = expand(expr)\n",
    "print(\"Expanded form:\", expanded)"
   ]
  },
  {
   "cell_type": "code",
   "execution_count": 50,
   "id": "131887c4-26e2-491f-b9cf-0665acfddcc3",
   "metadata": {},
   "outputs": [
    {
     "name": "stdout",
     "output_type": "stream",
     "text": [
      "Solution: {x: 12, y: 4}\n"
     ]
    }
   ],
   "source": [
    "# Solve Equation with Multiple Variables: x + y = 10, x - y = 4\n",
    "\n",
    "from sympy import symbols, Eq, solve\n",
    "\n",
    "x, y = symbols('x y')\n",
    "eq1 = Eq(x + y, 16)\n",
    "eq2 = Eq(x - y, 8)\n",
    "\n",
    "solution = solve((eq1, eq2), (x, y))\n",
    "print(\"Solution:\", solution)"
   ]
  },
  {
   "cell_type": "code",
   "execution_count": null,
   "id": "983ab345-ab8c-4d18-a6ba-948be8e59362",
   "metadata": {},
   "outputs": [],
   "source": []
  }
 ],
 "metadata": {
  "kernelspec": {
   "display_name": "Python 3 (ipykernel)",
   "language": "python",
   "name": "python3"
  },
  "language_info": {
   "codemirror_mode": {
    "name": "ipython",
    "version": 3
   },
   "file_extension": ".py",
   "mimetype": "text/x-python",
   "name": "python",
   "nbconvert_exporter": "python",
   "pygments_lexer": "ipython3",
   "version": "3.13.5"
  }
 },
 "nbformat": 4,
 "nbformat_minor": 5
}
