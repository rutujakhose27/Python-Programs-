{
 "cells": [
  {
   "cell_type": "code",
   "execution_count": 4,
   "id": "8ad44dd5-c41b-4b5c-aa35-ed3e226f6272",
   "metadata": {},
   "outputs": [
    {
     "name": "stdout",
     "output_type": "stream",
     "text": [
      "0°C = 32.0°F\n",
      "10°C = 50.0°F\n",
      "20°C = 68.0°F\n",
      "30°C = 86.0°F\n",
      "40°C = 104.0°F\n",
      "50°C = 122.0°F\n",
      "60°C = 140.0°F\n",
      "70°C = 158.0°F\n",
      "80°C = 176.0°F\n",
      "90°C = 194.0°F\n",
      "100°C = 212.0°F\n",
      "110°C = 230.0°F\n",
      "120°C = 248.0°F\n",
      "130°C = 266.0°F\n",
      "140°C = 284.0°F\n",
      "150°C = 302.0°F\n",
      "160°C = 320.0°F\n",
      "170°C = 338.0°F\n",
      "180°C = 356.0°F\n",
      "190°C = 374.0°F\n",
      "200°C = 392.0°F\n"
     ]
    }
   ],
   "source": [
    "#Celsius to Fahrenheit Conversion Table\n",
    "\n",
    "for celsius in range(0, 201, 10):\n",
    "    fahrenheit = (celsius * 9/5) + 32\n",
    "    print(f\"{celsius}°C = {fahrenheit}°F\")"
   ]
  },
  {
   "cell_type": "code",
   "execution_count": 7,
   "id": "30e6fe56-0bbd-4532-8881-4f93d3c3cd26",
   "metadata": {},
   "outputs": [
    {
     "name": "stdin",
     "output_type": "stream",
     "text": [
      "Enter DNA sequence:  atcgttgct\n"
     ]
    },
    {
     "name": "stdout",
     "output_type": "stream",
     "text": [
      "RNA Sequence: AUCGUUGCU\n"
     ]
    }
   ],
   "source": [
    "# DNA to RNA Conversion (Biology)\n",
    "\n",
    "dna = input(\"Enter DNA sequence: \").upper()\n",
    "rna = dna.replace(\"T\", \"U\")\n",
    "print(\"RNA Sequence:\", rna)"
   ]
  },
  {
   "cell_type": "code",
   "execution_count": 14,
   "id": "876a0e82-cd8d-4a56-9cf5-17013661c906",
   "metadata": {},
   "outputs": [
    {
     "name": "stdout",
     "output_type": "stream",
     "text": [
      "Transpose Matrix:\n",
      "[1, 4, 7]\n",
      "[2, 5, 8]\n",
      "[3, 6, 9]\n"
     ]
    }
   ],
   "source": [
    "#Matrix Transpose (Math/Computer Science)\n",
    "\n",
    "matrix = [[1, 2, 3],[4, 5, 6],[7, 8, 9]]\n",
    "\n",
    "transpose = [[matrix[j][i] for j in range(len(matrix))] for i in range(len(matrix[0]))]\n",
    "\n",
    "print(\"Transpose Matrix:\")\n",
    "for row in transpose:\n",
    "    print(row)"
   ]
  },
  {
   "cell_type": "code",
   "execution_count": 18,
   "id": "4a059163-4f1e-4300-a47f-6cbb7af96104",
   "metadata": {},
   "outputs": [
    {
     "name": "stdin",
     "output_type": "stream",
     "text": [
      "Enter number of rows:  7\n"
     ]
    },
    {
     "name": "stdout",
     "output_type": "stream",
     "text": [
      "       1 \n",
      "      1 1 \n",
      "     1 2 1 \n",
      "    1 3 3 1 \n",
      "   1 4 6 4 1 \n",
      "  1 5 10 10 5 1 \n",
      " 1 6 15 20 15 6 1 \n"
     ]
    }
   ],
   "source": [
    "#Pascal’s Triangle Generator (Math)\n",
    "\n",
    "rows = int(input(\"Enter number of rows: \"))\n",
    "\n",
    "for i in range(rows):\n",
    "    print(\" \"*(rows-i), end=\"\")\n",
    "    num = 1\n",
    "    for j in range(i+1):\n",
    "        print(num, end=\" \")\n",
    "        num = num * (i-j) // (j+1)\n",
    "    print()"
   ]
  },
  {
   "cell_type": "code",
   "execution_count": 25,
   "id": "66da309b-5d7d-485b-944a-24475645f9b6",
   "metadata": {},
   "outputs": [
    {
     "name": "stdin",
     "output_type": "stream",
     "text": [
      "Enter number of terms:  12\n"
     ]
    },
    {
     "name": "stdout",
     "output_type": "stream",
     "text": [
      "0 1 1 2 3 5 8 13 21 34 55 89 "
     ]
    }
   ],
   "source": [
    "#Fibonacci Series up to N terms (Math)\n",
    "\n",
    "n = int(input(\"Enter number of terms: \"))\n",
    "a, b = 0, 1\n",
    "\n",
    "for _ in range(n):\n",
    "    print(a, end=\" \")\n",
    "    a, b = b, a + b"
   ]
  },
  {
   "cell_type": "code",
   "execution_count": 3,
   "id": "e4666802-007d-4ba0-847b-d9058dfa3cc1",
   "metadata": {},
   "outputs": [
    {
     "name": "stdin",
     "output_type": "stream",
     "text": [
      "Enter first number:  78\n",
      "Enter second number:  67\n"
     ]
    },
    {
     "name": "stdout",
     "output_type": "stream",
     "text": [
      "GCD: 1\n",
      "LCM: 5226\n"
     ]
    }
   ],
   "source": [
    "# GCD & LCM Finder (Math)\n",
    "\n",
    "import math\n",
    "\n",
    "a = int(input(\"Enter first number: \"))\n",
    "b = int(input(\"Enter second number: \"))\n",
    "\n",
    "gcd = math.gcd(a, b)\n",
    "lcm = abs(a*b) // gcd\n",
    "\n",
    "print(\"GCD:\", gcd)\n",
    "print(\"LCM:\", lcm)"
   ]
  },
  {
   "cell_type": "code",
   "execution_count": 6,
   "id": "5276a19c-6be1-4183-9eae-85ea9d460fbc",
   "metadata": {},
   "outputs": [
    {
     "name": "stdin",
     "output_type": "stream",
     "text": [
      "Enter Pressure (atm):  98\n",
      "Enter Volume (liters):  8\n",
      "Enter number of moles:  6\n",
      "Enter Temperature (Kelvin):  99\n"
     ]
    },
    {
     "name": "stdout",
     "output_type": "stream",
     "text": [
      "Equation does not match values\n"
     ]
    }
   ],
   "source": [
    "#Ideal Gas Law Calculator (Chemistry)\n",
    "\n",
    "# PV = nRT\n",
    "P = float(input(\"Enter Pressure (atm): \"))\n",
    "V = float(input(\"Enter Volume (liters): \"))\n",
    "n = float(input(\"Enter number of moles: \"))\n",
    "R = 0.0821  # gas constant\n",
    "T = float(input(\"Enter Temperature (Kelvin): \"))\n",
    "\n",
    "if abs(P*V - n*R*T) < 0.001:\n",
    "    print(\"Equation holds true\")\n",
    "else:\n",
    "    print(\"Equation does not match values\")"
   ]
  },
  {
   "cell_type": "code",
   "execution_count": 9,
   "id": "6c1ca28b-5fa5-4a2e-911d-6939bfbf7738",
   "metadata": {},
   "outputs": [
    {
     "name": "stdin",
     "output_type": "stream",
     "text": [
      "Enter weight in kg:  67\n",
      "Enter gender (male/female):  Male\n"
     ]
    },
    {
     "name": "stdout",
     "output_type": "stream",
     "text": [
      "Estimated Blood Volume: 4.69 liters\n"
     ]
    }
   ],
   "source": [
    "#Blood Volume Estimator (Biology)\n",
    "\n",
    "weight = float(input(\"Enter weight in kg: \"))\n",
    "gender = input(\"Enter gender (male/female): \").lower()\n",
    "\n",
    "if gender == \"male\":\n",
    "    blood_volume = weight * 70  # ml per kg\n",
    "elif gender == \"female\":\n",
    "    blood_volume = weight * 65\n",
    "else:\n",
    "    blood_volume = None\n",
    "\n",
    "if blood_volume:\n",
    "    print(f\"Estimated Blood Volume: {blood_volume/1000:.2f} liters\")\n",
    "else:\n",
    "    print(\"Invalid gender\")"
   ]
  },
  {
   "cell_type": "code",
   "execution_count": 12,
   "id": "49f58f19-96d5-4b4b-9d0b-a6b0e8605e14",
   "metadata": {},
   "outputs": [
    {
     "name": "stdin",
     "output_type": "stream",
     "text": [
      "Enter Voltage (V):  399\n",
      "Enter Resistance (Ω):  3\n"
     ]
    },
    {
     "name": "stdout",
     "output_type": "stream",
     "text": [
      "Current = 133.0 Amperes\n"
     ]
    }
   ],
   "source": [
    "#Ohm’s Law Calculator (Physics)\n",
    "\n",
    "voltage = float(input(\"Enter Voltage (V): \"))\n",
    "resistance = float(input(\"Enter Resistance (Ω): \"))\n",
    "\n",
    "current = voltage / resistance\n",
    "print(f\"Current = {current} Amperes\")"
   ]
  },
  {
   "cell_type": "code",
   "execution_count": 15,
   "id": "da686e00-848d-4f7c-889d-8d0f38dd3872",
   "metadata": {},
   "outputs": [
    {
     "name": "stdin",
     "output_type": "stream",
     "text": [
      "Enter temperature in Celsius:  56\n"
     ]
    },
    {
     "name": "stdout",
     "output_type": "stream",
     "text": [
      "Speed of sound at 56.0°C = 364.60 m/s\n"
     ]
    }
   ],
   "source": [
    "# Speed of Sound in Air (Physics)\n",
    "\n",
    "temperature = float(input(\"Enter temperature in Celsius: \"))\n",
    "speed = 331 + (0.6 * temperature)\n",
    "print(f\"Speed of sound at {temperature}°C = {speed:.2f} m/s\")"
   ]
  },
  {
   "cell_type": "code",
   "execution_count": null,
   "id": "71e57c83-fe73-442f-ada3-5e510bd696de",
   "metadata": {},
   "outputs": [],
   "source": []
  }
 ],
 "metadata": {
  "kernelspec": {
   "display_name": "Python 3 (ipykernel)",
   "language": "python",
   "name": "python3"
  },
  "language_info": {
   "codemirror_mode": {
    "name": "ipython",
    "version": 3
   },
   "file_extension": ".py",
   "mimetype": "text/x-python",
   "name": "python",
   "nbconvert_exporter": "python",
   "pygments_lexer": "ipython3",
   "version": "3.13.5"
  }
 },
 "nbformat": 4,
 "nbformat_minor": 5
}
