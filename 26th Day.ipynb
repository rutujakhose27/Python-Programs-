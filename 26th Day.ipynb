{
 "cells": [
  {
   "cell_type": "code",
   "execution_count": 2,
   "id": "91b875c0-d562-49da-8b9e-3ec145f3d7b0",
   "metadata": {},
   "outputs": [
    {
     "name": "stdin",
     "output_type": "stream",
     "text": [
      "Enter force (N):  55\n",
      "Enter area (m²):  7\n"
     ]
    },
    {
     "name": "stdout",
     "output_type": "stream",
     "text": [
      "Pressure = 7.857142857142857 Pa\n"
     ]
    }
   ],
   "source": [
    "#Calculate Pressure\n",
    "\n",
    "force = float(input(\"Enter force (N): \"))\n",
    "area = float(input(\"Enter area (m²): \"))\n",
    "\n",
    "pressure = force / area\n",
    "print(\"Pressure =\", pressure, \"Pa\")"
   ]
  },
  {
   "cell_type": "code",
   "execution_count": 5,
   "id": "a25defae-df84-4f65-b98f-736b3b4418af",
   "metadata": {},
   "outputs": [
    {
     "name": "stdin",
     "output_type": "stream",
     "text": [
      "Enter a number:  55\n"
     ]
    },
    {
     "name": "stdout",
     "output_type": "stream",
     "text": [
      "Cube Root = 3.802952460761391\n"
     ]
    }
   ],
   "source": [
    "#Find Cube Root of a Number\n",
    "\n",
    "num = float(input(\"Enter a number: \"))\n",
    "cube_root = num ** (1/3)\n",
    "print(\"Cube Root =\", cube_root)"
   ]
  },
  {
   "cell_type": "code",
   "execution_count": 7,
   "id": "6926e958-97dc-4bc6-a96e-056d81af81af",
   "metadata": {},
   "outputs": [
    {
     "name": "stdin",
     "output_type": "stream",
     "text": [
      "Enter mass (kg):  78\n",
      "Enter velocity (m/s):  6\n"
     ]
    },
    {
     "name": "stdout",
     "output_type": "stream",
     "text": [
      "Momentum = 468.0 kg·m/s\n"
     ]
    }
   ],
   "source": [
    "#Calculate Momentum\n",
    "\n",
    "mass = float(input(\"Enter mass (kg): \"))\n",
    "velocity = float(input(\"Enter velocity (m/s): \"))\n",
    "\n",
    "momentum = mass * velocity\n",
    "print(\"Momentum =\", momentum, \"kg·m/s\")"
   ]
  },
  {
   "cell_type": "code",
   "execution_count": 9,
   "id": "46fe469b-64a5-4948-8d96-74b5553aa984",
   "metadata": {},
   "outputs": [
    {
     "name": "stdin",
     "output_type": "stream",
     "text": [
      "Enter mass (kg):  88\n",
      "Enter height (m):  4\n"
     ]
    },
    {
     "name": "stdout",
     "output_type": "stream",
     "text": [
      "Potential Energy = 3449.6000000000004 Joules\n"
     ]
    }
   ],
   "source": [
    "#Calculate Potential Energy\n",
    "\n",
    "mass = float(input(\"Enter mass (kg): \"))\n",
    "height = float(input(\"Enter height (m): \"))\n",
    "g = 9.8\n",
    "\n",
    "pe = mass * g * height\n",
    "print(\"Potential Energy =\", pe, \"Joules\")"
   ]
  },
  {
   "cell_type": "code",
   "execution_count": 12,
   "id": "30e2d488-2cc4-4b1c-9758-14e540f4be4c",
   "metadata": {},
   "outputs": [
    {
     "name": "stdin",
     "output_type": "stream",
     "text": [
      "Enter radius:  99\n",
      "Enter height:  5\n"
     ]
    },
    {
     "name": "stdout",
     "output_type": "stream",
     "text": [
      "Volume of Cone = 51317.91599638927\n"
     ]
    }
   ],
   "source": [
    "# Calculate Volume of a Cone\n",
    "\n",
    "import math\n",
    "radius = float(input(\"Enter radius: \"))\n",
    "height = float(input(\"Enter height: \"))\n",
    "\n",
    "volume = (1/3) * math.pi * radius**2 * height\n",
    "print(\"Volume of Cone =\", volume)"
   ]
  },
  {
   "cell_type": "code",
   "execution_count": 16,
   "id": "ffdb74c0-9cfb-468b-84c4-7454ca2c3c0b",
   "metadata": {},
   "outputs": [
    {
     "name": "stdin",
     "output_type": "stream",
     "text": [
      "Enter radius:  3\n"
     ]
    },
    {
     "name": "stdout",
     "output_type": "stream",
     "text": [
      "Volume of Hemisphere = 56.54866776461627\n"
     ]
    }
   ],
   "source": [
    "#Calculate Volume of a Hemisphere\n",
    "\n",
    "import math\n",
    "radius = float(input(\"Enter radius: \"))\n",
    "volume = (2/3) * math.pi * radius**3\n",
    "print(\"Volume of Hemisphere =\", volume)"
   ]
  },
  {
   "cell_type": "code",
   "execution_count": 19,
   "id": "f169b774-c86c-4bf6-95f6-6afd1019c814",
   "metadata": {},
   "outputs": [
    {
     "name": "stdin",
     "output_type": "stream",
     "text": [
      "Enter length in inches:  5\n"
     ]
    },
    {
     "name": "stdout",
     "output_type": "stream",
     "text": [
      "Length in centimeters: 12.7\n"
     ]
    }
   ],
   "source": [
    "#Convert Inches to Centimeters\n",
    "\n",
    "inches = float(input(\"Enter length in inches: \"))\n",
    "cm = inches * 2.54\n",
    "print(\"Length in centimeters:\", cm)"
   ]
  },
  {
   "cell_type": "code",
   "execution_count": 23,
   "id": "a61f4a72-d85f-4ac0-84ed-db4e66a76672",
   "metadata": {},
   "outputs": [
    {
     "name": "stdin",
     "output_type": "stream",
     "text": [
      "Enter speed of light in medium (m/s):  2\n"
     ]
    },
    {
     "name": "stdout",
     "output_type": "stream",
     "text": [
      "Refractive Index = 150000000.0\n"
     ]
    }
   ],
   "source": [
    "# Calculate Refractive Index\n",
    "\n",
    "speed_light_medium = float(input(\"Enter speed of light in medium (m/s): \"))\n",
    "speed_light_vacuum = 3e8\n",
    "n = speed_light_vacuum / speed_light_medium\n",
    "print(\"Refractive Index =\", n)"
   ]
  },
  {
   "cell_type": "code",
   "execution_count": 26,
   "id": "32484949-885c-462a-9141-dfecfd88f8c3",
   "metadata": {},
   "outputs": [
    {
     "name": "stdin",
     "output_type": "stream",
     "text": [
      "Enter initial population:  33333333\n",
      "Enter growth rate (% per year):  2\n",
      "Enter time in years:  1\n"
     ]
    },
    {
     "name": "stdout",
     "output_type": "stream",
     "text": [
      "Population after 1.0 years = 33999999.66\n"
     ]
    }
   ],
   "source": [
    "#Population Growth using Compound Formula\n",
    "\n",
    "P0 = float(input(\"Enter initial population: \"))\n",
    "r = float(input(\"Enter growth rate (% per year): \"))\n",
    "t = float(input(\"Enter time in years: \"))\n",
    "P = P0 * (1 + r/100) ** t\n",
    "print(\"Population after\", t, \"years =\", round(P, 2))"
   ]
  },
  {
   "cell_type": "code",
   "execution_count": 27,
   "id": "09e63a77-30ea-46f9-ad87-88474dd470b5",
   "metadata": {},
   "outputs": [
    {
     "name": "stdin",
     "output_type": "stream",
     "text": [
      "Enter voltage (V):  4\n",
      "Enter current (A):  7\n"
     ]
    },
    {
     "name": "stdout",
     "output_type": "stream",
     "text": [
      "Power = 28.0 Watts\n"
     ]
    }
   ],
   "source": [
    "#Calculate Power in Electrical Circuit\n",
    "\n",
    "V = float(input(\"Enter voltage (V): \"))\n",
    "I = float(input(\"Enter current (A): \"))\n",
    "P = V * I\n",
    "print(\"Power =\", P, \"Watts\")"
   ]
  },
  {
   "cell_type": "code",
   "execution_count": null,
   "id": "72d4c672-5b0e-4df9-80c7-516c40adee31",
   "metadata": {},
   "outputs": [],
   "source": []
  }
 ],
 "metadata": {
  "kernelspec": {
   "display_name": "Python 3 (ipykernel)",
   "language": "python",
   "name": "python3"
  },
  "language_info": {
   "codemirror_mode": {
    "name": "ipython",
    "version": 3
   },
   "file_extension": ".py",
   "mimetype": "text/x-python",
   "name": "python",
   "nbconvert_exporter": "python",
   "pygments_lexer": "ipython3",
   "version": "3.13.5"
  }
 },
 "nbformat": 4,
 "nbformat_minor": 5
}
