{
 "cells": [
  {
   "cell_type": "code",
   "execution_count": 7,
   "id": "7bfe0b0f-811b-4d62-9d56-5ed09d5dbee9",
   "metadata": {},
   "outputs": [
    {
     "name": "stdin",
     "output_type": "stream",
     "text": [
      "Enter the length of first side:  3\n",
      "Enter the length of second side:  4\n",
      "Enter the length of third side:  5\n"
     ]
    },
    {
     "name": "stdout",
     "output_type": "stream",
     "text": [
      "The triangle is a right triangle.\n"
     ]
    }
   ],
   "source": [
    "#Write a program that accepts the lengths of three sides of a triangle as inputs. The program output should indicate whether\n",
    "#or not the triangle is a right triangle (Recall from the Pythagorean Theorem that in a right triangle,the square of one\n",
    "#side equals the sum of the squares of the other two sides).\n",
    "\n",
    "a = float(input(\"Enter the length of first side: \"))\n",
    "b = float(input(\"Enter the length of second side: \"))\n",
    "c = float(input(\"Enter the length of third side: \"))\n",
    "\n",
    "sides = sorted([a, b, c])\n",
    "\n",
    "# Check Pythagorean theorem\n",
    "if round(sides[0]**2 + sides[1]**2, 5) == round(sides[2]**2, 5):\n",
    "    print(\"The triangle is a right triangle.\")\n",
    "else:\n",
    "    print(\"The triangle is not a right triangle.\")"
   ]
  },
  {
   "cell_type": "code",
   "execution_count": 11,
   "id": "de9bf20c-14f3-4bb9-bce0-838646582089",
   "metadata": {},
   "outputs": [
    {
     "name": "stdout",
     "output_type": "stream",
     "text": [
      "Current Number | Previous Number | Sum\n",
      "             0                  0   0\n",
      "             1                  0   1\n",
      "             2                  1   3\n",
      "             3                  2   5\n",
      "             4                  3   7\n",
      "             5                  4   9\n",
      "             6                  5   11\n",
      "             7                  6   13\n",
      "             8                  7   15\n",
      "             9                  8   17\n"
     ]
    }
   ],
   "source": [
    "#Given a range of the first 10 numbers, Iterate from the start number to the end number, and In each iteration print the sum of the current number \n",
    "#and previous number\n",
    "\n",
    "start = 0\n",
    "end = 10\n",
    "previous_num = 0\n",
    "\n",
    "print(\"Current Number | Previous Number | Sum\")\n",
    "\n",
    "for current_num in range(start, end):\n",
    "    sum_nums = current_num + previous_num\n",
    "    print(f\"{current_num:14}   {previous_num:16}   {sum_nums}\")\n",
    "    previous_num = current_num"
   ]
  },
  {
   "cell_type": "code",
   "execution_count": 13,
   "id": "84e5dd7c-7de9-455c-a217-de265f8eae66",
   "metadata": {},
   "outputs": [
    {
     "name": "stdin",
     "output_type": "stream",
     "text": [
      "Enter a string 123456789\n"
     ]
    },
    {
     "name": "stdout",
     "output_type": "stream",
     "text": [
      "Characters at even index numbers:\n",
      "1\n",
      "3\n",
      "5\n",
      "7\n",
      "9\n"
     ]
    }
   ],
   "source": [
    "#Given a string, display only those characters which are present at an even index number.\n",
    "\n",
    "input_str = input(\"Enter a string\")\n",
    "print(\"Characters at even index numbers:\")\n",
    "for i in range(0, len(input_str), 2):\n",
    "    print(input_str[i])"
   ]
  },
  {
   "cell_type": "code",
   "execution_count": 15,
   "id": "7c4e0c73-bee0-447e-b49a-ec36d1295588",
   "metadata": {},
   "outputs": [
    {
     "name": "stdin",
     "output_type": "stream",
     "text": [
      "Enter a string:  Shruti_Khose love to eat panipuri.\n"
     ]
    },
    {
     "name": "stdout",
     "output_type": "stream",
     "text": [
      "The substring 'Shruti_Khose' appears 1 time(s) in the given string\n"
     ]
    }
   ],
   "source": [
    "#Return the count of sub-string “Shubhangi” appears in the given string\n",
    "\n",
    "text = input(\"Enter a string: \")\n",
    "substring = \"Shruti_Khose\"\n",
    "count = text.count(substring)\n",
    "print(f\"The substring '{substring}' appears {count} time(s) in the given string\")"
   ]
  },
  {
   "cell_type": "code",
   "execution_count": 17,
   "id": "3ad04dac-fe06-4419-a8cc-355eb321c377",
   "metadata": {},
   "outputs": [
    {
     "name": "stdout",
     "output_type": "stream",
     "text": [
      "Original List: [1, 2, 2, 3, 4, 4, 5, 1, 6, 3, 5, 3, 8, 7, 9]\n",
      "List after removing duplicates: [1, 2, 3, 4, 5, 6, 7, 8, 9]\n"
     ]
    }
   ],
   "source": [
    "#Write a program (function!) that takes a list and returns a new list that contains all the elements of the first list minus all the duplicates.\n",
    "\n",
    "def remove_duplicates(input_list):\n",
    "    return list(set(input_list))\n",
    "\n",
    "original_list = [1, 2, 2, 3, 4, 4, 5, 1, 6, 3, 5, 3, 8, 7, 9]\n",
    "new_list = remove_duplicates(original_list)\n",
    "\n",
    "print(\"Original List:\", original_list)\n",
    "print(\"List after removing duplicates:\", new_list)"
   ]
  },
  {
   "cell_type": "code",
   "execution_count": 19,
   "id": "bc6e5472-46ac-4cfc-b6b0-3b7688e39892",
   "metadata": {},
   "outputs": [
    {
     "name": "stdout",
     "output_type": "stream",
     "text": [
      "76 x 1 = 76\n",
      "76 x 2 = 152\n",
      "76 x 3 = 228\n",
      "76 x 4 = 304\n",
      "76 x 5 = 380\n",
      "76 x 6 = 456\n",
      "76 x 7 = 532\n",
      "76 x 8 = 608\n",
      "76 x 9 = 684\n",
      "76 x 10 = 760\n"
     ]
    }
   ],
   "source": [
    "#Print multiplication table of 12 using recursion\n",
    "\n",
    "def print_table(number, multiplier=1):\n",
    "    if multiplier > 10:\n",
    "        return\n",
    "    print(f\"{number} x {multiplier} = {number * multiplier}\")\n",
    "    print_table(number, multiplier + 1)\n",
    "\n",
    "print_table(76)"
   ]
  },
  {
   "cell_type": "code",
   "execution_count": 20,
   "id": "2dd6c128-f211-40b5-bea0-0c23e7dcfa12",
   "metadata": {},
   "outputs": [
    {
     "name": "stdin",
     "output_type": "stream",
     "text": [
      "Enter the length of the rectangle:  6\n",
      "Enter the width of the rectangle:  9\n"
     ]
    },
    {
     "name": "stdout",
     "output_type": "stream",
     "text": [
      "Area of rectangle: 54.0\n",
      "Perimeter of rectangle: 30.0\n"
     ]
    }
   ],
   "source": [
    "#Write a function to calculate area and perimeter of a rectangle.\n",
    "\n",
    "def rectangle_area_perimeter(length, width):\n",
    "    area = length * width\n",
    "    perimeter = 2 * (length + width)\n",
    "    return area, perimeter\n",
    "\n",
    "l = float(input(\"Enter the length of the rectangle: \"))\n",
    "w = float(input(\"Enter the width of the rectangle: \"))\n",
    "\n",
    "area, perimeter = rectangle_area_perimeter(l, w)\n",
    "\n",
    "print(f\"Area of rectangle: {area}\")\n",
    "print(f\"Perimeter of rectangle: {perimeter}\")"
   ]
  },
  {
   "cell_type": "code",
   "execution_count": 23,
   "id": "74cb5bd8-9e75-4746-a2da-3f04b52322fb",
   "metadata": {},
   "outputs": [
    {
     "name": "stdin",
     "output_type": "stream",
     "text": [
      "Enter the radius of the circle:  7\n"
     ]
    },
    {
     "name": "stdout",
     "output_type": "stream",
     "text": [
      "Area of the circle: 153.94\n",
      "Circumference of the circle: 43.98\n"
     ]
    }
   ],
   "source": [
    "#Write a function to calculate area and circumference of a circle\n",
    "\n",
    "import math\n",
    "\n",
    "def circle_area_circumference(radius):\n",
    "    area = math.pi * radius ** 2\n",
    "    circumference = 2 * math.pi * radius\n",
    "    return area, circumference\n",
    "\n",
    "r = float(input(\"Enter the radius of the circle: \"))\n",
    "\n",
    "area, circumference = circle_area_circumference(r)\n",
    "\n",
    "print(f\"Area of the circle: {area:.2f}\")\n",
    "print(f\"Circumference of the circle: {circumference:.2f}\")"
   ]
  },
  {
   "cell_type": "code",
   "execution_count": 22,
   "id": "299a0fe7-cdad-400e-bc4a-6261897840fa",
   "metadata": {},
   "outputs": [
    {
     "name": "stdin",
     "output_type": "stream",
     "text": [
      "Enter the base number 8\n",
      "Enter the exponent 3\n"
     ]
    },
    {
     "name": "stdout",
     "output_type": "stream",
     "text": [
      "8.0 raised to the power 3 is: 512.0\n"
     ]
    }
   ],
   "source": [
    "#Write a function to calculate power of a number raised to other\n",
    "\n",
    "def power(base, exponent):\n",
    "    result = base ** exponent\n",
    "    return result\n",
    "\n",
    "b = float(input(\"Enter the base number\"))\n",
    "e = int(input(\"Enter the exponent\"))\n",
    "\n",
    "result = power(b, e)\n",
    "print(f\"{b} raised to the power {e} is: {result}\")"
   ]
  },
  {
   "cell_type": "code",
   "execution_count": 26,
   "id": "73c21d4f-c598-475c-b7d4-25a9bad798d4",
   "metadata": {},
   "outputs": [
    {
     "name": "stdout",
     "output_type": "stream",
     "text": [
      "Result: False\n"
     ]
    }
   ],
   "source": [
    "#Given a list of numbers, return True if first and last number of a list is same\n",
    "\n",
    "def first_and_last_same(number_list):\n",
    "    if len(number_list) == 0:\n",
    "        return False  \n",
    "    return number_list[0] == number_list[-1]\n",
    "\n",
    "numbers = [10, 20, 30, 40, 10, 20, 30, 60]\n",
    "result = first_and_last_same(numbers)\n",
    "print(\"Result:\", result)"
   ]
  },
  {
   "cell_type": "code",
   "execution_count": null,
   "id": "0cfb5abd-d5ab-4992-b9b8-75dffdf7e47e",
   "metadata": {},
   "outputs": [],
   "source": []
  }
 ],
 "metadata": {
  "kernelspec": {
   "display_name": "Python 3 (ipykernel)",
   "language": "python",
   "name": "python3"
  },
  "language_info": {
   "codemirror_mode": {
    "name": "ipython",
    "version": 3
   },
   "file_extension": ".py",
   "mimetype": "text/x-python",
   "name": "python",
   "nbconvert_exporter": "python",
   "pygments_lexer": "ipython3",
   "version": "3.13.5"
  }
 },
 "nbformat": 4,
 "nbformat_minor": 5
}
