{
 "cells": [
  {
   "cell_type": "code",
   "execution_count": 3,
   "id": "24f12330-371a-4e81-8af6-22d02fb45641",
   "metadata": {},
   "outputs": [
    {
     "name": "stdin",
     "output_type": "stream",
     "text": [
      "Enter withdrawal amount (0 to stop):  4000\n"
     ]
    },
    {
     "name": "stdout",
     "output_type": "stream",
     "text": [
      "Withdrawn today: ₹4000.0\n"
     ]
    },
    {
     "name": "stdin",
     "output_type": "stream",
     "text": [
      "Enter withdrawal amount (0 to stop):  6000\n"
     ]
    },
    {
     "name": "stdout",
     "output_type": "stream",
     "text": [
      "Withdrawn today: ₹10000.0\n"
     ]
    },
    {
     "name": "stdin",
     "output_type": "stream",
     "text": [
      "Enter withdrawal amount (0 to stop):  7000\n"
     ]
    },
    {
     "name": "stdout",
     "output_type": "stream",
     "text": [
      "Withdrawn today: ₹17000.0\n"
     ]
    },
    {
     "name": "stdin",
     "output_type": "stream",
     "text": [
      "Enter withdrawal amount (0 to stop):  40000\n"
     ]
    },
    {
     "name": "stdout",
     "output_type": "stream",
     "text": [
      "Daily withdrawal limit exceeded!\n"
     ]
    },
    {
     "name": "stdin",
     "output_type": "stream",
     "text": [
      "Enter withdrawal amount (0 to stop):  0\n"
     ]
    }
   ],
   "source": [
    "#ATM Daily Withdrawal Limit\n",
    "\n",
    "limit = 20000\n",
    "withdrawn_today = 0\n",
    "\n",
    "while True:\n",
    "    amount = float(input(\"Enter withdrawal amount (0 to stop): \"))\n",
    "    if amount == 0:\n",
    "        break\n",
    "    if withdrawn_today + amount > limit:\n",
    "        print(\"Daily withdrawal limit exceeded!\")\n",
    "    else:\n",
    "        withdrawn_today += amount\n",
    "        print(f\"Withdrawn today: ₹{withdrawn_today}\")"
   ]
  },
  {
   "cell_type": "code",
   "execution_count": 9,
   "id": "08f887d9-8a2e-4862-97a1-526f331aaabc",
   "metadata": {},
   "outputs": [
    {
     "name": "stdin",
     "output_type": "stream",
     "text": [
      "Enter your savings goal:  10000000\n",
      "Enter monthly saving amount:  5\n"
     ]
    },
    {
     "name": "stdout",
     "output_type": "stream",
     "text": [
      "You will reach your goal in 2000000.0 months\n"
     ]
    }
   ],
   "source": [
    "#Savings Goal Calculator\n",
    "\n",
    "goal = float(input(\"Enter your savings goal: \"))\n",
    "monthly_saving = float(input(\"Enter monthly saving amount: \"))\n",
    "months_needed = goal / monthly_saving\n",
    "print(f\"You will reach your goal in {months_needed} months\")"
   ]
  },
  {
   "cell_type": "code",
   "execution_count": 11,
   "id": "c23800c9-15a3-485e-a8ba-fed25516722f",
   "metadata": {},
   "outputs": [
    {
     "name": "stdin",
     "output_type": "stream",
     "text": [
      "Enter credit card bill amount:  30000\n"
     ]
    },
    {
     "name": "stdout",
     "output_type": "stream",
     "text": [
      "Minimum payment due: ₹1500.0\n"
     ]
    }
   ],
   "source": [
    "#Credit Card Minimum Payment Calculator\n",
    "\n",
    "bill = float(input(\"Enter credit card bill amount: \"))\n",
    "min_payment = bill * 0.05\n",
    "print(f\"Minimum payment due: ₹{min_payment}\")"
   ]
  },
  {
   "cell_type": "code",
   "execution_count": 13,
   "id": "00fd91aa-8823-4122-be99-70f547897362",
   "metadata": {},
   "outputs": [
    {
     "name": "stdin",
     "output_type": "stream",
     "text": [
      "Enter amount in INR:  100000\n"
     ]
    },
    {
     "name": "stdout",
     "output_type": "stream",
     "text": [
      "USD: 1201.2012012012012\n",
      "EUR: 1092.896174863388\n",
      "GBP: 931.0986964618249\n"
     ]
    }
   ],
   "source": [
    "#Foreign Currency Exchange (Multi-currency)\n",
    "\n",
    "amount_inr = float(input(\"Enter amount in INR: \"))\n",
    "rates = {\"USD\": 83.25, \"EUR\": 91.50, \"GBP\": 107.40}\n",
    "\n",
    "for currency, rate in rates.items():\n",
    "    print(f\"{currency}: {amount_inr / rate}\")"
   ]
  },
  {
   "cell_type": "code",
   "execution_count": 16,
   "id": "0d523567-0ac0-41ea-b5f7-a3d9f71ff77b",
   "metadata": {},
   "outputs": [
    {
     "name": "stdin",
     "output_type": "stream",
     "text": [
      "Enter deposit amount:  120000\n",
      "Enter annual interest rate (%):  7\n",
      "Enter time in years:  5\n"
     ]
    },
    {
     "name": "stdout",
     "output_type": "stream",
     "text": [
      "Maturity Amount: 169773.38\n"
     ]
    }
   ],
   "source": [
    "# Deposit Interest with Quarterly Compounding\n",
    "\n",
    "p = float(input(\"Enter deposit amount: \"))\n",
    "r = float(input(\"Enter annual interest rate (%): \"))\n",
    "t = float(input(\"Enter time in years: \"))\n",
    "n = 4\n",
    "maturity = p * (1 + r/(n*100))**(n*t)\n",
    "print(\"Maturity Amount:\", round(maturity, 2))"
   ]
  },
  {
   "cell_type": "code",
   "execution_count": 17,
   "id": "6cf2538a-9a0c-4fad-b02c-9e189619578a",
   "metadata": {},
   "outputs": [
    {
     "name": "stdin",
     "output_type": "stream",
     "text": [
      "Enter account balance:  30000\n",
      "Enter transfer amount:  300\n"
     ]
    },
    {
     "name": "stdout",
     "output_type": "stream",
     "text": [
      "Transfer successful. Remaining balance: 29695.0\n"
     ]
    }
   ],
   "source": [
    "#Transaction Fee Deduction for Online Transfers\n",
    "\n",
    "balance = float(input(\"Enter account balance: \"))\n",
    "transfer = float(input(\"Enter transfer amount: \"))\n",
    "fee = 5.0  # fixed charge\n",
    "if transfer + fee > balance:\n",
    "    print(\"Not enough balance\")\n",
    "else:\n",
    "    balance -= (transfer + fee)\n",
    "    print(\"Transfer successful. Remaining balance:\", balance)"
   ]
  },
  {
   "cell_type": "code",
   "execution_count": 21,
   "id": "f1012b2d-b2fe-42e0-9a75-93bb5c880e53",
   "metadata": {},
   "outputs": [
    {
     "name": "stdin",
     "output_type": "stream",
     "text": [
      "Enter current loan amount:  100000\n",
      "Enter monthly EMI:  3000\n"
     ]
    },
    {
     "name": "stdout",
     "output_type": "stream",
     "text": [
      "Months left to repay loan: 33.333333333333336\n"
     ]
    }
   ],
   "source": [
    "#Loan Repayment Remaining Months Calculator\n",
    "\n",
    "loan = float(input(\"Enter current loan amount: \"))\n",
    "emi = float(input(\"Enter monthly EMI: \"))\n",
    "months = loan / emi\n",
    "print(f\"Months left to repay loan: {months}\")"
   ]
  },
  {
   "cell_type": "code",
   "execution_count": 23,
   "id": "25b88433-25c8-406c-ab96-b74b72680d3d",
   "metadata": {},
   "outputs": [
    {
     "name": "stdin",
     "output_type": "stream",
     "text": [
      "Enter INR:  500000\n",
      "Enter USD:  77\n",
      "Enter EUR:  78\n"
     ]
    },
    {
     "name": "stdout",
     "output_type": "stream",
     "text": [
      "Total portfolio value in INR: 514317.25\n"
     ]
    }
   ],
   "source": [
    "#Currency Portfolio Value Calculator\n",
    "\n",
    "inr = float(input(\"Enter INR: \"))\n",
    "usd = float(input(\"Enter USD: \"))\n",
    "eur = float(input(\"Enter EUR: \"))\n",
    "\n",
    "usd_rate = 93.25\n",
    "eur_rate = 91.50\n",
    "\n",
    "total_inr = inr + usd * usd_rate + eur * eur_rate\n",
    "print(\"Total portfolio value in INR:\", total_inr)"
   ]
  },
  {
   "cell_type": "code",
   "execution_count": 27,
   "id": "9e37b608-b548-4184-bc9b-9f10cca2ff1f",
   "metadata": {},
   "outputs": [
    {
     "name": "stdin",
     "output_type": "stream",
     "text": [
      "Enter withdrawal amount:  400\n"
     ]
    },
    {
     "name": "stdout",
     "output_type": "stream",
     "text": [
      "Withdrawal successful. Remaining balance: 4600.0\n"
     ]
    }
   ],
   "source": [
    "#Overdraft Protection Simulation\n",
    "\n",
    "balance = 5000\n",
    "overdraft_limit = 2000\n",
    "\n",
    "withdraw = float(input(\"Enter withdrawal amount: \"))\n",
    "if withdraw <= balance + overdraft_limit:\n",
    "    balance -= withdraw\n",
    "    print(\"Withdrawal successful. Remaining balance:\", balance)\n",
    "else:\n",
    "    print(\"Overdraft limit exceeded!\")"
   ]
  },
  {
   "cell_type": "code",
   "execution_count": 29,
   "id": "7648f292-825e-4fa0-98bb-f48e381d6f1c",
   "metadata": {},
   "outputs": [
    {
     "name": "stdin",
     "output_type": "stream",
     "text": [
      "Enter monthly savings target:  1000000\n",
      "Enter amount saved this month:  5000\n"
     ]
    },
    {
     "name": "stdout",
     "output_type": "stream",
     "text": [
      "Need to save ₹995000.0 more\n"
     ]
    }
   ],
   "source": [
    "# Fixed Monthly Deposit Target Checker\n",
    "\n",
    "target = float(input(\"Enter monthly savings target: \"))\n",
    "saved = float(input(\"Enter amount saved this month: \"))\n",
    "if saved >= target:\n",
    "    print(\"Target achieved!\")\n",
    "else:\n",
    "    print(f\"Need to save ₹{target - saved} more\")"
   ]
  },
  {
   "cell_type": "code",
   "execution_count": null,
   "id": "b9629652-37b6-4bdb-9c92-88c06fcd811e",
   "metadata": {},
   "outputs": [],
   "source": []
  }
 ],
 "metadata": {
  "kernelspec": {
   "display_name": "Python 3 (ipykernel)",
   "language": "python",
   "name": "python3"
  },
  "language_info": {
   "codemirror_mode": {
    "name": "ipython",
    "version": 3
   },
   "file_extension": ".py",
   "mimetype": "text/x-python",
   "name": "python",
   "nbconvert_exporter": "python",
   "pygments_lexer": "ipython3",
   "version": "3.13.5"
  }
 },
 "nbformat": 4,
 "nbformat_minor": 5
}
