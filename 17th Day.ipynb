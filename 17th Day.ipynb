{
 "cells": [
  {
   "cell_type": "code",
   "execution_count": 6,
   "id": "18272603-d712-40be-9d1a-67184b1f0d8a",
   "metadata": {},
   "outputs": [
    {
     "name": "stdout",
     "output_type": "stream",
     "text": [
      "Square root after specific milliseconds:\n",
      "7.483314773547883\n",
      "12.24744871391589\n",
      "163.67345539213133\n"
     ]
    }
   ],
   "source": [
    "#Write a Python program that invokes a function after a specified period of time. \n",
    "\n",
    "import time\n",
    "import math\n",
    "def delayed_sqrt(numbers, delay_ms):\n",
    "    delay_seconds = delay_ms / 1000.0  \n",
    "    print(\"Square root after specific milliseconds:\")\n",
    "    for num in numbers:\n",
    "        time.sleep(delay_seconds)\n",
    "        print(math.sqrt(num))\n",
    "numbers = [56, 150, 26789]\n",
    "delay_ms = 500 \n",
    "delayed_sqrt(numbers, delay_ms)"
   ]
  },
  {
   "cell_type": "code",
   "execution_count": 12,
   "id": "d7a991fa-0783-4677-9573-f7aa43dd0ff5",
   "metadata": {},
   "outputs": [
    {
     "name": "stdin",
     "output_type": "stream",
     "text": [
      "Enter the side length of the square 99\n"
     ]
    },
    {
     "name": "stdout",
     "output_type": "stream",
     "text": [
      "396.0\n"
     ]
    }
   ],
   "source": [
    "side_length = float(input(\"Enter the side length of the square\"))\n",
    "perimeter_of_square(side_length)\n",
    "def perimeter_of_square(side):\n",
    "    peri=4*side\n",
    "    print(peri)"
   ]
  },
  {
   "cell_type": "code",
   "execution_count": 17,
   "id": "024f2e49-a409-4560-ad5e-9bfa38f7dcf0",
   "metadata": {},
   "outputs": [
    {
     "name": "stdin",
     "output_type": "stream",
     "text": [
      "Enter the value of x 5\n"
     ]
    },
    {
     "name": "stdout",
     "output_type": "stream",
     "text": [
      "Result of 2x + 3 is: 13.0\n"
     ]
    }
   ],
   "source": [
    "#a basic algebraic expression\n",
    "\n",
    "def evaluate_expression(x):\n",
    "    return 2 * x + 3\n",
    "x = float(input(\"Enter the value of x\"))\n",
    "result = evaluate_expression(x)\n",
    "print(\"Result of 2x + 3 is:\", result)"
   ]
  },
  {
   "cell_type": "code",
   "execution_count": 20,
   "id": "de0d3cc3-7777-4e59-80ae-b6c137c8f093",
   "metadata": {},
   "outputs": [
    {
     "name": "stdin",
     "output_type": "stream",
     "text": [
      "Enter a 7\n",
      "Enter b 9\n",
      "Enter c 6\n",
      "Enter x 5\n"
     ]
    },
    {
     "name": "stdout",
     "output_type": "stream",
     "text": [
      "Result of ax² + bx + c is: 226.0\n"
     ]
    }
   ],
   "source": [
    "#a quadratic expression\n",
    "\n",
    "def quadratic_expression(a, b, c, x):\n",
    "    return a * x**2 + b * x + c\n",
    "\n",
    "a = float(input(\"Enter a\"))\n",
    "b = float(input(\"Enter b\"))\n",
    "c = float(input(\"Enter c\"))\n",
    "x = float(input(\"Enter x\"))\n",
    "\n",
    "result = quadratic_expression(a, b, c, x)\n",
    "print(\"Result of ax² + bx + c is:\", result)"
   ]
  },
  {
   "cell_type": "code",
   "execution_count": 24,
   "id": "4090f71f-d806-4207-b0b9-ff4883cbf890",
   "metadata": {},
   "outputs": [
    {
     "name": "stdin",
     "output_type": "stream",
     "text": [
      "Enter a 67\n",
      "Enter b 98\n"
     ]
    },
    {
     "name": "stdout",
     "output_type": "stream",
     "text": [
      "Solution of ax + b = 0 is: -1.462686567164179\n"
     ]
    }
   ],
   "source": [
    "#Solve a simple linear equation\n",
    "\n",
    "def solve_linear_equation(a, b):\n",
    "    if a == 0:\n",
    "        return \"No solution\" if b != 0 else \"Infinite solutions\"\n",
    "    return -b / a\n",
    "\n",
    "a = float(input(\"Enter a\"))\n",
    "b = float(input(\"Enter b\"))\n",
    "\n",
    "solution = solve_linear_equation(a, b)\n",
    "print(\"Solution of ax + b = 0 is:\", solution)"
   ]
  },
  {
   "cell_type": "code",
   "execution_count": 26,
   "id": "bd3b5aa0-76b7-4665-89ad-9f7c27ea0c4d",
   "metadata": {},
   "outputs": [
    {
     "name": "stdin",
     "output_type": "stream",
     "text": [
      "Enter a 5\n",
      "Enter b 8\n"
     ]
    },
    {
     "name": "stdout",
     "output_type": "stream",
     "text": [
      "(a + b)^2 = 169.0\n"
     ]
    }
   ],
   "source": [
    "#Expand (a + b)²\n",
    "\n",
    "def expand_square(a, b):\n",
    "    return a**2 + 2*a*b + b**2\n",
    "\n",
    "a = float(input(\"Enter a\"))\n",
    "b = float(input(\"Enter b\"))\n",
    "\n",
    "result = expand_square(a, b)\n",
    "print(\"(a + b)^2 =\", result)"
   ]
  },
  {
   "cell_type": "code",
   "execution_count": 29,
   "id": "d9c9f001-dd55-463e-bba0-9fa6607ee337",
   "metadata": {},
   "outputs": [
    {
     "name": "stdin",
     "output_type": "stream",
     "text": [
      "Enter a 9\n",
      "Enter b 4\n"
     ]
    },
    {
     "name": "stdout",
     "output_type": "stream",
     "text": [
      "(a - b)(a + b) = 65.0\n"
     ]
    }
   ],
   "source": [
    "# Factor difference of squares\n",
    "\n",
    "def factor_diff_of_squares(a, b):\n",
    "    return (a - b) * (a + b)\n",
    "\n",
    "a = float(input(\"Enter a\"))\n",
    "b = float(input(\"Enter b\"))\n",
    "\n",
    "result = factor_diff_of_squares(a, b)\n",
    "print(\"(a - b)(a + b) =\", result)"
   ]
  },
  {
   "cell_type": "code",
   "execution_count": 33,
   "id": "f0046fa3-cd74-4642-8835-6ddd4a0318b7",
   "metadata": {},
   "outputs": [
    {
     "name": "stdout",
     "output_type": "stream",
     "text": [
      "Simplified expression of (x^2 + 2xy + y^2): x**2 + 2*x*y + y**2\n"
     ]
    }
   ],
   "source": [
    "#Simplify an algebraic expression using SymPy\n",
    "\n",
    "from sympy import symbols, simplify\n",
    "\n",
    "x, y = symbols('x y')\n",
    "expr = (x**2 + 2*x*y + y**2)\n",
    "simplified = simplify(expr)\n",
    "\n",
    "print(\"Simplified expression of (x^2 + 2xy + y^2):\", simplified)"
   ]
  },
  {
   "cell_type": "code",
   "execution_count": 45,
   "id": "d2f20a50-b081-4fdd-a614-72552212b6e9",
   "metadata": {},
   "outputs": [
    {
     "name": "stdout",
     "output_type": "stream",
     "text": [
      "Solutions: [2, 4]\n"
     ]
    }
   ],
   "source": [
    "#Solve Quadratic Equation\n",
    "\n",
    "from sympy import symbols, solve\n",
    "\n",
    "x = symbols('x')\n",
    "a = 1\n",
    "b = -6\n",
    "c = 8\n",
    "\n",
    "expr = a*x**2 + b*x + c\n",
    "solutions = solve(expr, x)\n",
    "\n",
    "print(\"Solutions:\", solutions)"
   ]
  },
  {
   "cell_type": "code",
   "execution_count": 57,
   "id": "67e89243-a143-484e-a8a3-9fdf016fd8bf",
   "metadata": {},
   "outputs": [
    {
     "name": "stdout",
     "output_type": "stream",
     "text": [
      "Factored form: (x - 5)*(x + 5)\n"
     ]
    }
   ],
   "source": [
    "# Factor Algebraic Expression\n",
    "\n",
    "from sympy import symbols, factor\n",
    "\n",
    "x = symbols('x')\n",
    "expr = x**2 - 25\n",
    "\n",
    "factored = factor(expr)\n",
    "print(\"Factored form:\", factored)"
   ]
  },
  {
   "cell_type": "code",
   "execution_count": null,
   "id": "8570024f-3869-4880-8a8a-6376c1d2eae0",
   "metadata": {},
   "outputs": [],
   "source": []
  }
 ],
 "metadata": {
  "kernelspec": {
   "display_name": "Python 3 (ipykernel)",
   "language": "python",
   "name": "python3"
  },
  "language_info": {
   "codemirror_mode": {
    "name": "ipython",
    "version": 3
   },
   "file_extension": ".py",
   "mimetype": "text/x-python",
   "name": "python",
   "nbconvert_exporter": "python",
   "pygments_lexer": "ipython3",
   "version": "3.13.5"
  }
 },
 "nbformat": 4,
 "nbformat_minor": 5
}
