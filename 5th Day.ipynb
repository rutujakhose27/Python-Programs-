{
 "cells": [
  {
   "cell_type": "code",
   "execution_count": 6,
   "id": "b461364f-f252-4165-bdc8-5eb8db044b68",
   "metadata": {},
   "outputs": [
    {
     "name": "stdout",
     "output_type": "stream",
     "text": [
      "Rutuja: 67\n",
      "Shruti: 78\n",
      "Aditi: 45\n",
      "Omkar: 90\n"
     ]
    }
   ],
   "source": [
    "# Program to store and display student grades\n",
    "student_grades = {\"Rutuja\": 67, \"Shruti\": 78, \"Aditi\": 45, \"Omkar\": 90}\n",
    "for student,grade in student_grades.items():\n",
    "    print(f\"{student}: {grade}\")"
   ]
  },
  {
   "cell_type": "code",
   "execution_count": 7,
   "id": "130e4102-157a-45f6-9721-3c4dea6b9c75",
   "metadata": {},
   "outputs": [
    {
     "name": "stdout",
     "output_type": "stream",
     "text": [
      "{'H': 1, 'e': 1, 'l': 3, 'o': 1, 'G': 1, 'i': 1, 'r': 1, 's': 1}\n"
     ]
    }
   ],
   "source": [
    "# Program to count frequency of characters\n",
    "text = \"Hello Girls\"\n",
    "char_count = {}\n",
    "for char in text:\n",
    "    if(char != \" \"):\n",
    "        char_count[char] = char_count.get(char, 0) + 1\n",
    "print(char_count)"
   ]
  },
  {
   "cell_type": "code",
   "execution_count": 10,
   "id": "3f98c18c-1f19-49cb-b8be-2a4052b6eedc",
   "metadata": {},
   "outputs": [
    {
     "name": "stdout",
     "output_type": "stream",
     "text": [
      "{'name': 'Rutuja', 'age': 22, 'city': 'Pune', 'profession': 'Pharmacist'}\n"
     ]
    }
   ],
   "source": [
    "# Program to add and update values in a dictionary\n",
    "person = {\"name\": \"Rutuja\",\"age\": 21,\"city\": \"Pune\"}\n",
    "person[\"age\"] = 22\n",
    "person[\"profession\"] = \"Pharmacist\"\n",
    "print(person)"
   ]
  },
  {
   "cell_type": "code",
   "execution_count": 12,
   "id": "a9adac35-d2b3-4050-8f28-6be9707acb3f",
   "metadata": {},
   "outputs": [
    {
     "name": "stdout",
     "output_type": "stream",
     "text": [
      "{'R': 78, 'U': 89, 'H': 99}\n"
     ]
    }
   ],
   "source": [
    "# Program to convert two lists into a dictionary\n",
    "keys = [\"R\", \"U\", \"H\"]\n",
    "values = [78, 89, 99]\n",
    "combined_dict = dict(zip(keys, values))\n",
    "print(combined_dict)"
   ]
  },
  {
   "cell_type": "code",
   "execution_count": 13,
   "id": "e1a29363-a302-4de9-846b-925f982e7893",
   "metadata": {},
   "outputs": [
    {
     "name": "stdout",
     "output_type": "stream",
     "text": [
      "\n",
      "Rutuja's marks:\n",
      "Math: 80\n",
      "Science: 75\n",
      "\n",
      "Shruti's marks:\n",
      "Math: 90\n",
      "Science: 88\n"
     ]
    }
   ],
   "source": [
    "# Program using nested dictionary to store student marks\n",
    "students = {\"Rutuja\": {\"Math\": 80, \"Science\": 75},\"Shruti\": {\"Math\": 90, \"Science\": 88}}\n",
    "for name, subjects in students.items():\n",
    "    print(f\"\\n{name}'s marks:\")\n",
    "    for subject, mark in subjects.items():\n",
    "        print(f\"{subject}: {mark}\")\n"
   ]
  },
  {
   "cell_type": "code",
   "execution_count": 14,
   "id": "41e34844-1f9c-4141-adc7-e6e304e71c90",
   "metadata": {},
   "outputs": [
    {
     "name": "stdout",
     "output_type": "stream",
     "text": [
      "Hello, User!\n",
      "Hello, Rutuja!\n"
     ]
    }
   ],
   "source": [
    "#Function with Default Parameter\n",
    "def greet(name=\"User\"):\n",
    "    print(f\"Hello, {name}!\")\n",
    "greet()          \n",
    "greet(\"Rutuja\")  "
   ]
  },
  {
   "cell_type": "code",
   "execution_count": 16,
   "id": "06db37d3-20c2-446f-9855-a44f8b52e79b",
   "metadata": {},
   "outputs": [
    {
     "name": "stdout",
     "output_type": "stream",
     "text": [
      "Addition: 72\n",
      "Subtraction: 62\n"
     ]
    }
   ],
   "source": [
    "#Function Returning Multiple Values\n",
    "def calculate(x, y):\n",
    "    add = x + y\n",
    "    subtract = x - y\n",
    "    return add, subtract\n",
    "a, b = calculate(67, 5)\n",
    "print(\"Addition:\", a)\n",
    "print(\"Subtraction:\", b)"
   ]
  },
  {
   "cell_type": "code",
   "execution_count": 25,
   "id": "d671cd71-73a3-4c5a-8279-021dc3bd2865",
   "metadata": {},
   "outputs": [
    {
     "name": "stdout",
     "output_type": "stream",
     "text": [
      "67 is Odd\n",
      "88 is Even\n"
     ]
    }
   ],
   "source": [
    "#Function to Check Even or Odd\n",
    "def check_even_odd(number):\n",
    "    if(number%2==0):\n",
    "        return \"Even\"\n",
    "    else:\n",
    "        return \"Odd\"\n",
    "print(\"67 is\", check_even_odd(67))\n",
    "print(\"88 is\", check_even_odd(88))"
   ]
  },
  {
   "cell_type": "code",
   "execution_count": 24,
   "id": "c21e5f1a-1f4d-4f15-ac4a-f0eadf5b7540",
   "metadata": {},
   "outputs": [
    {
     "name": "stdout",
     "output_type": "stream",
     "text": [
      "Factorial of 3: 6\n"
     ]
    }
   ],
   "source": [
    "#Function to Find Factorial\n",
    "def factorial(n):\n",
    "    result=1\n",
    "    for i in range(1, n+1):\n",
    "        result=result*i\n",
    "    return result\n",
    "print(\"Factorial of 3:\", factorial(3))"
   ]
  },
  {
   "cell_type": "code",
   "execution_count": 26,
   "id": "29115f7d-384f-48cd-9178-c8c7be2471db",
   "metadata": {},
   "outputs": [
    {
     "name": "stdout",
     "output_type": "stream",
     "text": [
      "Vowels in 'Rutuja Khose': 5\n"
     ]
    }
   ],
   "source": [
    "#Function to Count Vowels in a String\n",
    "def count_vowels(text):\n",
    "    vowels=\"aeiouAEIOU\"\n",
    "    count=0\n",
    "    for char in text:\n",
    "        if char in vowels:\n",
    "            count=count+1\n",
    "    return count\n",
    "print(\"Vowels in 'Rutuja Khose':\", count_vowels(\"Rutuja Khose\"))"
   ]
  },
  {
   "cell_type": "code",
   "execution_count": null,
   "id": "b4a89272-f23c-47e1-9a71-bca63a192da0",
   "metadata": {},
   "outputs": [],
   "source": []
  }
 ],
 "metadata": {
  "kernelspec": {
   "display_name": "Python 3 (ipykernel)",
   "language": "python",
   "name": "python3"
  },
  "language_info": {
   "codemirror_mode": {
    "name": "ipython",
    "version": 3
   },
   "file_extension": ".py",
   "mimetype": "text/x-python",
   "name": "python",
   "nbconvert_exporter": "python",
   "pygments_lexer": "ipython3",
   "version": "3.13.5"
  }
 },
 "nbformat": 4,
 "nbformat_minor": 5
}
