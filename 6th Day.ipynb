{
 "cells": [
  {
   "cell_type": "code",
   "execution_count": 10,
   "id": "c2aa2e67-cb10-411b-878b-fe64841f6b1a",
   "metadata": {},
   "outputs": [
    {
     "name": "stdout",
     "output_type": "stream",
     "text": [
      "Is 10 prime False\n"
     ]
    }
   ],
   "source": [
    "#prime number\n",
    "def is_prime(n):\n",
    "    if(n<2):\n",
    "        return False\n",
    "    for i in range(2, int(n**0.5)+1):\n",
    "        if(n%i==0):\n",
    "            return False\n",
    "    return True\n",
    "print(\"Is 10 prime\", is_prime(10))"
   ]
  },
  {
   "cell_type": "code",
   "execution_count": 12,
   "id": "bf1e9da3-fd7c-4afc-8132-f1a3a93fa2d0",
   "metadata": {},
   "outputs": [
    {
     "name": "stdout",
     "output_type": "stream",
     "text": [
      "{'Name': 'Rutuja', 'Age': 22, 'Grade': 'A', 'Marks': 89, 'Profesion': 'Pharmacist'}\n"
     ]
    }
   ],
   "source": [
    "#function for information\n",
    "def student_info(name, age, grade, marks, profesion):\n",
    "    student = {\"Name\": name,\"Age\": age,\"Grade\": grade, \"Marks\": marks, \"Profesion\": profesion}\n",
    "    return student\n",
    "info = student_info(\"Rutuja\", 22, \"A\", 89, \"Pharmacist\")\n",
    "print(info)"
   ]
  },
  {
   "cell_type": "code",
   "execution_count": 14,
   "id": "87aa7dd8-71d8-4a40-8bc7-2fd135ad3ddd",
   "metadata": {},
   "outputs": [
    {
     "name": "stdout",
     "output_type": "stream",
     "text": [
      "Max of 67, 78, 56: 78\n"
     ]
    }
   ],
   "source": [
    "#find maximum number \n",
    "def find_max(a, b, c):\n",
    "    return max(a, b, c)\n",
    "print(\"Max of 67, 78, 56:\", find_max(67, 78, 56))"
   ]
  },
  {
   "cell_type": "code",
   "execution_count": 18,
   "id": "e7d5537c-cd3a-467c-a8e7-8a8acb2864b4",
   "metadata": {},
   "outputs": [
    {
     "name": "stdout",
     "output_type": "stream",
     "text": [
      "Simple Interest: 720.0\n"
     ]
    }
   ],
   "source": [
    "#Function to Calculate Simple Interest\n",
    "def simple_interest(principal, rate, time):\n",
    "    return(principal*rate*time) / 100\n",
    "print(\"Simple Interest:\", simple_interest(1000, 9, 8))"
   ]
  },
  {
   "cell_type": "code",
   "execution_count": 21,
   "id": "cbbc2dc7-ab6a-4453-a885-83946c7bb357",
   "metadata": {},
   "outputs": [
    {
     "name": "stdout",
     "output_type": "stream",
     "text": [
      "34°C in Fahrenheit: 93.2\n"
     ]
    }
   ],
   "source": [
    "# Function to Convert Celsius to Fahrenheit\n",
    "def celsius_to_fahrenheit(c):\n",
    "    return (c*9/5) + 32\n",
    "print(\"34°C in Fahrenheit:\", celsius_to_fahrenheit(34))"
   ]
  },
  {
   "cell_type": "code",
   "execution_count": 24,
   "id": "ae061c8f-139c-4360-9551-d2c02e124d68",
   "metadata": {},
   "outputs": [
    {
     "name": "stdout",
     "output_type": "stream",
     "text": [
      "Area of circle with radius 3: 28.26\n"
     ]
    }
   ],
   "source": [
    "#Function to Calculate Area of a Circle\n",
    "def area_of_circle(radius):\n",
    "    pi=3.14\n",
    "    return pi*radius**2\n",
    "print(\"Area of circle with radius 3:\", area_of_circle(3))"
   ]
  },
  {
   "cell_type": "code",
   "execution_count": 31,
   "id": "46451358-535a-4d13-9a71-94483b2d598c",
   "metadata": {},
   "outputs": [
    {
     "name": "stdout",
     "output_type": "stream",
     "text": [
      "GCD of 45 and 90: 45\n"
     ]
    }
   ],
   "source": [
    "#Function to Find the GCD (Greatest Common Divisor)\n",
    "def gcd(a, b):\n",
    "    while(b!=0):\n",
    "        a,b=b,a%b\n",
    "    return a\n",
    "print(\"GCD of 45 and 90:\", gcd(45, 90))"
   ]
  },
  {
   "cell_type": "code",
   "execution_count": 33,
   "id": "e87aff60-a6bc-426b-9119-38c46e8621d0",
   "metadata": {},
   "outputs": [
    {
     "name": "stdout",
     "output_type": "stream",
     "text": [
      "Rutuja Ajay Khose\n"
     ]
    }
   ],
   "source": [
    "#Function to Capitalize Each Word in a Sentence\n",
    "def capitalize_words(sentence):\n",
    "    return sentence.title()\n",
    "print(capitalize_words(\"rutuja ajay khose\"))"
   ]
  },
  {
   "cell_type": "code",
   "execution_count": 34,
   "id": "7764e2b8-f644-484c-85c7-604b0a9b8db6",
   "metadata": {},
   "outputs": [
    {
     "name": "stdout",
     "output_type": "stream",
     "text": [
      "Merged Dictionary: {'a': 1, 'b': 2, 'c': 3, 'd': 4}\n"
     ]
    }
   ],
   "source": [
    "#Function to Merge Two Dictionaries\n",
    "def merge_dicts(dict1, dict2):\n",
    "    merged=dict1.copy()\n",
    "    merged.update(dict2)\n",
    "    return merged\n",
    "d1={\"a\": 1, \"b\": 2}\n",
    "d2={\"c\": 3, \"d\": 4}\n",
    "print(\"Merged Dictionary:\", merge_dicts(d1, d2))"
   ]
  },
  {
   "cell_type": "code",
   "execution_count": 36,
   "id": "c3e01f11-8941-4a42-87d8-629f8b016170",
   "metadata": {},
   "outputs": [
    {
     "name": "stdout",
     "output_type": "stream",
     "text": [
      "Original list: [1, 2, 2, 3, 4, 4, 5, 6, 6, 6, 7, 7, 9, 9, 9]\n",
      "List after removing duplicates: [1, 2, 3, 4, 5, 6, 7, 9]\n"
     ]
    }
   ],
   "source": [
    "#Function to Remove Duplicates from a List\n",
    "def remove_duplicates(items):\n",
    "    return list(set(items))\n",
    "numbers=[1, 2, 2, 3, 4, 4, 5, 6, 6, 6, 7, 7, 9, 9, 9]\n",
    "print(\"Original list:\", numbers)\n",
    "print(\"List after removing duplicates:\", remove_duplicates(numbers))"
   ]
  },
  {
   "cell_type": "code",
   "execution_count": null,
   "id": "a187ce98-1907-4eeb-8efc-00040d295c21",
   "metadata": {},
   "outputs": [],
   "source": []
  }
 ],
 "metadata": {
  "kernelspec": {
   "display_name": "Python 3 (ipykernel)",
   "language": "python",
   "name": "python3"
  },
  "language_info": {
   "codemirror_mode": {
    "name": "ipython",
    "version": 3
   },
   "file_extension": ".py",
   "mimetype": "text/x-python",
   "name": "python",
   "nbconvert_exporter": "python",
   "pygments_lexer": "ipython3",
   "version": "3.13.5"
  }
 },
 "nbformat": 4,
 "nbformat_minor": 5
}
