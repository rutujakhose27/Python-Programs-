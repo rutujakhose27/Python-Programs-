{
 "cells": [
  {
   "cell_type": "code",
   "execution_count": 4,
   "id": "0219d4c2-6758-47d6-8a38-38fa950045ab",
   "metadata": {},
   "outputs": [
    {
     "name": "stdout",
     "output_type": "stream",
     "text": [
      "Area of triangle: 14.696938456699069\n"
     ]
    }
   ],
   "source": [
    "#Area of a Triangle using Heron’s Formula\n",
    "\n",
    "a = 5\n",
    "b = 6\n",
    "c = 7\n",
    "s = (a + b + c) / 2\n",
    "area = (s*(s-a)*(s-b)*(s-c)) ** 0.5\n",
    "print(\"Area of triangle:\", area)"
   ]
  },
  {
   "cell_type": "code",
   "execution_count": 8,
   "id": "12afc3e3-e563-4510-89f0-f430bdb29ba9",
   "metadata": {},
   "outputs": [
    {
     "name": "stdout",
     "output_type": "stream",
     "text": [
      "Not a Triangular Number\n"
     ]
    }
   ],
   "source": [
    "#Check Whether a Number is Triangular or Not\n",
    "\n",
    "num = 18\n",
    "i = 1\n",
    "sum = 0\n",
    "while sum < num:\n",
    "    sum += i\n",
    "    i += 1\n",
    "print(\"Triangular Number\" if sum == num else \"Not a Triangular Number\")"
   ]
  },
  {
   "cell_type": "code",
   "execution_count": 10,
   "id": "f380b3ef-7ae4-4da4-98a1-f52b67bb2e04",
   "metadata": {},
   "outputs": [
    {
     "name": "stdout",
     "output_type": "stream",
     "text": [
      "Temperature in Kelvin: 318.15\n"
     ]
    }
   ],
   "source": [
    "#Convert Temperature from Celsius to Kelvin\n",
    "\n",
    "celsius = 45\n",
    "kelvin = celsius + 273.15\n",
    "print(\"Temperature in Kelvin:\", kelvin)"
   ]
  },
  {
   "cell_type": "code",
   "execution_count": 12,
   "id": "1b8c959f-698a-4923-9a78-cb9e5140a2c2",
   "metadata": {},
   "outputs": [
    {
     "name": "stdout",
     "output_type": "stream",
     "text": [
      "Speed: 88.0 km/hr\n"
     ]
    }
   ],
   "source": [
    "#Speed = Distance ÷ Time\n",
    "\n",
    "distance = 176  # km\n",
    "time = 2  # hrs\n",
    "speed = distance / time\n",
    "print(\"Speed:\", speed, \"km/hr\")"
   ]
  },
  {
   "cell_type": "code",
   "execution_count": 15,
   "id": "cb07bfe0-8cf4-4b24-9a5f-9e5f5926a0b0",
   "metadata": {},
   "outputs": [
    {
     "name": "stdout",
     "output_type": "stream",
     "text": [
      "Total Resistance in Series: 21 ohms\n"
     ]
    }
   ],
   "source": [
    "#Electric Circuit – Total Resistance in Series\n",
    "\n",
    "R1 = 4\n",
    "R2 = 7\n",
    "R3 = 10\n",
    "total = R1 + R2 + R3\n",
    "print(\"Total Resistance in Series:\", total, \"ohms\")"
   ]
  },
  {
   "cell_type": "code",
   "execution_count": 19,
   "id": "355862f2-ff92-4cb0-a64f-3fc11d432d66",
   "metadata": {},
   "outputs": [
    {
     "name": "stdout",
     "output_type": "stream",
     "text": [
      "Odd number\n"
     ]
    }
   ],
   "source": [
    "#Simple Logical Puzzle (Even or Odd)\n",
    "\n",
    "num = 19\n",
    "if num % 2 == 0:\n",
    "    print(\"Even number\")\n",
    "else:\n",
    "    print(\"Odd number\")"
   ]
  },
  {
   "cell_type": "code",
   "execution_count": 22,
   "id": "52740b23-be82-41dc-8677-d49fadced582",
   "metadata": {},
   "outputs": [
    {
     "name": "stdout",
     "output_type": "stream",
     "text": [
      "Attendance Percentage: 73.5\n"
     ]
    }
   ],
   "source": [
    "# Class Attendance Percentage Calculator\n",
    "\n",
    "total_days = 200\n",
    "present_days = 147\n",
    "percentage = (present_days / total_days) * 100\n",
    "print(\"Attendance Percentage:\", percentage)"
   ]
  },
  {
   "cell_type": "code",
   "execution_count": 24,
   "id": "eda0a135-5566-445e-85bf-97595a7b7954",
   "metadata": {},
   "outputs": [
    {
     "name": "stdout",
     "output_type": "stream",
     "text": [
      "Unhealthy\n"
     ]
    }
   ],
   "source": [
    "#Basic Air Pollution Index Checker\n",
    "\n",
    "aqi = 133\n",
    "if aqi <= 50:\n",
    "    print(\"Good\")\n",
    "elif aqi <= 100:\n",
    "    print(\"Moderate\")\n",
    "elif aqi <= 200:\n",
    "    print(\"Unhealthy\")\n",
    "else:\n",
    "    print(\"Very Unhealthy\")"
   ]
  },
  {
   "cell_type": "code",
   "execution_count": 26,
   "id": "bd9fc82a-f98d-4b85-8155-623c360962de",
   "metadata": {},
   "outputs": [
    {
     "name": "stdout",
     "output_type": "stream",
     "text": [
      "Energy consumed: 500 Wh\n"
     ]
    }
   ],
   "source": [
    "#Energy = Power × Time\n",
    "\n",
    "power = 100  # watts\n",
    "time = 5  # hours\n",
    "energy = power * time\n",
    "print(\"Energy consumed:\", energy, \"Wh\")"
   ]
  },
  {
   "cell_type": "code",
   "execution_count": 29,
   "id": "e73ce5a7-2b90-4faa-a729-61a014e8a83f",
   "metadata": {},
   "outputs": [
    {
     "name": "stdout",
     "output_type": "stream",
     "text": [
      "Density: 7.4 g/cm^3\n"
     ]
    }
   ],
   "source": [
    "#Calculate Density (Density = Mass / Volume)\n",
    "\n",
    "mass = 74  # in grams\n",
    "volume = 10  # in cm^3\n",
    "density = mass / volume\n",
    "print(\"Density:\", density, \"g/cm^3\")"
   ]
  },
  {
   "cell_type": "code",
   "execution_count": null,
   "id": "9a601049-fa04-4999-82f2-cea672c9639f",
   "metadata": {},
   "outputs": [],
   "source": []
  }
 ],
 "metadata": {
  "kernelspec": {
   "display_name": "Python 3 (ipykernel)",
   "language": "python",
   "name": "python3"
  },
  "language_info": {
   "codemirror_mode": {
    "name": "ipython",
    "version": 3
   },
   "file_extension": ".py",
   "mimetype": "text/x-python",
   "name": "python",
   "nbconvert_exporter": "python",
   "pygments_lexer": "ipython3",
   "version": "3.13.5"
  }
 },
 "nbformat": 4,
 "nbformat_minor": 5
}
