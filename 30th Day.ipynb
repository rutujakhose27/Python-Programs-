{
 "cells": [
  {
   "cell_type": "code",
   "execution_count": 2,
   "id": "70ae1bc1-4b29-4606-86eb-b723a7b0f15a",
   "metadata": {},
   "outputs": [
    {
     "name": "stdin",
     "output_type": "stream",
     "text": [
      "Transfer from account (A/B):  a\n",
      "Enter transfer amount:  44\n"
     ]
    },
    {
     "name": "stdout",
     "output_type": "stream",
     "text": [
      "Transfer successful!\n",
      "{'A': 4956.0, 'B': 3044.0}\n"
     ]
    }
   ],
   "source": [
    "#Multiple Account Transfers\n",
    "\n",
    "accounts = {\"A\": 5000, \"B\": 3000}\n",
    "\n",
    "from_acc = input(\"Transfer from account (A/B): \").upper()\n",
    "to_acc = \"A\" if from_acc == \"B\" else \"B\"\n",
    "amount = float(input(\"Enter transfer amount: \"))\n",
    "\n",
    "if amount <= accounts[from_acc]:\n",
    "    accounts[from_acc] -= amount\n",
    "    accounts[to_acc] += amount\n",
    "    print(\"Transfer successful!\")\n",
    "else:\n",
    "    print(\"Insufficient balance.\")\n",
    "\n",
    "print(accounts)"
   ]
  },
  {
   "cell_type": "code",
   "execution_count": 4,
   "id": "0ab3a171-4351-4423-b94f-a9d11effdbb7",
   "metadata": {},
   "outputs": [
    {
     "name": "stdin",
     "output_type": "stream",
     "text": [
      "Enter savings account balance:  300000\n",
      "Enter annual interest rate (%):  2\n"
     ]
    },
    {
     "name": "stdout",
     "output_type": "stream",
     "text": [
      "Daily interest credited: ₹16.438356164383563\n"
     ]
    }
   ],
   "source": [
    "#Daily Interest Credit on Savings\n",
    "\n",
    "balance = float(input(\"Enter savings account balance: \"))\n",
    "rate = float(input(\"Enter annual interest rate (%): \"))\n",
    "\n",
    "daily_interest = balance * (rate / 100) / 365\n",
    "print(f\"Daily interest credited: ₹{daily_interest}\")"
   ]
  },
  {
   "cell_type": "code",
   "execution_count": 7,
   "id": "2e97ed45-3c0b-40cd-a856-c29df63c0912",
   "metadata": {},
   "outputs": [
    {
     "name": "stdin",
     "output_type": "stream",
     "text": [
      "Enter monthly deposit:  2000\n",
      "Enter annual interest rate (%):  7\n",
      "Enter deposit period in months:  60\n"
     ]
    },
    {
     "name": "stdout",
     "output_type": "stream",
     "text": [
      "Maturity amount: ₹141350.00\n"
     ]
    }
   ],
   "source": [
    "#Recurring Deposit Maturity Calculator\n",
    "\n",
    "monthly_deposit = float(input(\"Enter monthly deposit: \"))\n",
    "rate = float(input(\"Enter annual interest rate (%): \"))\n",
    "months = int(input(\"Enter deposit period in months: \"))\n",
    "\n",
    "maturity_amount = monthly_deposit * months + (monthly_deposit * months * rate / 100 * (months + 1) / (2 * 12))\n",
    "print(f\"Maturity amount: ₹{maturity_amount:.2f}\")"
   ]
  },
  {
   "cell_type": "code",
   "execution_count": 11,
   "id": "6e96482e-7be6-49bb-87c4-c10b1fd8fc0e",
   "metadata": {},
   "outputs": [
    {
     "name": "stdin",
     "output_type": "stream",
     "text": [
      "Enter due date (day of month):  2\n",
      "Enter payment date (day of month):  8\n"
     ]
    },
    {
     "name": "stdout",
     "output_type": "stream",
     "text": [
      "Late payment! Fee applied: ₹500\n"
     ]
    }
   ],
   "source": [
    "#Credit Card Late Fee\n",
    "\n",
    "due_date = int(input(\"Enter due date (day of month): \"))\n",
    "payment_date = int(input(\"Enter payment date (day of month): \"))\n",
    "late_fee = 500\n",
    "\n",
    "if payment_date > due_date:\n",
    "    print(f\"Late payment! Fee applied: ₹{late_fee}\")\n",
    "else:\n",
    "    print(\"Payment on time! No fee applied.\")"
   ]
  },
  {
   "cell_type": "code",
   "execution_count": 15,
   "id": "87f8ebb6-14b6-4da4-a7a2-5dfbeca76936",
   "metadata": {},
   "outputs": [
    {
     "name": "stdin",
     "output_type": "stream",
     "text": [
      "Enter number of years:  2\n"
     ]
    },
    {
     "name": "stdout",
     "output_type": "stream",
     "text": [
      "Total locker rent: ₹600\n"
     ]
    }
   ],
   "source": [
    "#Bank Locker Rent Calculator\n",
    "\n",
    "rent_per_year = 300\n",
    "years = int(input(\"Enter number of years: \"))\n",
    "total_rent = rent_per_year * years\n",
    "print(f\"Total locker rent: ₹{total_rent}\")"
   ]
  },
  {
   "cell_type": "code",
   "execution_count": 19,
   "id": "8965c552-2d16-486f-a504-7b49a55af221",
   "metadata": {},
   "outputs": [
    {
     "name": "stdin",
     "output_type": "stream",
     "text": [
      "Enter 'add', 'pay', or 'exit':  add\n",
      "Enter amount to add:  90\n"
     ]
    },
    {
     "name": "stdout",
     "output_type": "stream",
     "text": [
      "Current Wallet Balance: ₹1590.0\n"
     ]
    },
    {
     "name": "stdin",
     "output_type": "stream",
     "text": [
      "Enter 'add', 'pay', or 'exit':  pay\n",
      "Enter amount to pay:  20\n"
     ]
    },
    {
     "name": "stdout",
     "output_type": "stream",
     "text": [
      "Current Wallet Balance: ₹1570.0\n"
     ]
    },
    {
     "name": "stdin",
     "output_type": "stream",
     "text": [
      "Enter 'add', 'pay', or 'exit':  exit\n"
     ]
    }
   ],
   "source": [
    "#Digital Wallet Balance\n",
    "\n",
    "wallet_balance = 1500\n",
    "while True:\n",
    "    choice = input(\"Enter 'add', 'pay', or 'exit': \").lower()\n",
    "    if choice == \"add\":\n",
    "        amount = float(input(\"Enter amount to add: \"))\n",
    "        wallet_balance += amount\n",
    "    elif choice == \"pay\":\n",
    "        amount = float(input(\"Enter amount to pay: \"))\n",
    "        if amount <= wallet_balance:\n",
    "            wallet_balance -= amount\n",
    "        else:\n",
    "            print(\"Insufficient balance!\")\n",
    "    elif choice == \"exit\":\n",
    "        break\n",
    "    print(f\"Current Wallet Balance: ₹{wallet_balance}\")"
   ]
  },
  {
   "cell_type": "code",
   "execution_count": 22,
   "id": "98357766-ccdd-4a25-8895-0c9d512d7dcf",
   "metadata": {},
   "outputs": [
    {
     "name": "stdin",
     "output_type": "stream",
     "text": [
      "Enter withdrawal amount:  2300\n"
     ]
    },
    {
     "name": "stdout",
     "output_type": "stream",
     "text": [
      "Withdrawal successful! New balance: ₹-300.0\n"
     ]
    }
   ],
   "source": [
    "#Overdraft Facility\n",
    "\n",
    "balance = 2000\n",
    "overdraft_limit = 5000\n",
    "withdraw_amount = float(input(\"Enter withdrawal amount: \"))\n",
    "\n",
    "if withdraw_amount <= balance + overdraft_limit:\n",
    "    balance -= withdraw_amount\n",
    "    print(f\"Withdrawal successful! New balance: ₹{balance}\")\n",
    "else:\n",
    "    print(\"Overdraft limit exceeded!\")"
   ]
  },
  {
   "cell_type": "code",
   "execution_count": 26,
   "id": "8c0d29d4-1e54-4926-a6f4-098bf43bb317",
   "metadata": {},
   "outputs": [
    {
     "name": "stdin",
     "output_type": "stream",
     "text": [
      "Enter transaction amount:  500\n"
     ]
    },
    {
     "name": "stdout",
     "output_type": "stream",
     "text": [
      "Service tax applied: ₹2.50\n",
      "Total amount debited: ₹502.5\n"
     ]
    }
   ],
   "source": [
    "#Bank Service Tax\n",
    "\n",
    "transaction_amount = float(input(\"Enter transaction amount: \"))\n",
    "tax_rate = 0.5  # percentage\n",
    "\n",
    "tax = (transaction_amount * tax_rate) / 100\n",
    "print(f\"Service tax applied: ₹{tax:.2f}\")\n",
    "print(f\"Total amount debited: ₹{transaction_amount + tax}\")"
   ]
  },
  {
   "cell_type": "code",
   "execution_count": 28,
   "id": "cd1d152c-d9d4-4fe8-b604-a69ccc6f5a76",
   "metadata": {},
   "outputs": [
    {
     "name": "stdin",
     "output_type": "stream",
     "text": [
      "Enter gold weight in grams:  10\n",
      "Enter gold rate per gram:  9100\n"
     ]
    },
    {
     "name": "stdout",
     "output_type": "stream",
     "text": [
      "Maximum loan you can get: ₹68250.0\n"
     ]
    }
   ],
   "source": [
    "#Gold Loan Estimator\n",
    "\n",
    "gold_weight = float(input(\"Enter gold weight in grams: \"))\n",
    "rate_per_gram = float(input(\"Enter gold rate per gram: \"))\n",
    "loan_percentage = 75  # bank offers 75% of gold value\n",
    "\n",
    "gold_value = gold_weight * rate_per_gram\n",
    "loan_amount = gold_value * loan_percentage / 100\n",
    "print(f\"Maximum loan you can get: ₹{loan_amount}\")"
   ]
  },
  {
   "cell_type": "code",
   "execution_count": 31,
   "id": "00fda5f6-f9af-4fe6-b5f6-4a06c5f3dfbb",
   "metadata": {},
   "outputs": [
    {
     "name": "stdout",
     "output_type": "stream",
     "text": [
      "Savings Account: Interest ₹200.0, New Balance ₹5200.0\n",
      "Current Account: Interest ₹400.0, New Balance ₹20400.0\n"
     ]
    }
   ],
   "source": [
    "#Multiple Account Interest Credit\n",
    "\n",
    "accounts = {\"Savings\": 5000,\"Current\": 20000}\n",
    "interest_rates = {\"Savings\": 4,\"Current\": 2}\n",
    "\n",
    "for acc, bal in accounts.items():\n",
    "    interest = bal * interest_rates[acc] / 100\n",
    "    accounts[acc] += interest\n",
    "    print(f\"{acc} Account: Interest ₹{interest}, New Balance ₹{accounts[acc]}\")"
   ]
  },
  {
   "cell_type": "code",
   "execution_count": null,
   "id": "961af8e0-f49b-4e1d-94da-485b4ffd8de9",
   "metadata": {},
   "outputs": [],
   "source": []
  }
 ],
 "metadata": {
  "kernelspec": {
   "display_name": "Python 3 (ipykernel)",
   "language": "python",
   "name": "python3"
  },
  "language_info": {
   "codemirror_mode": {
    "name": "ipython",
    "version": 3
   },
   "file_extension": ".py",
   "mimetype": "text/x-python",
   "name": "python",
   "nbconvert_exporter": "python",
   "pygments_lexer": "ipython3",
   "version": "3.13.5"
  }
 },
 "nbformat": 4,
 "nbformat_minor": 5
}
