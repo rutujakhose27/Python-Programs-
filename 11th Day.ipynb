{
 "cells": [
  {
   "cell_type": "code",
   "execution_count": 2,
   "id": "4636bd6a-917b-4f1f-bcc6-52d026b31dc2",
   "metadata": {},
   "outputs": [
    {
     "name": "stdin",
     "output_type": "stream",
     "text": [
      "Enter a sentence:  My name is Rutuja Khose.I am 22 years Old.\n"
     ]
    },
    {
     "name": "stdout",
     "output_type": "stream",
     "text": [
      "Not all words begin with a capital letter.\n"
     ]
    }
   ],
   "source": [
    "#Write a program to check if each word in a string begins with a capital letter?\n",
    "\n",
    "def check_capitalized_words(sentence):\n",
    "    words = sentence.split()\n",
    "    for word in words:\n",
    "        if not word[0].isupper():\n",
    "            return False\n",
    "    return True\n",
    "\n",
    "input_string = input(\"Enter a sentence: \")\n",
    "if check_capitalized_words(input_string):\n",
    "    print(\"Each word in the string begins with a capital letter.\")\n",
    "else:\n",
    "    print(\"Not all words begin with a capital letter.\")"
   ]
  },
  {
   "cell_type": "code",
   "execution_count": 3,
   "id": "ff76906e-7123-4b1e-9c75-673ee4e816fc",
   "metadata": {},
   "outputs": [
    {
     "name": "stdin",
     "output_type": "stream",
     "text": [
      "Enter the main string:  Hello, Welcome!\n",
      "Enter the substring to search:  Rutuja\n"
     ]
    },
    {
     "name": "stdout",
     "output_type": "stream",
     "text": [
      "The string does NOT contain the substring 'Rutuja'.\n"
     ]
    }
   ],
   "source": [
    "#Write a program to Check if a string contains a specific substring\n",
    "\n",
    "def contains_substring(main_string, sub_string):\n",
    "    return sub_string in main_string\n",
    "main = input(\"Enter the main string: \")\n",
    "sub = input(\"Enter the substring to search: \")\n",
    "\n",
    "if contains_substring(main, sub):\n",
    "    print(f\"The string contains the substring '{sub}'.\")\n",
    "else:\n",
    "    print(f\"The string does NOT contain the substring '{sub}'.\")"
   ]
  },
  {
   "cell_type": "code",
   "execution_count": 4,
   "id": "ab846266-221a-454b-907a-c158a5cb5cb0",
   "metadata": {},
   "outputs": [
    {
     "name": "stdin",
     "output_type": "stream",
     "text": [
      "Enter a string:  rutuja khose\n"
     ]
    },
    {
     "name": "stdout",
     "output_type": "stream",
     "text": [
      "Result: Rutuja khose\n"
     ]
    }
   ],
   "source": [
    "#Capitalize the first character of a string\n",
    "\n",
    "def capitalize_first_char(text):\n",
    "    if not text:\n",
    "        return text\n",
    "    return text[0].upper() + text[1:]\n",
    "\n",
    "input_string = input(\"Enter a string: \")\n",
    "result = capitalize_first_char(input_string)\n",
    "print(\"Result:\", result)"
   ]
  },
  {
   "cell_type": "code",
   "execution_count": 6,
   "id": "d206a407-224b-47cb-ba91-21c4da2915aa",
   "metadata": {},
   "outputs": [
    {
     "name": "stdout",
     "output_type": "stream",
     "text": [
      "Reversed string: esohK ajutuR\n"
     ]
    }
   ],
   "source": [
    "#Reverse the string “hello world”\n",
    "def reverse_string(s):\n",
    "    return s[::-1]\n",
    "input_string = \"Rutuja Khose\"\n",
    "reversed_string = reverse_string(input_string)\n",
    "print(\"Reversed string:\", reversed_string)"
   ]
  },
  {
   "cell_type": "code",
   "execution_count": 7,
   "id": "630259c7-be85-4a92-8628-8459294da760",
   "metadata": {},
   "outputs": [
    {
     "name": "stdin",
     "output_type": "stream",
     "text": [
      "Enter a string:  rutuja khose\n"
     ]
    },
    {
     "name": "stdout",
     "output_type": "stream",
     "text": [
      "String without vowels: rtj khs\n"
     ]
    }
   ],
   "source": [
    "#Remove vowels from a string\n",
    "\n",
    "def remove_vowels(text):\n",
    "    vowels = 'aeiouAEIOU'\n",
    "    result = ''\n",
    "    for char in text:\n",
    "        if char not in vowels:\n",
    "            result += char\n",
    "    return result\n",
    "\n",
    "input_string = input(\"Enter a string: \")\n",
    "output_string = remove_vowels(input_string)\n",
    "print(\"String without vowels:\", output_string)"
   ]
  },
  {
   "cell_type": "code",
   "execution_count": 8,
   "id": "0d95c86d-af0e-46c1-aca8-b90551e5c85a",
   "metadata": {},
   "outputs": [
    {
     "name": "stdin",
     "output_type": "stream",
     "text": [
      "Enter a string:  Rutuja\n"
     ]
    },
    {
     "name": "stdout",
     "output_type": "stream",
     "text": [
      "Characters in the string:\n",
      "R\n",
      "u\n",
      "t\n",
      "u\n",
      "j\n",
      "a\n"
     ]
    }
   ],
   "source": [
    "#Iterate through a string Using for Loop.\n",
    "\n",
    "input_string = input(\"Enter a string: \")\n",
    "\n",
    "print(\"Characters in the string:\")\n",
    "for char in input_string:\n",
    "    print(char)"
   ]
  },
  {
   "cell_type": "code",
   "execution_count": 9,
   "id": "52fdc7cc-d5a7-4943-8349-35405f8ee52e",
   "metadata": {},
   "outputs": [
    {
     "name": "stdin",
     "output_type": "stream",
     "text": [
      "Enter a string:  Rutuja\n"
     ]
    },
    {
     "name": "stdout",
     "output_type": "stream",
     "text": [
      "Characters in the string: ['R', 'u', 't', 'u', 'j', 'a']\n"
     ]
    }
   ],
   "source": [
    "#Iterate through a string Using List Comprehension\n",
    "\n",
    "input_string = input(\"Enter a string: \")\n",
    "\n",
    "characters = [char for char in input_string]\n",
    "print(\"Characters in the string:\", characters)"
   ]
  },
  {
   "cell_type": "code",
   "execution_count": 11,
   "id": "72a82d3a-57e4-4fd4-b712-a789fa3d643c",
   "metadata": {},
   "outputs": [
    {
     "name": "stdout",
     "output_type": "stream",
     "text": [
      "Original Matrix:\n",
      "[1, 2, 3, 4, 5]\n",
      "[6, 7, 8, 9, 10]\n",
      "\n",
      "Transposed Matrix:\n",
      "[1, 6]\n",
      "[2, 7]\n",
      "[3, 8]\n",
      "[4, 9]\n",
      "[5, 10]\n"
     ]
    }
   ],
   "source": [
    "#Transpose of Matrix using Nested Loops\n",
    "\n",
    "def transpose_matrix(matrix):\n",
    "    rows = len(matrix)\n",
    "    cols = len(matrix[0])\n",
    "    \n",
    "    \n",
    "    transposed = [[0 for _ in range(rows)] for _ in range(cols)]\n",
    "    \n",
    "    \n",
    "    for i in range(rows):\n",
    "        for j in range(cols):\n",
    "            transposed[j][i] = matrix[i][j]\n",
    "    \n",
    "    return transposed\n",
    "\n",
    "matrix = [[1, 2, 3, 4, 5],[6, 7, 8, 9, 10]]\n",
    "\n",
    "print(\"Original Matrix:\")\n",
    "for row in matrix:\n",
    "    print(row)\n",
    "\n",
    "transposed_matrix = transpose_matrix(matrix)\n",
    "\n",
    "print(\"\\nTransposed Matrix:\")\n",
    "for row in transposed_matrix:\n",
    "    print(row)"
   ]
  },
  {
   "cell_type": "code",
   "execution_count": 13,
   "id": "e6b31d2a-b282-4d14-8112-e1a674323a46",
   "metadata": {},
   "outputs": [
    {
     "name": "stdin",
     "output_type": "stream",
     "text": [
      "Enter a number:  9\n"
     ]
    },
    {
     "name": "stdout",
     "output_type": "stream",
     "text": [
      "9 is NOT divisible by 7.\n"
     ]
    }
   ],
   "source": [
    "#Write a program to check whether a number is divisible by 7 or not.\n",
    "\n",
    "def is_divisible_by_7(number):\n",
    "    return number % 7 == 0\n",
    "\n",
    "num = int(input(\"Enter a number: \"))\n",
    "\n",
    "if is_divisible_by_7(num):\n",
    "    print(f\"{num} is divisible by 7.\")\n",
    "else:\n",
    "    print(f\"{num} is NOT divisible by 7.\")"
   ]
  },
  {
   "cell_type": "code",
   "execution_count": 15,
   "id": "0312d642-b4b7-4a66-924f-ae933930bc6b",
   "metadata": {},
   "outputs": [
    {
     "name": "stdin",
     "output_type": "stream",
     "text": [
      "Enter the number of units consumed:  300\n"
     ]
    },
    {
     "name": "stdout",
     "output_type": "stream",
     "text": [
      "Total electricity bill: Rs 1500\n"
     ]
    }
   ],
   "source": [
    "#Write a program to calculate the electricity bill (accept number of unit from user) according to the following criteria : Unit Price First \n",
    "#100 units no charge Next 100 units Rs 5 per unit After 200 units Rs 10 per unit (For example if input unit is 350 than total bill amount is Rs2000)\n",
    "\n",
    "def calculate_electricity_bill(units):\n",
    "    if units <= 100:\n",
    "        bill = 0\n",
    "    elif units <= 200:\n",
    "        bill = (units - 100) * 5\n",
    "    else:\n",
    "        bill = (100 * 5) + (units - 200) * 10\n",
    "    return bill\n",
    "\n",
    "units = int(input(\"Enter the number of units consumed: \"))\n",
    "bill_amount = calculate_electricity_bill(units)\n",
    "\n",
    "print(f\"Total electricity bill: Rs {bill_amount}\")"
   ]
  },
  {
   "cell_type": "code",
   "execution_count": null,
   "id": "eb020ba9-12bd-4521-b2bb-feb1a38cba58",
   "metadata": {},
   "outputs": [],
   "source": []
  }
 ],
 "metadata": {
  "kernelspec": {
   "display_name": "Python 3 (ipykernel)",
   "language": "python",
   "name": "python3"
  },
  "language_info": {
   "codemirror_mode": {
    "name": "ipython",
    "version": 3
   },
   "file_extension": ".py",
   "mimetype": "text/x-python",
   "name": "python",
   "nbconvert_exporter": "python",
   "pygments_lexer": "ipython3",
   "version": "3.13.5"
  }
 },
 "nbformat": 4,
 "nbformat_minor": 5
}
