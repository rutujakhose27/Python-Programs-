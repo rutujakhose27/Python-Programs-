{
 "cells": [
  {
   "cell_type": "code",
   "execution_count": 3,
   "id": "de3443b8-5724-4c9e-a5da-fe4a74899735",
   "metadata": {},
   "outputs": [
    {
     "name": "stdin",
     "output_type": "stream",
     "text": [
      "Enter initial savings balance:  10000000\n",
      "Enter annual interest rate (%):  7\n"
     ]
    },
    {
     "name": "stdout",
     "output_type": "stream",
     "text": [
      "Month 1: Interest ₹58333.33333333334, Balance ₹10058333.333333334\n",
      "Month 2: Interest ₹58673.611111111124, Balance ₹10117006.944444446\n",
      "Month 3: Interest ₹59015.873842592606, Balance ₹10176022.81828704\n",
      "Month 4: Interest ₹59360.133106674395, Balance ₹10235382.951393714\n",
      "Month 5: Interest ₹59706.40054979667, Balance ₹10295089.351943512\n",
      "Month 6: Interest ₹60054.68788633716, Balance ₹10355144.039829848\n",
      "Month 7: Interest ₹60405.00689900745, Balance ₹10415549.046728855\n",
      "Month 8: Interest ₹60757.36943925166, Balance ₹10476306.416168107\n",
      "Month 9: Interest ₹61111.787427647294, Balance ₹10537418.203595754\n",
      "Month 10: Interest ₹61468.27285430857, Balance ₹10598886.476450061\n",
      "Month 11: Interest ₹61826.83777929203, Balance ₹10660713.314229354\n",
      "Month 12: Interest ₹62187.49433300457, Balance ₹10722900.808562359\n"
     ]
    }
   ],
   "source": [
    "#Automatic Interest Credit Every Month\n",
    "\n",
    "balance = float(input(\"Enter initial savings balance: \"))\n",
    "rate = float(input(\"Enter annual interest rate (%): \"))\n",
    "\n",
    "for month in range(1, 13):\n",
    "    interest = balance * (rate / 100) / 12\n",
    "    balance += interest\n",
    "    print(f\"Month {month}: Interest ₹{interest}, Balance ₹{balance}\")"
   ]
  },
  {
   "cell_type": "code",
   "execution_count": 7,
   "id": "09e7f5db-6fd4-4925-808e-a5c2e1dce4ce",
   "metadata": {},
   "outputs": [
    {
     "name": "stdin",
     "output_type": "stream",
     "text": [
      "Enter account holder name:  Shruti\n",
      "Enter account number:  1234567890\n",
      "Enter deposit amount:  234567\n"
     ]
    },
    {
     "name": "stdout",
     "output_type": "stream",
     "text": [
      "\n",
      "--- Deposit Slip ---\n",
      "Name: Shruti\n",
      "Account No: 1234567890\n",
      "Amount Deposited: ₹234567.0\n",
      "Thank you for banking with us!\n"
     ]
    }
   ],
   "source": [
    "#Deposit Slip Generator\n",
    "\n",
    "name = input(\"Enter account holder name: \")\n",
    "acc_no = input(\"Enter account number: \")\n",
    "amount = float(input(\"Enter deposit amount: \"))\n",
    "\n",
    "print(\"\\n--- Deposit Slip ---\")\n",
    "print(f\"Name: {name}\")\n",
    "print(f\"Account No: {acc_no}\")\n",
    "print(f\"Amount Deposited: ₹{amount}\")\n",
    "print(\"Thank you for banking with us!\")"
   ]
  },
  {
   "cell_type": "code",
   "execution_count": 10,
   "id": "4aa3e3c7-29c5-4703-b7c3-da2b7b844752",
   "metadata": {},
   "outputs": [
    {
     "name": "stdin",
     "output_type": "stream",
     "text": [
      "Enter deposit amount:  230000\n",
      "Enter term in years:  2\n"
     ]
    },
    {
     "name": "stdout",
     "output_type": "stream",
     "text": [
      "Maturity Amount with Bonus: ₹255575.0\n"
     ]
    }
   ],
   "source": [
    "#Bank Deposit Maturity with Bonus\n",
    "\n",
    "deposit = float(input(\"Enter deposit amount: \"))\n",
    "years = int(input(\"Enter term in years: \"))\n",
    "rate = 5\n",
    "\n",
    "maturity = deposit * (1 + rate/100)**years\n",
    "if deposit >= 100000:\n",
    "    maturity += 2000  # bonus\n",
    "print(f\"Maturity Amount with Bonus: ₹{maturity}\")"
   ]
  },
  {
   "cell_type": "code",
   "execution_count": 15,
   "id": "41040de6-2a58-41d3-b7cd-b3b57a5c6884",
   "metadata": {},
   "outputs": [
    {
     "name": "stdin",
     "output_type": "stream",
     "text": [
      "Enter transaction (+deposit, -withdrawal, stop to exit):  234567\n",
      "Enter transaction (+deposit, -withdrawal, stop to exit):  -123\n",
      "Enter transaction (+deposit, -withdrawal, stop to exit):  stop\n"
     ]
    },
    {
     "name": "stdout",
     "output_type": "stream",
     "text": [
      "\n",
      "--- Passbook ---\n",
      "1. Deposit ₹234567.0 | Balance: ₹234567.0\n",
      "2. Withdraw ₹123.0 | Balance: ₹234444.0\n"
     ]
    }
   ],
   "source": [
    "#Passbook Entry Generator\n",
    "\n",
    "transactions = []\n",
    "while True:\n",
    "    txn = input(\"Enter transaction (+deposit, -withdrawal, stop to exit): \")\n",
    "    if txn.lower() == \"stop\":\n",
    "        break\n",
    "    transactions.append(float(txn))\n",
    "\n",
    "print(\"\\n--- Passbook ---\")\n",
    "balance = 0\n",
    "for i, t in enumerate(transactions, start=1):\n",
    "    balance += t\n",
    "    print(f\"{i}. {'Deposit' if t>0 else 'Withdraw'} ₹{abs(t)} | Balance: ₹{balance}\")"
   ]
  },
  {
   "cell_type": "code",
   "execution_count": 18,
   "id": "5cbe0a90-9a79-447a-9932-1b05609870a7",
   "metadata": {},
   "outputs": [
    {
     "name": "stdin",
     "output_type": "stream",
     "text": [
      "Enter username:  1234\n",
      "Enter password:  1234\n"
     ]
    },
    {
     "name": "stdout",
     "output_type": "stream",
     "text": [
      "Invalid Login ❌\n"
     ]
    }
   ],
   "source": [
    "#Net Banking Login System\n",
    "\n",
    "username = \"user123\"\n",
    "password = \"bank@123\"\n",
    "\n",
    "u = input(\"Enter username: \")\n",
    "p = input(\"Enter password: \")\n",
    "\n",
    "if u == username and p == password:\n",
    "    print(\"Login Successful ✅\")\n",
    "else:\n",
    "    print(\"Invalid Login ❌\")"
   ]
  },
  {
   "cell_type": "code",
   "execution_count": 22,
   "id": "7ef25028-f10e-40c8-9bad-7cbd2bf444ce",
   "metadata": {},
   "outputs": [
    {
     "name": "stdin",
     "output_type": "stream",
     "text": [
      "Enter payee name:  Rutuja\n",
      "Enter amount:  230000\n"
     ]
    },
    {
     "name": "stdout",
     "output_type": "stream",
     "text": [
      "\n",
      "--- Cheque ---\n",
      "Pay: Rutuja\n",
      "Amount: ₹230000.0\n"
     ]
    }
   ],
   "source": [
    "#Cheque Printing Program\n",
    "\n",
    "name = input(\"Enter payee name: \")\n",
    "amount = float(input(\"Enter amount: \"))\n",
    "\n",
    "print(\"\\n--- Cheque ---\")\n",
    "print(f\"Pay: {name}\")\n",
    "print(f\"Amount: ₹{amount}\")"
   ]
  },
  {
   "cell_type": "code",
   "execution_count": 26,
   "id": "65e820c8-ef92-4833-b101-0edcd41e55fe",
   "metadata": {},
   "outputs": [
    {
     "name": "stdin",
     "output_type": "stream",
     "text": [
      "Enter withdrawal amount:  2500\n"
     ]
    },
    {
     "name": "stdout",
     "output_type": "stream",
     "text": [
      "2000 x 1\n",
      "500 x 1\n"
     ]
    }
   ],
   "source": [
    "#ATM Cash Dispense in Notes\n",
    "\n",
    "amount = int(input(\"Enter withdrawal amount: \"))\n",
    "notes = [2000, 500, 100]\n",
    "for note in notes:\n",
    "    count = amount // note\n",
    "    amount %= note\n",
    "    if count > 0:\n",
    "        print(f\"{note} x {count}\")"
   ]
  },
  {
   "cell_type": "code",
   "execution_count": 28,
   "id": "eac655be-7f27-4256-b59e-0f9bf6a14a83",
   "metadata": {},
   "outputs": [
    {
     "name": "stdin",
     "output_type": "stream",
     "text": [
      "Enter withdrawal amount:  1200\n",
      "Is this your home branch? (yes/no):  no\n"
     ]
    },
    {
     "name": "stdout",
     "output_type": "stream",
     "text": [
      "Fee Applied: ₹25\n",
      "Total Deducted: ₹1225.0\n"
     ]
    }
   ],
   "source": [
    "#ATM Withdrawal Fee for Non-Home Branch\n",
    "\n",
    "amount = float(input(\"Enter withdrawal amount: \"))\n",
    "home_branch = input(\"Is this your home branch? (yes/no): \").lower()\n",
    "\n",
    "fee = 0 if home_branch == \"yes\" else 25\n",
    "print(f\"Fee Applied: ₹{fee}\")\n",
    "print(f\"Total Deducted: ₹{amount + fee}\")"
   ]
  },
  {
   "cell_type": "code",
   "execution_count": 31,
   "id": "da3e01c2-743f-4ee4-81fd-9d96b76b5bc3",
   "metadata": {},
   "outputs": [
    {
     "name": "stdout",
     "output_type": "stream",
     "text": [
      "--- Mini Statement (Last 5) ---\n",
      "Deposit ₹ 1500\n",
      "Withdraw ₹ 1000\n",
      "Withdraw ₹ 200\n",
      "Deposit ₹ 2500\n",
      "Withdraw ₹ 800\n"
     ]
    }
   ],
   "source": [
    "#ATM Mini Statement (Last 5 Transactions)\n",
    "\n",
    "transactions = [2000, -500, 1500, -1000, -200, 2500, -800]\n",
    "print(\"--- Mini Statement (Last 5) ---\")\n",
    "for t in transactions[-5:]:\n",
    "    print(\"Deposit\" if t > 0 else \"Withdraw\", \"₹\", abs(t))"
   ]
  },
  {
   "cell_type": "code",
   "execution_count": 34,
   "id": "f2ec51a8-53a2-4ab3-b9b1-cfd077ed3637",
   "metadata": {},
   "outputs": [
    {
     "name": "stdin",
     "output_type": "stream",
     "text": [
      "Enter account type (savings/current):  saving\n"
     ]
    },
    {
     "name": "stdout",
     "output_type": "stream",
     "text": [
      "Invalid account type.\n"
     ]
    }
   ],
   "source": [
    "#Cheque Book Request System\n",
    "\n",
    "account_type = input(\"Enter account type (savings/current): \").lower()\n",
    "\n",
    "if account_type == \"savings\":\n",
    "    leaves = 25\n",
    "elif account_type == \"current\":\n",
    "    leaves = 50\n",
    "else:\n",
    "    leaves = 0\n",
    "\n",
    "if leaves:\n",
    "    print(f\"Cheque book with {leaves} leaves will be issued.\")\n",
    "else:\n",
    "    print(\"Invalid account type.\")"
   ]
  },
  {
   "cell_type": "code",
   "execution_count": null,
   "id": "403f4959-7650-4c4f-b0fe-a5b38fb28b2e",
   "metadata": {},
   "outputs": [],
   "source": []
  }
 ],
 "metadata": {
  "kernelspec": {
   "display_name": "Python 3 (ipykernel)",
   "language": "python",
   "name": "python3"
  },
  "language_info": {
   "codemirror_mode": {
    "name": "ipython",
    "version": 3
   },
   "file_extension": ".py",
   "mimetype": "text/x-python",
   "name": "python",
   "nbconvert_exporter": "python",
   "pygments_lexer": "ipython3",
   "version": "3.13.5"
  }
 },
 "nbformat": 4,
 "nbformat_minor": 5
}
