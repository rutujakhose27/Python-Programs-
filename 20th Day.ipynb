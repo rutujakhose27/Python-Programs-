{
 "cells": [
  {
   "cell_type": "code",
   "execution_count": 3,
   "id": "ade46d25-9eb9-4570-849c-eb1706e68664",
   "metadata": {},
   "outputs": [
    {
     "name": "stdout",
     "output_type": "stream",
     "text": [
      "Sentence Python is simple .\n"
     ]
    }
   ],
   "source": [
    "#Convert List of Words into a Sentence\n",
    "\n",
    "words = [\"Python\", \"is\", \"simple\", \".\"]\n",
    "sentence = \" \".join(words)\n",
    "print(\"Sentence\", sentence)"
   ]
  },
  {
   "cell_type": "code",
   "execution_count": 6,
   "id": "81768474-c91c-4e06-9fab-7a36e9937a0f",
   "metadata": {},
   "outputs": [
    {
     "name": "stdout",
     "output_type": "stream",
     "text": [
      "Digits [1, 2, 3, 4, 5, 6, 7, 8, 9]\n"
     ]
    }
   ],
   "source": [
    "#Extract Digits from a String\n",
    "\n",
    "text = \"A12B34C56D7E8F9\"\n",
    "digits = [int(ch) for ch in text if ch.isdigit()]\n",
    "print(\"Digits\", digits)"
   ]
  },
  {
   "cell_type": "code",
   "execution_count": 8,
   "id": "6505fd45-afb1-40dc-b9ad-108311e2e8a9",
   "metadata": {},
   "outputs": [
    {
     "name": "stdin",
     "output_type": "stream",
     "text": [
      "Enter text:  My Self Rutuja Khose.\n"
     ]
    },
    {
     "name": "stdout",
     "output_type": "stream",
     "text": [
      "Uppercase letters 4\n",
      "Lowercase letters 13\n"
     ]
    }
   ],
   "source": [
    "#Count Capital and Small Letters\n",
    "\n",
    "text = input(\"Enter text: \")\n",
    "upper = sum(1 for ch in text if ch.isupper())\n",
    "lower = sum(1 for ch in text if ch.islower())\n",
    "print(\"Uppercase letters\", upper)\n",
    "print(\"Lowercase letters\", lower)"
   ]
  },
  {
   "cell_type": "code",
   "execution_count": 11,
   "id": "9c78218f-7a0a-4c00-b9c5-c4b8bddc4dba",
   "metadata": {},
   "outputs": [
    {
     "name": "stdout",
     "output_type": "stream",
     "text": [
      "{1: 1, 2: 4, 3: 9, 4: 16, 5: 25, 6: 36, 7: 49, 8: 64, 9: 81, 10: 100, 11: 121, 12: 144, 13: 169, 14: 196, 15: 225, 16: 256, 17: 289, 18: 324, 19: 361, 20: 400, 21: 441, 22: 484, 23: 529, 24: 576, 25: 625, 26: 676, 27: 729, 28: 784, 29: 841, 30: 900, 31: 961, 32: 1024, 33: 1089, 34: 1156, 35: 1225, 36: 1296, 37: 1369, 38: 1444, 39: 1521, 40: 1600, 41: 1681, 42: 1764, 43: 1849, 44: 1936, 45: 2025, 46: 2116, 47: 2209, 48: 2304, 49: 2401, 50: 2500, 51: 2601, 52: 2704, 53: 2809, 54: 2916, 55: 3025, 56: 3136, 57: 3249, 58: 3364, 59: 3481, 60: 3600, 61: 3721, 62: 3844, 63: 3969, 64: 4096, 65: 4225, 66: 4356, 67: 4489, 68: 4624, 69: 4761, 70: 4900, 71: 5041, 72: 5184, 73: 5329, 74: 5476, 75: 5625, 76: 5776, 77: 5929, 78: 6084, 79: 6241, 80: 6400, 81: 6561, 82: 6724, 83: 6889, 84: 7056, 85: 7225, 86: 7396, 87: 7569, 88: 7744, 89: 7921, 90: 8100, 91: 8281, 92: 8464, 93: 8649, 94: 8836, 95: 9025, 96: 9216, 97: 9409, 98: 9604, 99: 9801, 100: 10000}\n"
     ]
    }
   ],
   "source": [
    "#Create a Dictionary of Squares (1 to 10)\n",
    "\n",
    "squares = {x: x**2 for x in range(1, 101)}\n",
    "print(squares)"
   ]
  },
  {
   "cell_type": "code",
   "execution_count": 14,
   "id": "f5c061bf-107e-474c-b9a4-a9767b95c4f0",
   "metadata": {},
   "outputs": [
    {
     "name": "stdout",
     "output_type": "stream",
     "text": [
      "Unique list [1, 2, 3, 4, 6, 7, 8, 9, 5]\n"
     ]
    }
   ],
   "source": [
    "#Remove Duplicates Without Using Set\n",
    "\n",
    "nums = [1, 2, 2, 3, 4, 6, 6, 7, 7, 7, 8, 8, 9, 4, 5]\n",
    "unique = []\n",
    "for num in nums:\n",
    "    if num not in unique:\n",
    "        unique.append(num)\n",
    "print(\"Unique list\", unique)"
   ]
  },
  {
   "cell_type": "code",
   "execution_count": 16,
   "id": "ed321c57-985e-4299-879f-e70913434192",
   "metadata": {},
   "outputs": [
    {
     "name": "stdin",
     "output_type": "stream",
     "text": [
      "Enter a sentence:  I am Rutuja Khose , I am a studant.\n"
     ]
    },
    {
     "name": "stdout",
     "output_type": "stream",
     "text": [
      "Average word length: 3.0\n"
     ]
    }
   ],
   "source": [
    "#Find Average Word Length in a Sentence\n",
    "\n",
    "sentence = input(\"Enter a sentence: \")\n",
    "words = sentence.split()\n",
    "avg_len = sum(len(word) for word in words) / len(words)\n",
    "print(\"Average word length:\", round(avg_len, 2))"
   ]
  },
  {
   "cell_type": "code",
   "execution_count": 18,
   "id": "55cd8d06-0851-4195-bf52-f8ac320ea74e",
   "metadata": {},
   "outputs": [
    {
     "name": "stdin",
     "output_type": "stream",
     "text": [
      "Enter your birth year:  2003\n"
     ]
    },
    {
     "name": "stdout",
     "output_type": "stream",
     "text": [
      "Your age is 22\n"
     ]
    }
   ],
   "source": [
    "#Calculate Age from Year of Birth\n",
    "\n",
    "year = int(input(\"Enter your birth year: \"))\n",
    "from datetime import date\n",
    "age = date.today().year - year\n",
    "print(\"Your age is\", age)"
   ]
  },
  {
   "cell_type": "code",
   "execution_count": 23,
   "id": "cfd934ff-6900-45a2-874c-8145eced404a",
   "metadata": {},
   "outputs": [
    {
     "name": "stdout",
     "output_type": "stream",
     "text": [
      "Longest word:- analytics\n"
     ]
    }
   ],
   "source": [
    "#Find the Longest Word in a List\n",
    "\n",
    "words = [\"pharmacy\", \"analytics\", \"python\", \"AI\"]\n",
    "longest = max(words, key=len)\n",
    "print(\"Longest word:-\", longest)"
   ]
  },
  {
   "cell_type": "code",
   "execution_count": 25,
   "id": "f84260e9-4f7a-40ee-9741-b40fdc2596cb",
   "metadata": {},
   "outputs": [
    {
     "name": "stdout",
     "output_type": "stream",
     "text": [
      "Not sorted\n"
     ]
    }
   ],
   "source": [
    "#Check if a List is Sorted\n",
    "\n",
    "nums = [1, 2, 3, 2, 3, 4]\n",
    "print(\"Sorted\" if nums == sorted(nums) else \"Not sorted\")"
   ]
  },
  {
   "cell_type": "code",
   "execution_count": 28,
   "id": "f506aab7-09c0-4329-9561-5a27c78a10d5",
   "metadata": {},
   "outputs": [
    {
     "name": "stdout",
     "output_type": "stream",
     "text": [
      "{'a': 2, 'b': 1, 'c': 3, 'd': 4, 'e': 5}\n"
     ]
    }
   ],
   "source": [
    "#Swap Two Dictionary Keys’ Values\n",
    "\n",
    "data = {'a': 1, 'b': 2, 'c': 3, 'd': 4, 'e': 5}\n",
    "data['a'], data['b'] = data['b'], data['a']\n",
    "print(data)"
   ]
  },
  {
   "cell_type": "code",
   "execution_count": null,
   "id": "a77934e0-4900-4485-b1c1-66261b508c41",
   "metadata": {},
   "outputs": [],
   "source": []
  }
 ],
 "metadata": {
  "kernelspec": {
   "display_name": "Python 3 (ipykernel)",
   "language": "python",
   "name": "python3"
  },
  "language_info": {
   "codemirror_mode": {
    "name": "ipython",
    "version": 3
   },
   "file_extension": ".py",
   "mimetype": "text/x-python",
   "name": "python",
   "nbconvert_exporter": "python",
   "pygments_lexer": "ipython3",
   "version": "3.13.5"
  }
 },
 "nbformat": 4,
 "nbformat_minor": 5
}
