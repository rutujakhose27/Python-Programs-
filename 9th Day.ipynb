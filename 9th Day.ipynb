{
 "cells": [
  {
   "cell_type": "code",
   "execution_count": 2,
   "id": "e665e577-7256-4298-90fc-337267be697e",
   "metadata": {},
   "outputs": [
    {
     "name": "stdout",
     "output_type": "stream",
     "text": [
      "Twinkle, twinkle, little star,\n",
      "    How I wonder what you are!\n",
      "        Up above the world so high,\n",
      "        Like a diamond in the sky.\n",
      "Twinkle, twinkle, little star,\n",
      "    How I wonder what you are\n"
     ]
    }
   ],
   "source": [
    "#write a poem\n",
    "# Sample Python program to print the given string\n",
    "\n",
    "print(\"Twinkle, twinkle, little star,\")\n",
    "print(\"    How I wonder what you are!\")\n",
    "print(\"        Up above the world so high,\")\n",
    "print(\"        Like a diamond in the sky.\")\n",
    "print(\"Twinkle, twinkle, little star,\")\n",
    "print(\"    How I wonder what you are\")"
   ]
  },
  {
   "cell_type": "code",
   "execution_count": 6,
   "id": "0b5f676c-396c-40a9-8838-36d5dcbc0daf",
   "metadata": {},
   "outputs": [
    {
     "name": "stdout",
     "output_type": "stream",
     "text": [
      "Twinkle, twinkle, little star,\n",
      " How I wonder what you are!\n",
      "  Up above the world so high,\n",
      "  Like a diamond in the sky.\n",
      "Twinkle, twinkle, little star,\n",
      " How I wonder what you are\n"
     ]
    }
   ],
   "source": [
    "\n",
    "poem_lines = [(0, \"Twinkle, twinkle, little star,\"),(1, \"How I wonder what you are!\"),(2, \"Up above the world so high,\"),\n",
    "(2, \"Like a diamond in the sky.\"),(0, \"Twinkle, twinkle, little star,\"),(1, \"How I wonder what you are\")]\n",
    "\n",
    "for indent_level, line in poem_lines:\n",
    "    print(\" \" * indent_level + line)"
   ]
  },
  {
   "cell_type": "code",
   "execution_count": 7,
   "id": "26f92445-571b-4572-8a01-4128baf72dc0",
   "metadata": {},
   "outputs": [
    {
     "name": "stdin",
     "output_type": "stream",
     "text": [
      "Enter your first name Rutuja\n",
      "Enter your last name Khose\n"
     ]
    },
    {
     "name": "stdout",
     "output_type": "stream",
     "text": [
      "Reversed name order:\n",
      "Khose Rutuja\n"
     ]
    }
   ],
   "source": [
    "#Write a Python program which accepts the user's first and last name and print them in reverse order with a space between them.\n",
    "\n",
    "first_name = input(\"Enter your first name\")\n",
    "last_name = input(\"Enter your last name\")\n",
    "\n",
    "print(\"Reversed name order:\")\n",
    "print(last_name + \" \" + first_name)"
   ]
  },
  {
   "cell_type": "code",
   "execution_count": 8,
   "id": "0c7782d8-a556-4429-ac53-8be0f5fa6b03",
   "metadata": {},
   "outputs": [
    {
     "name": "stdin",
     "output_type": "stream",
     "text": [
      "Enter comma-separated numbers:  10,20,30,40,50,60\n"
     ]
    },
    {
     "name": "stdout",
     "output_type": "stream",
     "text": [
      "Generated list: ['10', '20', '30', '40', '50', '60']\n"
     ]
    }
   ],
   "source": [
    "#Write a Python program which accepts a sequence of comma-separated numbers from user and generate a list with those numbers\n",
    "\n",
    "input_str = input(\"Enter comma-separated numbers: \")\n",
    "number_list = input_str.split(\",\")\n",
    "\n",
    "print(\"Generated list:\", number_list)\n"
   ]
  },
  {
   "cell_type": "code",
   "execution_count": 13,
   "id": "2d3307e2-6277-471b-bd27-9815098f1112",
   "metadata": {},
   "outputs": [
    {
     "name": "stdin",
     "output_type": "stream",
     "text": [
      "Enter the filename:  Rutuja.py\n"
     ]
    },
    {
     "name": "stdout",
     "output_type": "stream",
     "text": [
      "The extension of the file is: py\n"
     ]
    }
   ],
   "source": [
    "#Write a Python program to accept a filename from the user and print the extension of that\n",
    "\n",
    "filename = input(\"Enter the filename: \")\n",
    "\n",
    "file_parts = filename.split(\".\")\n",
    "\n",
    "if len(file_parts) > 1:\n",
    "    print(\"The extension of the file is:\", file_parts[-1])\n",
    "else:\n",
    "    print(\"No extension found.\")"
   ]
  },
  {
   "cell_type": "code",
   "execution_count": 14,
   "id": "ebbea09d-0d65-4b2c-8c99-452ac8cb9224",
   "metadata": {},
   "outputs": [
    {
     "name": "stdout",
     "output_type": "stream",
     "text": [
      "First color: Green\n",
      "Last color: grey\n"
     ]
    }
   ],
   "source": [
    "#Write a Python program to display the first and last colors from the following list color_list = [\"yellow\",\"Green\",\"grey\" ,\"orange\"]\n",
    "\n",
    "color_list = [\"yellow\", \"Green\", \"grey\", \"orange\"]\n",
    "\n",
    "print(\"First color:\", color_list[1])\n",
    "print(\"Last color:\", color_list[-2])"
   ]
  },
  {
   "cell_type": "code",
   "execution_count": 15,
   "id": "b4bab3fc-1550-4b7a-844d-313a1b8108b5",
   "metadata": {},
   "outputs": [
    {
     "name": "stdin",
     "output_type": "stream",
     "text": [
      "Enter an integer 23\n"
     ]
    },
    {
     "name": "stdout",
     "output_type": "stream",
     "text": [
      "Result of n + nn + nnn is: 234669\n"
     ]
    }
   ],
   "source": [
    "#Write a Python program that accepts an integer (n) and computes the value of n+nn+nnn\n",
    "\n",
    "n = input(\"Enter an integer\")\n",
    "result = int(n) + int(n*2) + int(n*3)\n",
    "print(\"Result of n + nn + nnn is:\", result)"
   ]
  },
  {
   "cell_type": "code",
   "execution_count": 19,
   "id": "48bce1d4-dd3a-480b-ae40-b4a92b04545c",
   "metadata": {},
   "outputs": [
    {
     "name": "stdout",
     "output_type": "stream",
     "text": [
      "Integer value: 1876\n",
      "Type: <class 'int'>\n",
      "\n",
      "Float value: 17.5\n",
      "Type: <class 'float'>\n",
      "\n",
      "Complex number: (10+7j)\n",
      "Type: <class 'complex'>\n"
     ]
    }
   ],
   "source": [
    "#Write a program to demonstrate different number data types in Python.\n",
    "\n",
    "# Integer\n",
    "int_num = 1876\n",
    "print(\"Integer value:\", int_num)\n",
    "print(\"Type:\", type(int_num))\n",
    "\n",
    "# Float\n",
    "float_num = 17.5\n",
    "print(\"\\nFloat value:\", float_num)\n",
    "print(\"Type:\", type(float_num))\n",
    "\n",
    "# Complex\n",
    "complex_num = 10 + 7j\n",
    "print(\"\\nComplex number:\", complex_num)\n",
    "print(\"Type:\", type(complex_num))"
   ]
  },
  {
   "cell_type": "code",
   "execution_count": 21,
   "id": "d0912451-1c82-44fa-b3f3-945c45823118",
   "metadata": {},
   "outputs": [
    {
     "name": "stdout",
     "output_type": "stream",
     "text": [
      "Sum of the array is: 450\n"
     ]
    }
   ],
   "source": [
    "#Python Program to find sum of array\n",
    "\n",
    "arr = [10, 20, 30, 40, 50,60,70,80,90]\n",
    "total = sum(arr)\n",
    "print(\"Sum of the array is:\", total)"
   ]
  },
  {
   "cell_type": "code",
   "execution_count": 23,
   "id": "5d53405f-cb6e-4df9-8504-fc2c0ca5eb49",
   "metadata": {},
   "outputs": [
    {
     "name": "stdout",
     "output_type": "stream",
     "text": [
      "Concatenated String: Hello World\n",
      "Substring (first 5 characters): Hello\n",
      "Substring (from index 6): World\n"
     ]
    }
   ],
   "source": [
    "#Write a program to create, concatenate and print a string and accessing sub-string from a given string\n",
    "\n",
    "str1 = \"Hello\"\n",
    "str2 = \"World\"\n",
    "\n",
    "full_str = str1 + \" \" + str2\n",
    "\n",
    "print(\"Concatenated String:\", full_str)\n",
    "\n",
    "substring = full_str[0:5]\n",
    "print(\"Substring (first 5 characters):\", substring)\n",
    "\n",
    "substring2 = full_str[6:]\n",
    "print(\"Substring (from index 6):\", substring2)"
   ]
  },
  {
   "cell_type": "code",
   "execution_count": 4,
   "id": "dc4cd6de-7038-49f9-bdcb-a2862575376a",
   "metadata": {},
   "outputs": [
    {
     "name": "stdout",
     "output_type": "stream",
     "text": [
      "    * \n",
      "   * * \n",
      "  * * * \n",
      " * * * * \n",
      "* * * * * \n"
     ]
    }
   ],
   "source": [
    "#Write a Python program to construct the following pattern, using a nested for loop\n",
    "#    *\n",
    "#   * *\n",
    "#  * * *\n",
    "# * * * *\n",
    "#* * * * *\n",
    "# * * * *\n",
    "#  * * *\n",
    "#   * *\n",
    "#    *\n",
    "\n",
    "n = 5\n",
    "for i in range(1, n + 1):\n",
    "    print(\" \" * (n - i) + \"* \" * i)\n",
    "\n",
    "#for i in range(n - 1, 0, -1):\n",
    "    #print(\" \" * (n - i) + \"* \" * i)"
   ]
  },
  {
   "cell_type": "code",
   "execution_count": 7,
   "id": "a9bf1c90-460c-4619-b9c4-798faa08de84",
   "metadata": {},
   "outputs": [
    {
     "name": "stdout",
     "output_type": "stream",
     "text": [
      "    * \n",
      "   * * \n",
      "  * * * \n",
      " * * * * \n",
      "* * * * * \n",
      " * * * * \n",
      "  * * * \n",
      "   * * \n",
      "    * \n"
     ]
    }
   ],
   "source": [
    "#Write a Python program to construct the following pattern, using a nested for loop\n",
    "#    *\n",
    "#   * *\n",
    "#  * * *\n",
    "# * * * *\n",
    "#* * * * *\n",
    "# * * * *\n",
    "#  * * *\n",
    "#   * *\n",
    "#    *\n",
    "\n",
    "n = 5\n",
    "for i in range(1, n + 1):\n",
    "    print(\" \" * (n - i) + \"* \" * i)\n",
    "\n",
    "for i in range(n - 1, 0, -1):\n",
    "    print(\" \" * (n - i) + \"* \" * i)"
   ]
  },
  {
   "cell_type": "code",
   "execution_count": null,
   "id": "fdeace6d-da7a-41bf-86b1-6fb3f2ae8a86",
   "metadata": {},
   "outputs": [],
   "source": []
  }
 ],
 "metadata": {
  "kernelspec": {
   "display_name": "Python 3 (ipykernel)",
   "language": "python",
   "name": "python3"
  },
  "language_info": {
   "codemirror_mode": {
    "name": "ipython",
    "version": 3
   },
   "file_extension": ".py",
   "mimetype": "text/x-python",
   "name": "python",
   "nbconvert_exporter": "python",
   "pygments_lexer": "ipython3",
   "version": "3.13.5"
  }
 },
 "nbformat": 4,
 "nbformat_minor": 5
}
